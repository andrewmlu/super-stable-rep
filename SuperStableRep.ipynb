{
  "cells": [
    {
      "cell_type": "code",
      "execution_count": null,
      "metadata": {
        "id": "0eRPN5gG-3JY"
      },
      "outputs": [],
      "source": [
        "from google.colab import drive\n",
        "drive.mount('/content/drive', force_remount=True)"
      ]
    },
    {
      "cell_type": "code",
      "execution_count": null,
      "metadata": {
        "id": "A2NDoRawkfwI"
      },
      "outputs": [],
      "source": [
        "# Multi-Positive Only (StableRep)\n",
        "!python drive/MyDrive/Super-Stable-Rep/main_stablerep.py \\\n",
        "    --model base \\\n",
        "    --batch_size 16 \\\n",
        "    --epochs 15 --warmup_epochs 0.5 \\\n",
        "    --blr 2.0e-4 --weight_decay 0.1 --beta1 0.9 --beta2 0.98 \\\n",
        "    --num_workers 14 \\\n",
        "    --csv_path drive/MyDrive/Super-Stable-Rep/data/img-captions.csv \\\n",
        "    --folder_list /content/drive/MyDrive/CS242-SD-imgs/ \\\n",
        "    --n_img 6 --downsample --downsample_prob 0.05 --down_res 64 128 \\\n",
        "    --output_dir drive/MyDrive/Super-Stable-Rep/output_model_pos \\\n",
        "    --log_dir drive/MyDrive/Super-Stable-Rep/output_log_pos \\"
      ]
    },
    {
      "cell_type": "code",
      "execution_count": null,
      "metadata": {
        "id": "0qt1HkNS3Bay"
      },
      "outputs": [],
      "source": [
        "# # Multi-Positive and Multi-Negative (SuperStableRep)\n",
        "!python drive/MyDrive/Super-Stable-Rep/main_stablerep.py \\\n",
        "    --model base \\\n",
        "    --batch_size 16 \\\n",
        "    --epochs 15 --warmup_epochs 0.5 \\\n",
        "    --blr 2.0e-4 --weight_decay 0.1 --beta1 0.9 --beta2 0.98 \\\n",
        "    --num_workers 14 \\\n",
        "    --csv_path drive/MyDrive/Super-Stable-Rep/data/img-captions.csv \\\n",
        "    --n_img 6 --downsample --downsample_prob 0.05 --down_res 64 128 \\\n",
        "    --folder_list /content/drive/MyDrive/CS242-SD-imgs/ \\\n",
        "    --output_dir drive/MyDrive/Super-Stable-Rep/output_model_neg \\\n",
        "    --log_dir drive/MyDrive/Super-Stable-Rep/output_log_neg \\\n",
        "    --neg \\"
      ]
    },
    {
      "cell_type": "code",
      "execution_count": null,
      "metadata": {
        "id": "X-yorPhNuiz2"
      },
      "outputs": [],
      "source": [
        "# StableRep Linear Probing\n",
        "!python drive/MyDrive/Super-Stable-Rep/main_linear.py --model base --data ... \\\n",
        "  --pretrained drive/MyDrive/Super-Stable-Rep/output_model_pos/epoch_last.pth \\\n",
        "  --output-dir drive/MyDrive/Super-Stable-Rep/output_linear_save_pos \\\n",
        "  --log-dir drive/MyDrive/Super-Stable-Rep/tensorboard_folder_pos \\\n",
        "  --data drive/MyDrive/ImageNet \\\n",
        "  --num-classes 1000 \\\n",
        "  --epochs 10 \\"
      ]
    },
    {
      "cell_type": "code",
      "execution_count": null,
      "metadata": {
        "id": "0M5SE4CXP4Bn"
      },
      "outputs": [],
      "source": [
        "# SuperStableRep Linear Probing\n",
        "!python drive/MyDrive/Super-Stable-Rep/main_linear.py --model base --data ... \\\n",
        "  --pretrained drive/MyDrive/Super-Stable-Rep/output_model_neg/epoch_last.pth \\\n",
        "  --output-dir drive/MyDrive/Super-Stable-Rep/output_linear_save_neg_in \\\n",
        "  --log-dir drive/MyDrive/Super-Stable-Rep/tensorboard_folder_neg_in \\\n",
        "  --data drive/MyDrive/ImageNet \\\n",
        "  --num-classes 1000 \\\n",
        "  --epochs 10 \\"
      ]
    }
  ],
  "metadata": {
    "accelerator": "GPU",
    "colab": {
      "machine_shape": "hm",
      "provenance": [],
      "gpuType": "V100"
    },
    "kernelspec": {
      "display_name": "Python 3",
      "name": "python3"
    },
    "language_info": {
      "name": "python"
    }
  },
  "nbformat": 4,
  "nbformat_minor": 0
}