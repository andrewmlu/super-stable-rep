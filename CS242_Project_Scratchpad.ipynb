{
  "cells": [
    {
      "cell_type": "markdown",
      "metadata": {
        "id": "view-in-github",
        "colab_type": "text"
      },
      "source": [
        "<a href=\"https://colab.research.google.com/github/andrewmlu/super-stable-rep/blob/main/CS242_Project_Scratchpad.ipynb\" target=\"_parent\"><img src=\"https://colab.research.google.com/assets/colab-badge.svg\" alt=\"Open In Colab\"/></a>"
      ]
    },
    {
      "cell_type": "code",
      "source": [
        "from google.colab import drive\n",
        "import os\n",
        "drive.mount('/content/drive')\n",
        "os.chdir(\"/content/drive/My Drive/!!!Drive/CS242-SD-imgs\")"
      ],
      "metadata": {
        "id": "Cp4dEsjt7bXl",
        "colab": {
          "base_uri": "https://localhost:8080/"
        },
        "outputId": "9ddd8364-b469-408d-b157-b63f3d40db7c"
      },
      "execution_count": null,
      "outputs": [
        {
          "output_type": "stream",
          "name": "stdout",
          "text": [
            "Drive already mounted at /content/drive; to attempt to forcibly remount, call drive.mount(\"/content/drive\", force_remount=True).\n"
          ]
        }
      ]
    },
    {
      "cell_type": "code",
      "execution_count": null,
      "metadata": {
        "id": "Fk_BYUG62CSl"
      },
      "outputs": [],
      "source": [
        "import requests\n",
        "import json\n",
        "from PIL import Image\n",
        "import time\n",
        "import re\n",
        "import math\n",
        "import numpy as np\n",
        "import random\n",
        "import datetime\n",
        "import csv"
      ]
    },
    {
      "cell_type": "code",
      "source": [
        "NUM_IMAGES_PER_PROMPT = 24\n",
        "NUM_IMAGES_PER_CALL = 4"
      ],
      "metadata": {
        "id": "VhSYDBYSU1TN"
      },
      "execution_count": null,
      "outputs": []
    },
    {
      "cell_type": "code",
      "execution_count": null,
      "metadata": {
        "id": "JouL7jKF2CSi"
      },
      "outputs": [],
      "source": [
        "url = \"https://stablediffusionapi.com/api/v3/text2img\"\n",
        "\n",
        "def call_api(prompt, negative_prompt = None):\n",
        "\n",
        "  # temp api key included\n",
        "  payload = json.dumps({\n",
        "    \"key\": \"tgc1aN0Kk9ieQBgoVT1dssH0hvpeEap2YOMBEJIHYyUo2wnenimTpln5tnPO\",\n",
        "    \"prompt\": prompt,\n",
        "    \"negative_prompt\": negative_prompt,\n",
        "    \"width\": \"512\",\n",
        "    \"height\": \"512\",\n",
        "    \"samples\": NUM_IMAGES_PER_CALL,\n",
        "    \"num_inference_steps\": \"31\",\n",
        "    \"seed\": None,\n",
        "    \"guidance_scale\": 7.5,\n",
        "    \"safety_checker\": \"yes\",\n",
        "    \"multi_lingual\": \"no\",\n",
        "    \"panorama\": \"no\",\n",
        "    \"self_attention\": \"no\",\n",
        "    \"upscale\": \"no\",\n",
        "    \"embeddings_model\": None,\n",
        "    \"webhook\": None,\n",
        "    \"track_id\": None\n",
        "  })\n",
        "\n",
        "  headers = {\n",
        "    'Content-Type': 'application/json'\n",
        "  }\n",
        "\n",
        "  response = requests.request(\"POST\", url, headers=headers, data=payload)\n",
        "\n",
        "  return response\n"
      ]
    },
    {
      "cell_type": "code",
      "execution_count": null,
      "metadata": {
        "id": "i3f9mn7J2CSk"
      },
      "outputs": [],
      "source": [
        "# response = call_api(\"golden labrador in a field of sunflowers\")\n",
        "# img_srcs = json.loads(response.text)['output']\n",
        "# img_srcs"
      ]
    },
    {
      "cell_type": "code",
      "source": [
        "# GPT-4 turbo\n",
        "def save_img(url, filepath=''):\n",
        "\n",
        "  # This statement requests the resource at\n",
        "  # the given link, extracts its contents\n",
        "  # and saves it in a variable\n",
        "  data = requests.get(url).content\n",
        "  # print(data)\n",
        "\n",
        "  # Opening a new file named img with extension .png\n",
        "  # This file would store the data of the image file\n",
        "  filename = filepath + re.search(r'[^/]*$', url).group()\n",
        "  f = open(filename,'wb')\n",
        "\n",
        "  # Storing the image data inside the data variable to the file\n",
        "  f.write(data)\n",
        "  f.close()\n",
        "\n",
        "  # Opening the saved image and displaying it\n",
        "  # img = Image.open(filename)\n",
        "  # img.show()\n"
      ],
      "metadata": {
        "id": "Ed7f-qWp50Ed"
      },
      "execution_count": null,
      "outputs": []
    },
    {
      "cell_type": "code",
      "source": [
        "def save_imgs_from_prompt(prompt, negative_prompt=None, num_imgs=NUM_IMAGES_PER_PROMPT, filepath=''):\n",
        "  count = 0\n",
        "  while count < NUM_IMAGES_PER_PROMPT: # cannot simply use for-loop, instead use while-loop\n",
        "    print(count)\n",
        "    response = call_api(prompt, negative_prompt) # minor debug: put response, img_srcs inside loop\n",
        "    print(response.text)\n",
        "    img_srcs = json.loads(response.text)['output']\n",
        "    if json.loads(response.text)['status'] == \"success\":\n",
        "      for url in img_srcs:\n",
        "        print(url)\n",
        "        save_img(url, filepath=filepath)\n",
        "        save_img_caption(prompt, url, filepath=filepath)\n",
        "      count += len(img_srcs)"
      ],
      "metadata": {
        "id": "_WnT0vOm6e84"
      },
      "execution_count": null,
      "outputs": []
    },
    {
      "cell_type": "code",
      "source": [
        "def save_imgs_from_synset(index, synset, num_imgs=NUM_IMAGES_PER_CALL, filepath=''):\n",
        "  word = random.choice(synset)\n",
        "  prompt = select_prompt(index, word)\n",
        "  count = 0\n",
        "  while count < num_imgs: # cannot simply use for-loop, instead use while-loop\n",
        "    print(count)\n",
        "    response = call_api(prompt, negative_prompt=None) # minor debug: put response, img_srcs inside loop\n",
        "    print(response.text)\n",
        "    img_srcs = json.loads(response.text)['output']\n",
        "    if json.loads(response.text)['status'] == \"success\":\n",
        "      time.sleep(0.5)\n",
        "      for url in img_srcs:\n",
        "        print(url)\n",
        "        save_img(url, filepath=filepath)\n",
        "        save_img_caption(prompt, url, filepath=filepath)\n",
        "      count += len(img_srcs)"
      ],
      "metadata": {
        "id": "0wvRz-A0i5Y2"
      },
      "execution_count": null,
      "outputs": []
    },
    {
      "cell_type": "code",
      "source": [
        "def save_img_caption(prompt, url, filepath='', filetype='.png'):\n",
        "  timestamp = datetime.datetime.now().strftime('%Y-%m-%d %H:%M:%S')\n",
        "  src = filepath + re.search(r'[^/]*$', url).group()\n",
        "  # using open('w') would truncate/delete existing data, using 'a' for append instead\n",
        "  with open('img-captions.csv', 'a', newline='') as f: # https://stackoverflow.com/questions/6159900/correct-way-to-write-line-to-file\n",
        "\n",
        "    w = csv.writer(f) # GPT-4 turbo for csv\n",
        "    w.writerow([timestamp, src, prompt])\n",
        "      # f.write(re.sub(filetype + '$', '', src) + \": \" + prompt) # GPT-4 turbo, if needed to remove filetype\n",
        "\n"
      ],
      "metadata": {
        "id": "ayC81BVSUdLw"
      },
      "execution_count": null,
      "outputs": []
    },
    {
      "cell_type": "code",
      "source": [
        "!ls"
      ],
      "metadata": {
        "colab": {
          "base_uri": "https://localhost:8080/"
        },
        "id": "i9YPMGn9YzHl",
        "outputId": "0b2675b4-03b1-4037-b766-984b6117d9f6"
      },
      "execution_count": null,
      "outputs": [
        {
          "output_type": "stream",
          "name": "stdout",
          "text": [
            "batch1\tCS242-SD-imgs  img-captions.csv  img-captions.txt  synsets.txt\n"
          ]
        }
      ]
    },
    {
      "cell_type": "code",
      "source": [
        "save_imgs_from_prompt(\"golden labrador in a field of sunflowers\", filepath='batch1/')"
      ],
      "metadata": {
        "colab": {
          "base_uri": "https://localhost:8080/"
        },
        "id": "mmVThuMr6hHN",
        "outputId": "7f66824b-912d-4362-8cd8-4a4ef235ab56"
      },
      "execution_count": null,
      "outputs": [
        {
          "output_type": "stream",
          "name": "stdout",
          "text": [
            "0\n",
            "{\"status\":\"success\",\"tip\":\"Get 20x faster image generation using enterprise plan. Click here : https:\\/\\/stablediffusionapi.com\\/enterprise\",\"generationTime\":6.606220483779907,\"id\":56320639,\"output\":[\"https:\\/\\/cdn2.stablediffusionapi.com\\/generations\\/388e852b-3777-4647-b80d-7d25cf7c476b-0.png\",\"https:\\/\\/cdn2.stablediffusionapi.com\\/generations\\/388e852b-3777-4647-b80d-7d25cf7c476b-1.png\",\"https:\\/\\/cdn2.stablediffusionapi.com\\/generations\\/388e852b-3777-4647-b80d-7d25cf7c476b-2.png\",\"https:\\/\\/cdn2.stablediffusionapi.com\\/generations\\/388e852b-3777-4647-b80d-7d25cf7c476b-3.png\"],\"proxy_links\":\"\",\"nsfw_content_detected\":\"\",\"meta\":{\"H\":512,\"W\":512,\"enable_attention_slicing\":\"true\",\"file_prefix\":\"388e852b-3777-4647-b80d-7d25cf7c476b\",\"guidance_scale\":7.5,\"instant_response\":\"no\",\"model\":\"runwayml\\/stable-diffusion-v1-5\",\"n_samples\":4,\"negative_prompt\":\"low quality\",\"outdir\":\"out\",\"prompt\":\"golden labrador in a field of sunflowers\",\"revision\":\"fp16\",\"safetychecker\":\"yes\",\"seed\":2851968626,\"steps\":30,\"vae\":\"stabilityai\\/sd-vae-ft-mse\"}}\n",
            "https://cdn2.stablediffusionapi.com/generations/388e852b-3777-4647-b80d-7d25cf7c476b-0.png\n",
            "https://cdn2.stablediffusionapi.com/generations/388e852b-3777-4647-b80d-7d25cf7c476b-1.png\n",
            "https://cdn2.stablediffusionapi.com/generations/388e852b-3777-4647-b80d-7d25cf7c476b-2.png\n",
            "https://cdn2.stablediffusionapi.com/generations/388e852b-3777-4647-b80d-7d25cf7c476b-3.png\n",
            "4\n",
            "{\"status\":\"success\",\"tip\":\"Get 20x faster image generation using enterprise plan. Click here : https:\\/\\/stablediffusionapi.com\\/enterprise\",\"generationTime\":6.4112958908081055,\"id\":56320677,\"output\":[\"https:\\/\\/cdn2.stablediffusionapi.com\\/generations\\/393efa40-2c70-44ed-b2a0-8c1bfb9c1cff-0.png\",\"https:\\/\\/cdn2.stablediffusionapi.com\\/generations\\/393efa40-2c70-44ed-b2a0-8c1bfb9c1cff-1.png\",\"https:\\/\\/cdn2.stablediffusionapi.com\\/generations\\/393efa40-2c70-44ed-b2a0-8c1bfb9c1cff-2.png\",\"https:\\/\\/cdn2.stablediffusionapi.com\\/generations\\/393efa40-2c70-44ed-b2a0-8c1bfb9c1cff-3.png\"],\"proxy_links\":\"\",\"nsfw_content_detected\":\"\",\"meta\":{\"H\":512,\"W\":512,\"enable_attention_slicing\":\"true\",\"file_prefix\":\"393efa40-2c70-44ed-b2a0-8c1bfb9c1cff\",\"guidance_scale\":7.5,\"instant_response\":\"no\",\"model\":\"runwayml\\/stable-diffusion-v1-5\",\"n_samples\":4,\"negative_prompt\":\"low quality\",\"outdir\":\"out\",\"prompt\":\"golden labrador in a field of sunflowers\",\"revision\":\"fp16\",\"safetychecker\":\"yes\",\"seed\":3041009524,\"steps\":30,\"vae\":\"stabilityai\\/sd-vae-ft-mse\"}}\n",
            "https://cdn2.stablediffusionapi.com/generations/393efa40-2c70-44ed-b2a0-8c1bfb9c1cff-0.png\n",
            "https://cdn2.stablediffusionapi.com/generations/393efa40-2c70-44ed-b2a0-8c1bfb9c1cff-1.png\n",
            "https://cdn2.stablediffusionapi.com/generations/393efa40-2c70-44ed-b2a0-8c1bfb9c1cff-2.png\n",
            "https://cdn2.stablediffusionapi.com/generations/393efa40-2c70-44ed-b2a0-8c1bfb9c1cff-3.png\n",
            "8\n",
            "{\"status\":\"success\",\"tip\":\"Get 20x faster image generation using enterprise plan. Click here : https:\\/\\/stablediffusionapi.com\\/enterprise\",\"generationTime\":3.572847366333008,\"id\":56320705,\"output\":[\"https:\\/\\/cdn2.stablediffusionapi.com\\/generations\\/f0496207-7c58-4d2f-ae1f-7a81d1b08aa1-0.png\",\"https:\\/\\/cdn2.stablediffusionapi.com\\/generations\\/f0496207-7c58-4d2f-ae1f-7a81d1b08aa1-1.png\",\"https:\\/\\/cdn2.stablediffusionapi.com\\/generations\\/f0496207-7c58-4d2f-ae1f-7a81d1b08aa1-2.png\",\"https:\\/\\/cdn2.stablediffusionapi.com\\/generations\\/f0496207-7c58-4d2f-ae1f-7a81d1b08aa1-3.png\"],\"proxy_links\":\"\",\"nsfw_content_detected\":\"\",\"meta\":{\"H\":512,\"W\":512,\"enable_attention_slicing\":\"true\",\"file_prefix\":\"f0496207-7c58-4d2f-ae1f-7a81d1b08aa1\",\"guidance_scale\":7.5,\"instant_response\":\"no\",\"model\":\"runwayml\\/stable-diffusion-v1-5\",\"n_samples\":4,\"negative_prompt\":\"low quality\",\"outdir\":\"out\",\"prompt\":\"golden labrador in a field of sunflowers\",\"revision\":\"fp16\",\"safetychecker\":\"yes\",\"seed\":327589580,\"steps\":30,\"vae\":\"stabilityai\\/sd-vae-ft-mse\"}}\n",
            "https://cdn2.stablediffusionapi.com/generations/f0496207-7c58-4d2f-ae1f-7a81d1b08aa1-0.png\n",
            "https://cdn2.stablediffusionapi.com/generations/f0496207-7c58-4d2f-ae1f-7a81d1b08aa1-1.png\n",
            "https://cdn2.stablediffusionapi.com/generations/f0496207-7c58-4d2f-ae1f-7a81d1b08aa1-2.png\n",
            "https://cdn2.stablediffusionapi.com/generations/f0496207-7c58-4d2f-ae1f-7a81d1b08aa1-3.png\n",
            "12\n",
            "{\"status\":\"success\",\"tip\":\"Get 20x faster image generation using enterprise plan. Click here : https:\\/\\/stablediffusionapi.com\\/enterprise\",\"generationTime\":2.4994242191314697,\"id\":56320727,\"output\":[\"https:\\/\\/cdn2.stablediffusionapi.com\\/generations\\/96c5198c-666c-4757-9e84-9567f5b95fb4-0.png\",\"https:\\/\\/cdn2.stablediffusionapi.com\\/generations\\/96c5198c-666c-4757-9e84-9567f5b95fb4-1.png\",\"https:\\/\\/cdn2.stablediffusionapi.com\\/generations\\/96c5198c-666c-4757-9e84-9567f5b95fb4-2.png\",\"https:\\/\\/cdn2.stablediffusionapi.com\\/generations\\/96c5198c-666c-4757-9e84-9567f5b95fb4-3.png\"],\"proxy_links\":\"\",\"nsfw_content_detected\":\"\",\"meta\":{\"H\":512,\"W\":512,\"enable_attention_slicing\":\"true\",\"file_prefix\":\"96c5198c-666c-4757-9e84-9567f5b95fb4\",\"guidance_scale\":7.5,\"instant_response\":\"no\",\"model\":\"runwayml\\/stable-diffusion-v1-5\",\"n_samples\":4,\"negative_prompt\":\"low quality\",\"outdir\":\"out\",\"prompt\":\"golden labrador in a field of sunflowers\",\"revision\":\"fp16\",\"safetychecker\":\"yes\",\"seed\":4175081053,\"steps\":30,\"vae\":\"stabilityai\\/sd-vae-ft-mse\"}}\n",
            "https://cdn2.stablediffusionapi.com/generations/96c5198c-666c-4757-9e84-9567f5b95fb4-0.png\n",
            "https://cdn2.stablediffusionapi.com/generations/96c5198c-666c-4757-9e84-9567f5b95fb4-1.png\n",
            "https://cdn2.stablediffusionapi.com/generations/96c5198c-666c-4757-9e84-9567f5b95fb4-2.png\n",
            "https://cdn2.stablediffusionapi.com/generations/96c5198c-666c-4757-9e84-9567f5b95fb4-3.png\n",
            "16\n",
            "{\"status\":\"success\",\"tip\":\"Get 20x faster image generation using enterprise plan. Click here : https:\\/\\/stablediffusionapi.com\\/enterprise\",\"generationTime\":2.5061209201812744,\"id\":56320763,\"output\":[\"https:\\/\\/cdn2.stablediffusionapi.com\\/generations\\/c1c4e61b-df27-4c71-a207-dae5d1f7bec2-0.png\",\"https:\\/\\/cdn2.stablediffusionapi.com\\/generations\\/c1c4e61b-df27-4c71-a207-dae5d1f7bec2-1.png\",\"https:\\/\\/cdn2.stablediffusionapi.com\\/generations\\/c1c4e61b-df27-4c71-a207-dae5d1f7bec2-2.png\",\"https:\\/\\/cdn2.stablediffusionapi.com\\/generations\\/c1c4e61b-df27-4c71-a207-dae5d1f7bec2-3.png\"],\"proxy_links\":\"\",\"nsfw_content_detected\":\"\",\"meta\":{\"H\":512,\"W\":512,\"enable_attention_slicing\":\"true\",\"file_prefix\":\"c1c4e61b-df27-4c71-a207-dae5d1f7bec2\",\"guidance_scale\":7.5,\"instant_response\":\"no\",\"model\":\"runwayml\\/stable-diffusion-v1-5\",\"n_samples\":4,\"negative_prompt\":\"low quality\",\"outdir\":\"out\",\"prompt\":\"golden labrador in a field of sunflowers\",\"revision\":\"fp16\",\"safetychecker\":\"yes\",\"seed\":1185985040,\"steps\":30,\"vae\":\"stabilityai\\/sd-vae-ft-mse\"}}\n",
            "https://cdn2.stablediffusionapi.com/generations/c1c4e61b-df27-4c71-a207-dae5d1f7bec2-0.png\n",
            "https://cdn2.stablediffusionapi.com/generations/c1c4e61b-df27-4c71-a207-dae5d1f7bec2-1.png\n",
            "https://cdn2.stablediffusionapi.com/generations/c1c4e61b-df27-4c71-a207-dae5d1f7bec2-2.png\n",
            "https://cdn2.stablediffusionapi.com/generations/c1c4e61b-df27-4c71-a207-dae5d1f7bec2-3.png\n",
            "20\n",
            "{\"status\":\"success\",\"tip\":\"Get 20x faster image generation using enterprise plan. Click here : https:\\/\\/stablediffusionapi.com\\/enterprise\",\"generationTime\":10.298423051834106,\"id\":56320798,\"output\":[\"https:\\/\\/cdn2.stablediffusionapi.com\\/generations\\/be77b687-30f4-4f9e-a5fb-d708e31c9864-0.png\",\"https:\\/\\/cdn2.stablediffusionapi.com\\/generations\\/be77b687-30f4-4f9e-a5fb-d708e31c9864-1.png\",\"https:\\/\\/cdn2.stablediffusionapi.com\\/generations\\/be77b687-30f4-4f9e-a5fb-d708e31c9864-2.png\",\"https:\\/\\/cdn2.stablediffusionapi.com\\/generations\\/be77b687-30f4-4f9e-a5fb-d708e31c9864-3.png\"],\"proxy_links\":\"\",\"nsfw_content_detected\":\"\",\"meta\":{\"H\":512,\"W\":512,\"enable_attention_slicing\":\"true\",\"file_prefix\":\"be77b687-30f4-4f9e-a5fb-d708e31c9864\",\"guidance_scale\":7.5,\"instant_response\":\"no\",\"model\":\"runwayml\\/stable-diffusion-v1-5\",\"n_samples\":4,\"negative_prompt\":\"low quality\",\"outdir\":\"out\",\"prompt\":\"golden labrador in a field of sunflowers\",\"revision\":\"fp16\",\"safetychecker\":\"yes\",\"seed\":1422937474,\"steps\":30,\"vae\":\"stabilityai\\/sd-vae-ft-mse\"}}\n",
            "https://cdn2.stablediffusionapi.com/generations/be77b687-30f4-4f9e-a5fb-d708e31c9864-0.png\n",
            "https://cdn2.stablediffusionapi.com/generations/be77b687-30f4-4f9e-a5fb-d708e31c9864-1.png\n",
            "https://cdn2.stablediffusionapi.com/generations/be77b687-30f4-4f9e-a5fb-d708e31c9864-2.png\n",
            "https://cdn2.stablediffusionapi.com/generations/be77b687-30f4-4f9e-a5fb-d708e31c9864-3.png\n"
          ]
        }
      ]
    },
    {
      "cell_type": "code",
      "source": [
        "synsets = []\n",
        "with open('synsets.txt', 'r') as f:\n",
        "  # extract synsets, and create list of lists\n",
        "  synsets = [re.search(r\":\\s(.*)\", synset).group(1).split(sep=\", \") for synset in f]  # https://stackoverflow.com/questions/10939950/simple-python-regex-match-after-colon"
      ],
      "metadata": {
        "id": "Dw4sIH1gSkix"
      },
      "execution_count": null,
      "outputs": []
    },
    {
      "cell_type": "code",
      "source": [
        "# strings = [f\"a {1} next to a tree\",\n",
        "#            f\"a {1} on the left of a building\",\n",
        "#            f\"a {1} on the right of a wall\",\n",
        "#            f\"a {1} in a bowl\",\n",
        "#            f\"a {1} on top of a hill\",\n",
        "#            f\"a {1} held in a hand\",\n",
        "#            f\"a picnic table styled with {1}\",\n",
        "#            f\"a close up of a {1}\",\n",
        "#            f\"a crowd looking upon a {1}\",\n",
        "#            f\"a nice picture of two {1}\"]\n",
        "\n",
        "# GPT-4 turbo\n",
        "# Global list of string templates\n",
        "strings = [\n",
        "    \"a {} next to a tree\",\n",
        "    \"a {} on the left of a building\",\n",
        "    \"a {} on the right of a wall\",\n",
        "    \"a {} in a bowl\",\n",
        "    \"a {} on top of a hill\",\n",
        "    \"a {} held in a hand\",\n",
        "    \"a picnic table styled with {}\",\n",
        "    \"a close up of a {}\",\n",
        "    \"a crowd looking upon a {}\",\n",
        "    \"a nice picture of two {}\"\n",
        "]\n",
        "\n",
        "def select_prompt(index, variable):\n",
        "    # Use the global strings variable\n",
        "    if 0 <= index < len(strings):\n",
        "        return strings[index].format(variable)\n",
        "    else:\n",
        "        return \"Invalid index\"\n",
        "\n",
        "# Example usage\n",
        "result = select_prompt(2, \"apple\")\n",
        "print(result)\n"
      ],
      "metadata": {
        "id": "xwZCZmtMQtoz",
        "colab": {
          "base_uri": "https://localhost:8080/"
        },
        "outputId": "40f81d61-ad96-4038-88b5-12ae3262a695"
      },
      "execution_count": null,
      "outputs": [
        {
          "output_type": "stream",
          "name": "stdout",
          "text": [
            "a apple on the right of a wall\n"
          ]
        }
      ]
    },
    {
      "cell_type": "code",
      "source": [
        "print(synsets)\n",
        "def run_prompt_string(index):\n",
        "  for synset in synsets:\n",
        "    print()\n",
        "    for i in range(math.ceil(NUM_IMAGES_PER_PROMPT/NUM_IMAGES_PER_CALL)):\n",
        "      save_imgs_from_synset(index, synset, filepath=f'batch{index}/')"
      ],
      "metadata": {
        "colab": {
          "base_uri": "https://localhost:8080/"
        },
        "id": "-81nHfFHS2j0",
        "outputId": "fe57ad32-06b8-4d6e-b1ac-c66ed834cb5f"
      },
      "execution_count": null,
      "outputs": [
        {
          "output_type": "stream",
          "name": "stdout",
          "text": [
            "[['kit fox', 'Vulpes macrotis'], ['English setter'], ['hinny'], ['liger'], ['Australian terrier'], ['manatee', 'Trichechus manatus'], ['mule'], ['lemur'], ['lesser panda', 'red panda', 'panda', 'bear cat', 'cat bear', 'Ailurus fulgens'], ['bear'], ['wolfhound'], ['chickeree', 'Douglas squirrel', 'Tamiasciurus douglasi'], ['Egyptian cat'], ['galago', 'bushbaby', 'bush baby'], ['Persian cat'], ['cougar', 'puma', 'catamount', 'mountain lion', 'painter', 'panther', 'Felis concolor'], ['gazelle'], ['badger'], ['Great Dane'], ['whippet'], ['pipistrelle', 'pipistrel', 'Pipistrellus pipistrellus'], ['Scottish deerhound', 'deerhound'], ['coonhound'], ['killer whale', 'killer', 'orca', 'grampus', 'sea wolf', 'Orcinus orca'], ['foxhound'], ['mink'], ['pronghorn', 'prongbuck', 'pronghorn antelope', 'American antelope', 'Antilocapra americana'], ['jerboa'], ['chacma', 'chacma baboon', 'Papio ursinus'], ['wirehair', 'wirehaired terrier', 'wire-haired terrier'], ['jaguar', 'panther', 'Panthera onca', 'Felis onca'], ['otterhound', 'otter hound'], ['bloodhound', 'sleuthhound'], ['gnu', 'wildebeest'], ['bovid'], ['lechwe', 'Kobus leche'], ['black-footed ferret', 'ferret', 'Mustela nigripes'], ['simian'], ['cur', 'mongrel', 'mutt'], ['skunk', 'polecat', 'wood pussy'], ['marten', 'marten cat'], ['cavy'], ['corgi', 'Welsh corgi'], ['weasel'], ['bushbuck', 'guib', 'Tragelaphus scriptus'], ['bassarisk', 'cacomistle', 'cacomixle', 'coon cat', 'raccoon fox', 'ringtail', 'ring-tailed cat', 'civet cat', \"miner's cat\", 'Bassariscus astutus'], ['malinois'], ['colobus', 'colobus monkey'], ['bowhead', 'bowhead whale', 'Greenland whale', 'Balaena mysticetus'], ['silverback'], ['viscacha', 'chinchillon', 'Lagostomus maximus'], ['manul', \"Pallas's cat\", 'Felis manul'], ['pinto'], ['impala', 'Aepyceros melampus'], ['guereza', 'Colobus guereza'], ['hartebeest'], ['schipperke'], ['ratel', 'honey badger', 'Mellivora capensis'], ['argali', 'argal', 'Ovis ammon'], ['guenon', 'guenon monkey'], ['indri', 'indris', 'Indri indri', 'Indri brevicaudatus'], ['sheep'], ['pony'], ['aardvark', 'ant bear', 'anteater', 'Orycteropus afer'], ['pinscher'], ['schnauzer'], ['bullterrier', 'bull terrier'], ['hart', 'stag'], ['poodle', 'poodle dog'], ['lemming'], ['wether'], ['zebra'], ['warhorse'], ['deer', 'cervid'], ['orangutan', 'orang', 'orangutang', 'Pongo pygmaeus'], ['basenji'], ['antelope'], ['vizsla', 'Hungarian pointer'], ['spaniel'], ['workhorse'], ['groenendael'], ['clumber', 'clumber spaniel'], ['ewe'], ['fanaloka', 'Fossa fossa'], ['chimpanzee', 'chimp', 'Pan troglodytes'], ['komondor'], ['aoudad', 'arui', 'audad', 'Barbary sheep', 'maned sheep', 'Ammotragus lervia'], ['longwool'], ['aye-aye', 'Daubentonia madagascariensis'], ['staghound'], ['carnivore'], ['gorilla', 'Gorilla gorilla'], ['addax', 'Addax nasomaculatus'], ['dik-dik'], ['roan'], ['waterbuck'], ['binturong', 'bearcat', 'Arctictis bintourong'], ['mouse'], ['merino', 'merino sheep'], ['stoat'], ['coati', 'coati-mondi', 'coati-mundi', 'coon cat', 'Nasua narica'], ['oryx', 'pasang'], ['dachshund', 'dachsie', 'badger dog'], ['male horse'], ['eland'], ['siamang', 'Hylobates syndactylus', 'Symphalangus syndactylus'], ['collie'], ['hominid'], ['aardwolf', 'Proteles cristata'], ['gemsbok', 'gemsbuck', 'Oryx gazella'], ['greyhound'], ['hare'], ['beagle'], ['buckskin'], ['patas', 'hussar monkey', 'Erythrocebus patas'], ['dhole', 'Cuon alpinus'], ['kudu', 'koodoo', 'koudou'], ['tayra', 'taira', 'Eira barbara'], ['baboon'], ['macaque'], ['gerenuk', 'Litocranius walleri'], ['tarsier'], ['serotine', 'European brown bat', 'Eptesicus serotinus'], ['sassaby', 'topi', 'Damaliscus lunatus'], ['kuvasz'], ['pug', 'pug-dog'], ['coypu', 'nutria', 'Myocastor coypus'], ['cattalo', 'beefalo'], ['terrier'], ['courser'], ['grivet', 'Cercopithecus aethiops'], ['zebu'], ['goat', 'caprine animal'], ['keeshond'], ['spitz'], ['puku', 'Adenota vardoni'], ['caribou', 'reindeer', 'Greenland caribou', 'Rangifer tarandus'], ['mare', 'female horse'], ['hound', 'hound dog'], ['prosimian'], ['kob', 'Kobus kob'], ['horse', 'Equus caballus'], ['grizzly', 'grizzly bear', 'silvertip', 'silver-tip', 'Ursus horribilis', 'Ursus arctos horribilis'], ['sambar', 'sambur', 'Cervus unicolor'], ['palomino'], ['jaguarundi', 'jaguarundi cat', 'jaguarondi', 'eyra', 'Felis yagouaroundi'], ['hamster'], ['saiga', 'Saiga tatarica'], ['urial', 'Ovis vignei'], ['rorqual', 'razorback'], ['basset', 'basset hound'], ['chevrotain', 'mouse deer'], ['agouti', 'Dasyprocta aguti'], ['squirrel'], ['bison'], ['groundhog', 'woodchuck', 'Marmota monax'], ['tamarin', 'lion monkey', 'lion marmoset', 'leoncita'], ['rat'], ['giraffe', 'camelopard', 'Giraffa camelopardalis'], ['rabbit', 'coney', 'cony'], ['vervet', 'vervet monkey', 'Cercopithecus aethiops pygerythrus'], ['longhorn', 'Texas longhorn'], ['tabby', 'tabby cat'], ['margay', 'margay cat', 'Felis wiedi'], ['narwhal', 'narwal', 'narwhale', 'Monodon monoceros'], ['feline', 'felid'], ['bovine'], ['Saint Bernard', 'St Bernard'], ['ape'], ['elk', 'European elk', 'moose', 'Alces alces'], ['raccoon', 'racoon'], ['ungulate', 'hoofed mammal'], ['bluetick'], ['redbone'], ['abrocome', 'chinchilla rat', 'rat chinchilla'], ['polecat', 'fitch', 'foulmart', 'foumart', 'Mustela putorius'], ['marmot'], ['lion', 'king of beasts', 'Panthera leo'], ['bat', 'chiropteran'], ['blackbuck', 'black buck', 'Antilope cervicapra'], ['mandrill', 'Mandrillus sphinx'], ['chestnut'], ['dugong', 'Dugong dugon'], ['freetail', 'free-tailed bat', 'freetailed bat'], ['dun'], ['mastiff'], ['pachyderm'], ['Sussex spaniel'], ['tiglon', 'tigon'], ['dormouse'], ['kinkajou', 'honey bear', 'potto', 'Potos flavus', 'Potos caudivolvulus'], ['monkey'], ['steenbok', 'steinbok', 'Raphicerus campestris'], ['porpoise'], ['pangolin', 'scaly anteater', 'anteater'], ['retriever'], ['stablemate', 'stable companion'], ['hyrax', 'coney', 'cony', 'dassie', 'das'], ['steeplechaser'], ['mouser'], ['wapiti', 'elk', 'American elk', 'Cervus elaphus canadensis'], ['muntjac', 'barking deer'], ['gerbil', 'gerbille'], ['langur'], ['cheetah', 'chetah', 'Acinonyx jubatus'], ['briard'], ['otter'], ['bulldog', 'English bulldog'], ['serval', 'Felis serval'], ['nilgai', 'nylghai', 'nylghau', 'blue bull', 'Boselaphus tragocamelus'], ['hind'], ['rodent', 'gnawer'], ['phalanger', 'opossum', 'possum'], ['cow'], ['koala', 'koala bear', 'kangaroo bear', 'native bear', 'Phascolarctos cinereus'], ['numbat', 'banded anteater', 'anteater', 'Myrmecobius fasciatus'], ['echidna', 'spiny anteater', 'anteater'], ['kangaroo'], ['thylacine', 'Tasmanian wolf', 'Tasmanian tiger', 'Thylacinus cynocephalus'], ['platypus', 'duckbill', 'duckbilled platypus', 'duck-billed platypus', 'Ornithorhynchus anatinus'], ['bandicoot'], ['insectivore'], ['cuscus'], ['wombat'], ['pademelon', 'paddymelon'], ['puppy'], ['livestock', 'stock', 'farm animal'], ['frog', 'toad', 'toad frog', 'anuran', 'batrachian', 'salientian'], ['sunflower', 'helianthus'], ['bonsai'], ['strawberry'], ['transporter', 'car transporter'], ['police van', 'police wagon', 'paddy wagon', 'patrol wagon', 'wagon', 'black Maria'], ['cabinet'], ['lamp'], ['bench'], ['chair'], ['sofa', 'couch', 'lounge'], ['toilet seat'], ['pool table', 'billiard table', 'snooker table'], ['table'], ['acorn'], ['drum', 'membranophone', 'tympan'], ['marimba', 'xylophone'], ['daisy'], ['grass'], ['comb'], ['fork'], ['ptarmigan'], ['coho', 'cohoe', 'coho salmon', 'blue jack', 'silver salmon', 'Oncorhynchus kisutch'], ['green lizard', 'Lacerta viridis'], ['filter'], ['rule', 'ruler'], ['key'], ['keyboard'], ['wheel'], ['Ferris wheel'], ['roller coaster', 'big dipper', 'chute-the-chute'], ['buckle'], ['button'], ['ski'], ['barn spider', 'Araneus cavaticus'], ['garden spider', 'Aranea diademata'], ['silverfish', 'Lepisma saccharina'], ['pot'], ['drawer'], ['bridge', 'span'], ['building', 'edifice'], ['cross'], ['sail'], ['rack'], ['window'], ['tower'], ['roughage', 'fiber'], ['chili', 'chili con carne'], ['varietal', 'varietal wine'], ['mousse'], ['martini'], ['generic', 'generic wine'], ['vegetarianism'], ['bag'], ['coloring', 'colouring', 'food coloring', 'food colouring', 'food color', 'food colour'], ['sidecar'], ['pudding'], ['slivovitz'], ['backboard', 'basketball backboard'], ['syrup', 'sirup'], ['slumgullion'], ['sugar', 'refined sugar'], ['schnitzel', 'Wiener schnitzel'], ['casserole'], ['sheet', 'bed sheet'], ['chapatti', 'chapati'], ['ricotta'], ['anisette', 'anisette de Bordeaux'], ['grappa'], ['limeade'], ['bleu', 'blue cheese'], ['cue', 'cue stick', 'pool cue', 'pool stick'], ['feather boa', 'boa'], ['shortcake'], ['croquette'], ['terrine'], ['bannock'], ['chutney', 'Indian relish'], ['fondue', 'fondu'], ['ramekin', 'ramequin'], ['flag'], ['moussaka'], ['basket', 'basketball hoop', 'hoop'], ['absinth', 'absinthe'], ['samosa'], ['kummel'], ['flan'], ['pesto'], ['bordelaise'], ['limpa'], ['retsina'], ['sukiyaki'], ['lemonade'], ['pasta'], ['goulash', 'Hungarian goulash', 'gulyas'], ['succotash'], ['mozzarella'], ['bottle'], ['potpie'], ['kedgeree'], ['teriyaki'], ['maraschino', 'maraschino liqueur'], ['daiquiri', 'rum cocktail'], ['kirsch'], ['hyson'], ['tiramisu'], ['zabaglione', 'sabayon'], ['grassland'], ['vintage'], ['ravigote', 'ravigotte'], ['bullshot'], ['gorgonzola'], ['champagne', 'bubbly'], ['sambuca'], ['miso'], ['gravy'], ['tostada'], ['veloute'], ['honey'], ['porridge'], ['curry'], ['salsa'], ['catsup', 'ketchup', 'cetchup', 'tomato ketchup'], ['vermouth'], ['sauerkraut'], ['margarine', 'margarin', 'oleo', 'oleomargarine', 'marge'], ['bathtub', 'bathing tub', 'bath', 'tub'], ['souffle'], ['hummus', 'humus', 'hommos', 'hoummos', 'humous'], ['ball'], ['demiglace', 'demi-glaze'], ['salad'], ['pita', 'pocket bread'], ['omelet', 'omelette'], ['burrito'], ['towel'], ['basketball'], ['stick'], ['squash racket', 'squash racquet', 'bat'], ['orangeade'], ['macedoine'], ['jambalaya'], ['plain', 'field', 'champaign'], ['screwdriver'], ['box'], ['mallet'], ['pizza', 'pizza pie'], ['blackboard', 'chalkboard'], ['adobo'], ['pot-au-feu'], ['saute'], ['ice lolly', 'lolly', 'lollipop', 'popsicle'], ['parfait'], ['egg yolk', 'yolk'], ['ragout'], ['souchong', 'soochong'], ['pate']]\n"
          ]
        }
      ]
    },
    {
      "cell_type": "code",
      "source": [
        "# run_prompt_string(0)"
      ],
      "metadata": {
        "colab": {
          "base_uri": "https://localhost:8080/",
          "height": 1000
        },
        "id": "g1XESuMij626",
        "outputId": "f3a76343-1873-4808-f5f5-1f29720f2d75"
      },
      "execution_count": null,
      "outputs": [
        {
          "output_type": "stream",
          "name": "stdout",
          "text": [
            "\n",
            "0\n",
            "{\"status\":\"success\",\"tip\":\"Get 20x faster image generation using enterprise plan. Click here : https:\\/\\/stablediffusionapi.com\\/enterprise\",\"generationTime\":2.3973593711853027,\"id\":56323126,\"output\":[\"https:\\/\\/cdn2.stablediffusionapi.com\\/generations\\/8ea6e54d-841a-4cb6-8dc6-53d9674e1eaa-0.png\",\"https:\\/\\/cdn2.stablediffusionapi.com\\/generations\\/8ea6e54d-841a-4cb6-8dc6-53d9674e1eaa-1.png\",\"https:\\/\\/cdn2.stablediffusionapi.com\\/generations\\/8ea6e54d-841a-4cb6-8dc6-53d9674e1eaa-2.png\",\"https:\\/\\/cdn2.stablediffusionapi.com\\/generations\\/8ea6e54d-841a-4cb6-8dc6-53d9674e1eaa-3.png\"],\"proxy_links\":\"\",\"nsfw_content_detected\":\"\",\"meta\":{\"H\":512,\"W\":512,\"enable_attention_slicing\":\"true\",\"file_prefix\":\"8ea6e54d-841a-4cb6-8dc6-53d9674e1eaa\",\"guidance_scale\":7.5,\"instant_response\":\"no\",\"model\":\"runwayml\\/stable-diffusion-v1-5\",\"n_samples\":4,\"negative_prompt\":\"low quality\",\"outdir\":\"out\",\"prompt\":\"a Vulpes macrotis next to a tree\",\"revision\":\"fp16\",\"safetychecker\":\"yes\",\"seed\":2638762999,\"steps\":30,\"vae\":\"stabilityai\\/sd-vae-ft-mse\"}}\n",
            "https://cdn2.stablediffusionapi.com/generations/8ea6e54d-841a-4cb6-8dc6-53d9674e1eaa-0.png\n",
            "https://cdn2.stablediffusionapi.com/generations/8ea6e54d-841a-4cb6-8dc6-53d9674e1eaa-1.png\n",
            "https://cdn2.stablediffusionapi.com/generations/8ea6e54d-841a-4cb6-8dc6-53d9674e1eaa-2.png\n",
            "https://cdn2.stablediffusionapi.com/generations/8ea6e54d-841a-4cb6-8dc6-53d9674e1eaa-3.png\n",
            "0\n",
            "{\"status\":\"success\",\"tip\":\"Get 20x faster image generation using enterprise plan. Click here : https:\\/\\/stablediffusionapi.com\\/enterprise\",\"generationTime\":4.730134010314941,\"id\":56323156,\"output\":[\"https:\\/\\/pub-3626123a908346a7a8be8d9295f44e26.r2.dev\\/generations\\/77ae2f1b-c01a-4f70-aa8c-d6b2059c2384-0.png\",\"https:\\/\\/pub-3626123a908346a7a8be8d9295f44e26.r2.dev\\/generations\\/77ae2f1b-c01a-4f70-aa8c-d6b2059c2384-1.png\",\"https:\\/\\/pub-3626123a908346a7a8be8d9295f44e26.r2.dev\\/generations\\/77ae2f1b-c01a-4f70-aa8c-d6b2059c2384-2.png\",\"https:\\/\\/pub-3626123a908346a7a8be8d9295f44e26.r2.dev\\/generations\\/77ae2f1b-c01a-4f70-aa8c-d6b2059c2384-3.png\"],\"proxy_links\":\"\",\"nsfw_content_detected\":\"\",\"meta\":{\"H\":512,\"W\":512,\"enable_attention_slicing\":\"true\",\"file_prefix\":\"77ae2f1b-c01a-4f70-aa8c-d6b2059c2384\",\"guidance_scale\":7.5,\"instant_response\":\"no\",\"model\":\"runwayml\\/stable-diffusion-v1-5\",\"n_samples\":4,\"negative_prompt\":\"low quality\",\"outdir\":\"out\",\"prompt\":\"a Vulpes macrotis next to a tree\",\"revision\":\"fp16\",\"safetychecker\":\"yes\",\"seed\":3132920718,\"steps\":30,\"vae\":\"stabilityai\\/sd-vae-ft-mse\"}}\n",
            "https://pub-3626123a908346a7a8be8d9295f44e26.r2.dev/generations/77ae2f1b-c01a-4f70-aa8c-d6b2059c2384-0.png\n",
            "https://pub-3626123a908346a7a8be8d9295f44e26.r2.dev/generations/77ae2f1b-c01a-4f70-aa8c-d6b2059c2384-1.png\n",
            "https://pub-3626123a908346a7a8be8d9295f44e26.r2.dev/generations/77ae2f1b-c01a-4f70-aa8c-d6b2059c2384-2.png\n",
            "https://pub-3626123a908346a7a8be8d9295f44e26.r2.dev/generations/77ae2f1b-c01a-4f70-aa8c-d6b2059c2384-3.png\n",
            "0\n",
            "{\"status\":\"success\",\"tip\":\"Get 20x faster image generation using enterprise plan. Click here : https:\\/\\/stablediffusionapi.com\\/enterprise\",\"generationTime\":4.780195474624634,\"id\":56323175,\"output\":[\"https:\\/\\/pub-3626123a908346a7a8be8d9295f44e26.r2.dev\\/generations\\/b84c195e-b3bb-4554-a05f-7720f305a22e-0.png\",\"https:\\/\\/pub-3626123a908346a7a8be8d9295f44e26.r2.dev\\/generations\\/b84c195e-b3bb-4554-a05f-7720f305a22e-1.png\",\"https:\\/\\/pub-3626123a908346a7a8be8d9295f44e26.r2.dev\\/generations\\/b84c195e-b3bb-4554-a05f-7720f305a22e-2.png\",\"https:\\/\\/pub-3626123a908346a7a8be8d9295f44e26.r2.dev\\/generations\\/b84c195e-b3bb-4554-a05f-7720f305a22e-3.png\"],\"proxy_links\":\"\",\"nsfw_content_detected\":\"\",\"meta\":{\"H\":512,\"W\":512,\"enable_attention_slicing\":\"true\",\"file_prefix\":\"b84c195e-b3bb-4554-a05f-7720f305a22e\",\"guidance_scale\":7.5,\"instant_response\":\"no\",\"model\":\"runwayml\\/stable-diffusion-v1-5\",\"n_samples\":4,\"negative_prompt\":\"low quality\",\"outdir\":\"out\",\"prompt\":\"a kit fox next to a tree\",\"revision\":\"fp16\",\"safetychecker\":\"yes\",\"seed\":138971824,\"steps\":30,\"vae\":\"stabilityai\\/sd-vae-ft-mse\"}}\n",
            "https://pub-3626123a908346a7a8be8d9295f44e26.r2.dev/generations/b84c195e-b3bb-4554-a05f-7720f305a22e-0.png\n",
            "https://pub-3626123a908346a7a8be8d9295f44e26.r2.dev/generations/b84c195e-b3bb-4554-a05f-7720f305a22e-1.png\n",
            "https://pub-3626123a908346a7a8be8d9295f44e26.r2.dev/generations/b84c195e-b3bb-4554-a05f-7720f305a22e-2.png\n",
            "https://pub-3626123a908346a7a8be8d9295f44e26.r2.dev/generations/b84c195e-b3bb-4554-a05f-7720f305a22e-3.png\n",
            "0\n",
            "{\"status\":\"success\",\"tip\":\"Get 20x faster image generation using enterprise plan. Click here : https:\\/\\/stablediffusionapi.com\\/enterprise\",\"generationTime\":2.7745628356933594,\"id\":56323187,\"output\":[\"https:\\/\\/cdn2.stablediffusionapi.com\\/generations\\/66c88a47-c86d-469d-9dbc-5793c498bb0e-0.png\",\"https:\\/\\/cdn2.stablediffusionapi.com\\/generations\\/66c88a47-c86d-469d-9dbc-5793c498bb0e-1.png\",\"https:\\/\\/cdn2.stablediffusionapi.com\\/generations\\/66c88a47-c86d-469d-9dbc-5793c498bb0e-2.png\",\"https:\\/\\/cdn2.stablediffusionapi.com\\/generations\\/66c88a47-c86d-469d-9dbc-5793c498bb0e-3.png\"],\"proxy_links\":\"\",\"nsfw_content_detected\":\"\",\"meta\":{\"H\":512,\"W\":512,\"enable_attention_slicing\":\"true\",\"file_prefix\":\"66c88a47-c86d-469d-9dbc-5793c498bb0e\",\"guidance_scale\":7.5,\"instant_response\":\"no\",\"model\":\"runwayml\\/stable-diffusion-v1-5\",\"n_samples\":4,\"negative_prompt\":\"low quality\",\"outdir\":\"out\",\"prompt\":\"a Vulpes macrotis next to a tree\",\"revision\":\"fp16\",\"safetychecker\":\"yes\",\"seed\":2826864909,\"steps\":30,\"vae\":\"stabilityai\\/sd-vae-ft-mse\"}}\n",
            "https://cdn2.stablediffusionapi.com/generations/66c88a47-c86d-469d-9dbc-5793c498bb0e-0.png\n",
            "https://cdn2.stablediffusionapi.com/generations/66c88a47-c86d-469d-9dbc-5793c498bb0e-1.png\n",
            "https://cdn2.stablediffusionapi.com/generations/66c88a47-c86d-469d-9dbc-5793c498bb0e-2.png\n",
            "https://cdn2.stablediffusionapi.com/generations/66c88a47-c86d-469d-9dbc-5793c498bb0e-3.png\n",
            "0\n",
            "{\"status\":\"success\",\"tip\":\"Get 20x faster image generation using enterprise plan. Click here : https:\\/\\/stablediffusionapi.com\\/enterprise\",\"generationTime\":2.542933464050293,\"id\":56323204,\"output\":[\"https:\\/\\/cdn2.stablediffusionapi.com\\/generations\\/7a42d229-1cc7-4fa1-aede-bdbefc66bf00-0.png\",\"https:\\/\\/cdn2.stablediffusionapi.com\\/generations\\/7a42d229-1cc7-4fa1-aede-bdbefc66bf00-1.png\",\"https:\\/\\/cdn2.stablediffusionapi.com\\/generations\\/7a42d229-1cc7-4fa1-aede-bdbefc66bf00-2.png\",\"https:\\/\\/cdn2.stablediffusionapi.com\\/generations\\/7a42d229-1cc7-4fa1-aede-bdbefc66bf00-3.png\"],\"proxy_links\":\"\",\"nsfw_content_detected\":\"\",\"meta\":{\"H\":512,\"W\":512,\"enable_attention_slicing\":\"true\",\"file_prefix\":\"7a42d229-1cc7-4fa1-aede-bdbefc66bf00\",\"guidance_scale\":7.5,\"instant_response\":\"no\",\"model\":\"runwayml\\/stable-diffusion-v1-5\",\"n_samples\":4,\"negative_prompt\":\"low quality\",\"outdir\":\"out\",\"prompt\":\"a kit fox next to a tree\",\"revision\":\"fp16\",\"safetychecker\":\"yes\",\"seed\":3718479002,\"steps\":30,\"vae\":\"stabilityai\\/sd-vae-ft-mse\"}}\n",
            "https://cdn2.stablediffusionapi.com/generations/7a42d229-1cc7-4fa1-aede-bdbefc66bf00-0.png\n",
            "https://cdn2.stablediffusionapi.com/generations/7a42d229-1cc7-4fa1-aede-bdbefc66bf00-1.png\n",
            "https://cdn2.stablediffusionapi.com/generations/7a42d229-1cc7-4fa1-aede-bdbefc66bf00-2.png\n",
            "https://cdn2.stablediffusionapi.com/generations/7a42d229-1cc7-4fa1-aede-bdbefc66bf00-3.png\n",
            "0\n",
            "{\"status\":\"success\",\"tip\":\"Get 20x faster image generation using enterprise plan. Click here : https:\\/\\/stablediffusionapi.com\\/enterprise\",\"generationTime\":2.523712396621704,\"id\":56323233,\"output\":[\"https:\\/\\/cdn2.stablediffusionapi.com\\/generations\\/ee74589a-9630-4986-a988-4c54d48ee12a-0.png\",\"https:\\/\\/cdn2.stablediffusionapi.com\\/generations\\/ee74589a-9630-4986-a988-4c54d48ee12a-1.png\",\"https:\\/\\/cdn2.stablediffusionapi.com\\/generations\\/ee74589a-9630-4986-a988-4c54d48ee12a-2.png\",\"https:\\/\\/cdn2.stablediffusionapi.com\\/generations\\/ee74589a-9630-4986-a988-4c54d48ee12a-3.png\"],\"proxy_links\":\"\",\"nsfw_content_detected\":\"\",\"meta\":{\"H\":512,\"W\":512,\"enable_attention_slicing\":\"true\",\"file_prefix\":\"ee74589a-9630-4986-a988-4c54d48ee12a\",\"guidance_scale\":7.5,\"instant_response\":\"no\",\"model\":\"runwayml\\/stable-diffusion-v1-5\",\"n_samples\":4,\"negative_prompt\":\"low quality\",\"outdir\":\"out\",\"prompt\":\"a kit fox next to a tree\",\"revision\":\"fp16\",\"safetychecker\":\"yes\",\"seed\":3831552879,\"steps\":30,\"vae\":\"stabilityai\\/sd-vae-ft-mse\"}}\n",
            "https://cdn2.stablediffusionapi.com/generations/ee74589a-9630-4986-a988-4c54d48ee12a-0.png\n",
            "https://cdn2.stablediffusionapi.com/generations/ee74589a-9630-4986-a988-4c54d48ee12a-1.png\n",
            "https://cdn2.stablediffusionapi.com/generations/ee74589a-9630-4986-a988-4c54d48ee12a-2.png\n",
            "https://cdn2.stablediffusionapi.com/generations/ee74589a-9630-4986-a988-4c54d48ee12a-3.png\n",
            "\n",
            "0\n",
            "{\"status\":\"success\",\"tip\":\"Get 20x faster image generation using enterprise plan. Click here : https:\\/\\/stablediffusionapi.com\\/enterprise\",\"generationTime\":4.662654399871826,\"id\":56323251,\"output\":[\"https:\\/\\/pub-3626123a908346a7a8be8d9295f44e26.r2.dev\\/generations\\/a63806e6-3e66-4d1b-9f99-4641fca16b98-0.png\",\"https:\\/\\/pub-3626123a908346a7a8be8d9295f44e26.r2.dev\\/generations\\/a63806e6-3e66-4d1b-9f99-4641fca16b98-1.png\",\"https:\\/\\/pub-3626123a908346a7a8be8d9295f44e26.r2.dev\\/generations\\/a63806e6-3e66-4d1b-9f99-4641fca16b98-2.png\",\"https:\\/\\/pub-3626123a908346a7a8be8d9295f44e26.r2.dev\\/generations\\/a63806e6-3e66-4d1b-9f99-4641fca16b98-3.png\"],\"proxy_links\":\"\",\"nsfw_content_detected\":\"\",\"meta\":{\"H\":512,\"W\":512,\"enable_attention_slicing\":\"true\",\"file_prefix\":\"a63806e6-3e66-4d1b-9f99-4641fca16b98\",\"guidance_scale\":7.5,\"instant_response\":\"no\",\"model\":\"runwayml\\/stable-diffusion-v1-5\",\"n_samples\":4,\"negative_prompt\":\"low quality\",\"outdir\":\"out\",\"prompt\":\"a English setter next to a tree\",\"revision\":\"fp16\",\"safetychecker\":\"yes\",\"seed\":3432206535,\"steps\":30,\"vae\":\"stabilityai\\/sd-vae-ft-mse\"}}\n",
            "https://pub-3626123a908346a7a8be8d9295f44e26.r2.dev/generations/a63806e6-3e66-4d1b-9f99-4641fca16b98-0.png\n",
            "https://pub-3626123a908346a7a8be8d9295f44e26.r2.dev/generations/a63806e6-3e66-4d1b-9f99-4641fca16b98-1.png\n",
            "https://pub-3626123a908346a7a8be8d9295f44e26.r2.dev/generations/a63806e6-3e66-4d1b-9f99-4641fca16b98-2.png\n",
            "https://pub-3626123a908346a7a8be8d9295f44e26.r2.dev/generations/a63806e6-3e66-4d1b-9f99-4641fca16b98-3.png\n",
            "0\n",
            "{\"status\":\"success\",\"tip\":\"Get 20x faster image generation using enterprise plan. Click here : https:\\/\\/stablediffusionapi.com\\/enterprise\",\"generationTime\":4.691133260726929,\"id\":56323275,\"output\":[\"https:\\/\\/pub-3626123a908346a7a8be8d9295f44e26.r2.dev\\/generations\\/02cc8f4d-697a-4655-9dbc-5b6e9b62a722-0.png\",\"https:\\/\\/pub-3626123a908346a7a8be8d9295f44e26.r2.dev\\/generations\\/02cc8f4d-697a-4655-9dbc-5b6e9b62a722-1.png\",\"https:\\/\\/pub-3626123a908346a7a8be8d9295f44e26.r2.dev\\/generations\\/02cc8f4d-697a-4655-9dbc-5b6e9b62a722-2.png\",\"https:\\/\\/pub-3626123a908346a7a8be8d9295f44e26.r2.dev\\/generations\\/02cc8f4d-697a-4655-9dbc-5b6e9b62a722-3.png\"],\"proxy_links\":\"\",\"nsfw_content_detected\":\"\",\"meta\":{\"H\":512,\"W\":512,\"enable_attention_slicing\":\"true\",\"file_prefix\":\"02cc8f4d-697a-4655-9dbc-5b6e9b62a722\",\"guidance_scale\":7.5,\"instant_response\":\"no\",\"model\":\"runwayml\\/stable-diffusion-v1-5\",\"n_samples\":4,\"negative_prompt\":\"low quality\",\"outdir\":\"out\",\"prompt\":\"a English setter next to a tree\",\"revision\":\"fp16\",\"safetychecker\":\"yes\",\"seed\":1547105364,\"steps\":30,\"vae\":\"stabilityai\\/sd-vae-ft-mse\"}}\n",
            "https://pub-3626123a908346a7a8be8d9295f44e26.r2.dev/generations/02cc8f4d-697a-4655-9dbc-5b6e9b62a722-0.png\n",
            "https://pub-3626123a908346a7a8be8d9295f44e26.r2.dev/generations/02cc8f4d-697a-4655-9dbc-5b6e9b62a722-1.png\n",
            "https://pub-3626123a908346a7a8be8d9295f44e26.r2.dev/generations/02cc8f4d-697a-4655-9dbc-5b6e9b62a722-2.png\n",
            "https://pub-3626123a908346a7a8be8d9295f44e26.r2.dev/generations/02cc8f4d-697a-4655-9dbc-5b6e9b62a722-3.png\n",
            "0\n",
            "{\"status\":\"success\",\"tip\":\"Get 20x faster image generation using enterprise plan. Click here : https:\\/\\/stablediffusionapi.com\\/enterprise\",\"generationTime\":6.426494121551514,\"id\":56323297,\"output\":[\"https:\\/\\/cdn2.stablediffusionapi.com\\/generations\\/a08fd786-e927-448a-881b-f37211dfa03b-0.png\",\"https:\\/\\/cdn2.stablediffusionapi.com\\/generations\\/a08fd786-e927-448a-881b-f37211dfa03b-1.png\",\"https:\\/\\/cdn2.stablediffusionapi.com\\/generations\\/a08fd786-e927-448a-881b-f37211dfa03b-2.png\",\"https:\\/\\/cdn2.stablediffusionapi.com\\/generations\\/a08fd786-e927-448a-881b-f37211dfa03b-3.png\"],\"proxy_links\":\"\",\"nsfw_content_detected\":\"\",\"meta\":{\"H\":512,\"W\":512,\"enable_attention_slicing\":\"true\",\"file_prefix\":\"a08fd786-e927-448a-881b-f37211dfa03b\",\"guidance_scale\":7.5,\"instant_response\":\"no\",\"model\":\"runwayml\\/stable-diffusion-v1-5\",\"n_samples\":4,\"negative_prompt\":\"low quality\",\"outdir\":\"out\",\"prompt\":\"a English setter next to a tree\",\"revision\":\"fp16\",\"safetychecker\":\"yes\",\"seed\":2621005434,\"steps\":30,\"vae\":\"stabilityai\\/sd-vae-ft-mse\"}}\n",
            "https://cdn2.stablediffusionapi.com/generations/a08fd786-e927-448a-881b-f37211dfa03b-0.png\n",
            "https://cdn2.stablediffusionapi.com/generations/a08fd786-e927-448a-881b-f37211dfa03b-1.png\n",
            "https://cdn2.stablediffusionapi.com/generations/a08fd786-e927-448a-881b-f37211dfa03b-2.png\n",
            "https://cdn2.stablediffusionapi.com/generations/a08fd786-e927-448a-881b-f37211dfa03b-3.png\n",
            "0\n",
            "{\"status\":\"success\",\"tip\":\"Get 20x faster image generation using enterprise plan. Click here : https:\\/\\/stablediffusionapi.com\\/enterprise\",\"generationTime\":2.5104875564575195,\"id\":56323318,\"output\":[\"https:\\/\\/cdn2.stablediffusionapi.com\\/generations\\/877f969e-db39-4de3-8377-d12335fb6a72-0.png\",\"https:\\/\\/cdn2.stablediffusionapi.com\\/generations\\/877f969e-db39-4de3-8377-d12335fb6a72-1.png\",\"https:\\/\\/cdn2.stablediffusionapi.com\\/generations\\/877f969e-db39-4de3-8377-d12335fb6a72-2.png\",\"https:\\/\\/cdn2.stablediffusionapi.com\\/generations\\/877f969e-db39-4de3-8377-d12335fb6a72-3.png\"],\"proxy_links\":\"\",\"nsfw_content_detected\":\"\",\"meta\":{\"H\":512,\"W\":512,\"enable_attention_slicing\":\"true\",\"file_prefix\":\"877f969e-db39-4de3-8377-d12335fb6a72\",\"guidance_scale\":7.5,\"instant_response\":\"no\",\"model\":\"runwayml\\/stable-diffusion-v1-5\",\"n_samples\":4,\"negative_prompt\":\"low quality\",\"outdir\":\"out\",\"prompt\":\"a English setter next to a tree\",\"revision\":\"fp16\",\"safetychecker\":\"yes\",\"seed\":3291240372,\"steps\":30,\"vae\":\"stabilityai\\/sd-vae-ft-mse\"}}\n",
            "https://cdn2.stablediffusionapi.com/generations/877f969e-db39-4de3-8377-d12335fb6a72-0.png\n",
            "https://cdn2.stablediffusionapi.com/generations/877f969e-db39-4de3-8377-d12335fb6a72-1.png\n",
            "https://cdn2.stablediffusionapi.com/generations/877f969e-db39-4de3-8377-d12335fb6a72-2.png\n",
            "https://cdn2.stablediffusionapi.com/generations/877f969e-db39-4de3-8377-d12335fb6a72-3.png\n",
            "0\n",
            "{\"status\":\"processing\",\"tip\":\"Get 20x faster image generation using enterprise plan. Click here : https:\\/\\/stablediffusionapi.com\\/enterprise\",\"tip_1\":\"Your image is processing in background, you can get this image using fetch API: here is link for fetch api : https:\\/\\/stablediffusionapi.com\\/docs\\/community-models-api-v4\\/dreamboothfetchqueimg\",\"eta\":44.8866960384,\"messege\":\"Try to fetch request after seconds estimated\",\"fetch_result\":\"https:\\/\\/stablediffusionapi.com\\/api\\/v3\\/fetch\\/56323325\",\"id\":56323325,\"output\":[],\"meta\":{\"H\":512,\"W\":512,\"enable_attention_slicing\":\"true\",\"file_prefix\":\"0a5f6de7-eaee-4c9e-93d0-45bb674f8e51\",\"guidance_scale\":7.5,\"instant_response\":\"no\",\"model\":\"runwayml\\/stable-diffusion-v1-5\",\"n_samples\":4,\"negative_prompt\":\"low quality\",\"outdir\":\"out\",\"prompt\":\"a English setter next to a tree\",\"revision\":\"fp16\",\"safetychecker\":\"yes\",\"seed\":3570538307,\"steps\":30,\"vae\":\"stabilityai\\/sd-vae-ft-mse\"}}\n",
            "0\n",
            "{\"status\":\"success\",\"tip\":\"Get 20x faster image generation using enterprise plan. Click here : https:\\/\\/stablediffusionapi.com\\/enterprise\",\"generationTime\":2.3807008266448975,\"id\":56323337,\"output\":[\"https:\\/\\/cdn2.stablediffusionapi.com\\/generations\\/5fc605ca-149e-4af3-abcd-1428038c88f3-0.png\",\"https:\\/\\/cdn2.stablediffusionapi.com\\/generations\\/5fc605ca-149e-4af3-abcd-1428038c88f3-1.png\",\"https:\\/\\/cdn2.stablediffusionapi.com\\/generations\\/5fc605ca-149e-4af3-abcd-1428038c88f3-2.png\",\"https:\\/\\/cdn2.stablediffusionapi.com\\/generations\\/5fc605ca-149e-4af3-abcd-1428038c88f3-3.png\"],\"proxy_links\":\"\",\"nsfw_content_detected\":\"\",\"meta\":{\"H\":512,\"W\":512,\"enable_attention_slicing\":\"true\",\"file_prefix\":\"5fc605ca-149e-4af3-abcd-1428038c88f3\",\"guidance_scale\":7.5,\"instant_response\":\"no\",\"model\":\"runwayml\\/stable-diffusion-v1-5\",\"n_samples\":4,\"negative_prompt\":\"low quality\",\"outdir\":\"out\",\"prompt\":\"a English setter next to a tree\",\"revision\":\"fp16\",\"safetychecker\":\"yes\",\"seed\":1622970735,\"steps\":30,\"vae\":\"stabilityai\\/sd-vae-ft-mse\"}}\n",
            "https://cdn2.stablediffusionapi.com/generations/5fc605ca-149e-4af3-abcd-1428038c88f3-0.png\n",
            "https://cdn2.stablediffusionapi.com/generations/5fc605ca-149e-4af3-abcd-1428038c88f3-1.png\n",
            "https://cdn2.stablediffusionapi.com/generations/5fc605ca-149e-4af3-abcd-1428038c88f3-2.png\n",
            "https://cdn2.stablediffusionapi.com/generations/5fc605ca-149e-4af3-abcd-1428038c88f3-3.png\n",
            "0\n",
            "{\"status\":\"success\",\"tip\":\"Get 20x faster image generation using enterprise plan. Click here : https:\\/\\/stablediffusionapi.com\\/enterprise\",\"generationTime\":16.272626638412476,\"id\":56323370,\"output\":[\"https:\\/\\/pub-3626123a908346a7a8be8d9295f44e26.r2.dev\\/generations\\/e271cd82-d08d-4359-bb8e-81ee432b8112-0.png\",\"https:\\/\\/pub-3626123a908346a7a8be8d9295f44e26.r2.dev\\/generations\\/e271cd82-d08d-4359-bb8e-81ee432b8112-1.png\",\"https:\\/\\/pub-3626123a908346a7a8be8d9295f44e26.r2.dev\\/generations\\/e271cd82-d08d-4359-bb8e-81ee432b8112-2.png\",\"https:\\/\\/pub-3626123a908346a7a8be8d9295f44e26.r2.dev\\/generations\\/e271cd82-d08d-4359-bb8e-81ee432b8112-3.png\"],\"proxy_links\":\"\",\"nsfw_content_detected\":\"\",\"meta\":{\"H\":512,\"W\":512,\"enable_attention_slicing\":\"true\",\"file_prefix\":\"e271cd82-d08d-4359-bb8e-81ee432b8112\",\"guidance_scale\":7.5,\"instant_response\":\"no\",\"model\":\"runwayml\\/stable-diffusion-v1-5\",\"n_samples\":4,\"negative_prompt\":\"low quality\",\"outdir\":\"out\",\"prompt\":\"a English setter next to a tree\",\"revision\":\"fp16\",\"safetychecker\":\"yes\",\"seed\":1063782595,\"steps\":30,\"vae\":\"stabilityai\\/sd-vae-ft-mse\"}}\n",
            "https://pub-3626123a908346a7a8be8d9295f44e26.r2.dev/generations/e271cd82-d08d-4359-bb8e-81ee432b8112-0.png\n",
            "https://pub-3626123a908346a7a8be8d9295f44e26.r2.dev/generations/e271cd82-d08d-4359-bb8e-81ee432b8112-1.png\n",
            "https://pub-3626123a908346a7a8be8d9295f44e26.r2.dev/generations/e271cd82-d08d-4359-bb8e-81ee432b8112-2.png\n",
            "https://pub-3626123a908346a7a8be8d9295f44e26.r2.dev/generations/e271cd82-d08d-4359-bb8e-81ee432b8112-3.png\n",
            "\n",
            "0\n",
            "{\"status\":\"success\",\"tip\":\"Get 20x faster image generation using enterprise plan. Click here : https:\\/\\/stablediffusionapi.com\\/enterprise\",\"generationTime\":8.63364863395691,\"id\":56323399,\"output\":[\"https:\\/\\/cdn2.stablediffusionapi.com\\/generations\\/e06ac82b-17b3-4090-82c8-262639950e91-0.png\",\"https:\\/\\/cdn2.stablediffusionapi.com\\/generations\\/e06ac82b-17b3-4090-82c8-262639950e91-1.png\",\"https:\\/\\/cdn2.stablediffusionapi.com\\/generations\\/e06ac82b-17b3-4090-82c8-262639950e91-2.png\",\"https:\\/\\/cdn2.stablediffusionapi.com\\/generations\\/e06ac82b-17b3-4090-82c8-262639950e91-3.png\"],\"proxy_links\":\"\",\"nsfw_content_detected\":\"\",\"meta\":{\"H\":512,\"W\":512,\"enable_attention_slicing\":\"true\",\"file_prefix\":\"e06ac82b-17b3-4090-82c8-262639950e91\",\"guidance_scale\":7.5,\"instant_response\":\"no\",\"model\":\"runwayml\\/stable-diffusion-v1-5\",\"n_samples\":4,\"negative_prompt\":\"low quality\",\"outdir\":\"out\",\"prompt\":\"a hinny next to a tree\",\"revision\":\"fp16\",\"safetychecker\":\"yes\",\"seed\":2191251475,\"steps\":30,\"vae\":\"stabilityai\\/sd-vae-ft-mse\"}}\n",
            "https://cdn2.stablediffusionapi.com/generations/e06ac82b-17b3-4090-82c8-262639950e91-0.png\n",
            "https://cdn2.stablediffusionapi.com/generations/e06ac82b-17b3-4090-82c8-262639950e91-1.png\n",
            "https://cdn2.stablediffusionapi.com/generations/e06ac82b-17b3-4090-82c8-262639950e91-2.png\n",
            "https://cdn2.stablediffusionapi.com/generations/e06ac82b-17b3-4090-82c8-262639950e91-3.png\n",
            "0\n",
            "{\"status\":\"success\",\"tip\":\"Get 20x faster image generation using enterprise plan. Click here : https:\\/\\/stablediffusionapi.com\\/enterprise\",\"generationTime\":6.21633505821228,\"id\":56323416,\"output\":[\"https:\\/\\/cdn2.stablediffusionapi.com\\/generations\\/79f1e99f-565b-4c48-b9ce-d7ebc30cf152-0.png\",\"https:\\/\\/cdn2.stablediffusionapi.com\\/generations\\/79f1e99f-565b-4c48-b9ce-d7ebc30cf152-1.png\",\"https:\\/\\/cdn2.stablediffusionapi.com\\/generations\\/79f1e99f-565b-4c48-b9ce-d7ebc30cf152-2.png\",\"https:\\/\\/cdn2.stablediffusionapi.com\\/generations\\/79f1e99f-565b-4c48-b9ce-d7ebc30cf152-3.png\"],\"proxy_links\":\"\",\"nsfw_content_detected\":\"\",\"meta\":{\"H\":512,\"W\":512,\"enable_attention_slicing\":\"true\",\"file_prefix\":\"79f1e99f-565b-4c48-b9ce-d7ebc30cf152\",\"guidance_scale\":7.5,\"instant_response\":\"no\",\"model\":\"runwayml\\/stable-diffusion-v1-5\",\"n_samples\":4,\"negative_prompt\":\"low quality\",\"outdir\":\"out\",\"prompt\":\"a hinny next to a tree\",\"revision\":\"fp16\",\"safetychecker\":\"yes\",\"seed\":356837834,\"steps\":30,\"vae\":\"stabilityai\\/sd-vae-ft-mse\"}}\n",
            "https://cdn2.stablediffusionapi.com/generations/79f1e99f-565b-4c48-b9ce-d7ebc30cf152-0.png\n",
            "https://cdn2.stablediffusionapi.com/generations/79f1e99f-565b-4c48-b9ce-d7ebc30cf152-1.png\n",
            "https://cdn2.stablediffusionapi.com/generations/79f1e99f-565b-4c48-b9ce-d7ebc30cf152-2.png\n",
            "https://cdn2.stablediffusionapi.com/generations/79f1e99f-565b-4c48-b9ce-d7ebc30cf152-3.png\n",
            "0\n",
            "{\"status\":\"success\",\"tip\":\"Get 20x faster image generation using enterprise plan. Click here : https:\\/\\/stablediffusionapi.com\\/enterprise\",\"generationTime\":4.734820365905762,\"id\":56323435,\"output\":[\"https:\\/\\/pub-3626123a908346a7a8be8d9295f44e26.r2.dev\\/generations\\/aa0ac7b2-c46e-4ae2-a31f-34a5d635b5f8-0.png\",\"https:\\/\\/pub-3626123a908346a7a8be8d9295f44e26.r2.dev\\/generations\\/aa0ac7b2-c46e-4ae2-a31f-34a5d635b5f8-1.png\",\"https:\\/\\/pub-3626123a908346a7a8be8d9295f44e26.r2.dev\\/generations\\/aa0ac7b2-c46e-4ae2-a31f-34a5d635b5f8-2.png\",\"https:\\/\\/pub-3626123a908346a7a8be8d9295f44e26.r2.dev\\/generations\\/aa0ac7b2-c46e-4ae2-a31f-34a5d635b5f8-3.png\"],\"proxy_links\":\"\",\"nsfw_content_detected\":\"\",\"meta\":{\"H\":512,\"W\":512,\"enable_attention_slicing\":\"true\",\"file_prefix\":\"aa0ac7b2-c46e-4ae2-a31f-34a5d635b5f8\",\"guidance_scale\":7.5,\"instant_response\":\"no\",\"model\":\"runwayml\\/stable-diffusion-v1-5\",\"n_samples\":4,\"negative_prompt\":\"low quality\",\"outdir\":\"out\",\"prompt\":\"a hinny next to a tree\",\"revision\":\"fp16\",\"safetychecker\":\"yes\",\"seed\":750812228,\"steps\":30,\"vae\":\"stabilityai\\/sd-vae-ft-mse\"}}\n",
            "https://pub-3626123a908346a7a8be8d9295f44e26.r2.dev/generations/aa0ac7b2-c46e-4ae2-a31f-34a5d635b5f8-0.png\n",
            "https://pub-3626123a908346a7a8be8d9295f44e26.r2.dev/generations/aa0ac7b2-c46e-4ae2-a31f-34a5d635b5f8-1.png\n",
            "https://pub-3626123a908346a7a8be8d9295f44e26.r2.dev/generations/aa0ac7b2-c46e-4ae2-a31f-34a5d635b5f8-2.png\n",
            "https://pub-3626123a908346a7a8be8d9295f44e26.r2.dev/generations/aa0ac7b2-c46e-4ae2-a31f-34a5d635b5f8-3.png\n",
            "0\n",
            "{\"status\":\"success\",\"tip\":\"Get 20x faster image generation using enterprise plan. Click here : https:\\/\\/stablediffusionapi.com\\/enterprise\",\"generationTime\":2.4727020263671875,\"id\":56323458,\"output\":[\"https:\\/\\/cdn2.stablediffusionapi.com\\/generations\\/30da4089-a5b8-443b-bf47-422a01fca6c6-0.png\",\"https:\\/\\/cdn2.stablediffusionapi.com\\/generations\\/30da4089-a5b8-443b-bf47-422a01fca6c6-1.png\",\"https:\\/\\/cdn2.stablediffusionapi.com\\/generations\\/30da4089-a5b8-443b-bf47-422a01fca6c6-2.png\",\"https:\\/\\/cdn2.stablediffusionapi.com\\/generations\\/30da4089-a5b8-443b-bf47-422a01fca6c6-3.png\"],\"proxy_links\":\"\",\"nsfw_content_detected\":\"\",\"meta\":{\"H\":512,\"W\":512,\"enable_attention_slicing\":\"true\",\"file_prefix\":\"30da4089-a5b8-443b-bf47-422a01fca6c6\",\"guidance_scale\":7.5,\"instant_response\":\"no\",\"model\":\"runwayml\\/stable-diffusion-v1-5\",\"n_samples\":4,\"negative_prompt\":\"low quality\",\"outdir\":\"out\",\"prompt\":\"a hinny next to a tree\",\"revision\":\"fp16\",\"safetychecker\":\"yes\",\"seed\":1888203686,\"steps\":30,\"vae\":\"stabilityai\\/sd-vae-ft-mse\"}}\n",
            "https://cdn2.stablediffusionapi.com/generations/30da4089-a5b8-443b-bf47-422a01fca6c6-0.png\n",
            "https://cdn2.stablediffusionapi.com/generations/30da4089-a5b8-443b-bf47-422a01fca6c6-1.png\n",
            "https://cdn2.stablediffusionapi.com/generations/30da4089-a5b8-443b-bf47-422a01fca6c6-2.png\n",
            "https://cdn2.stablediffusionapi.com/generations/30da4089-a5b8-443b-bf47-422a01fca6c6-3.png\n",
            "0\n",
            "{\"status\":\"failed\",\"id\":\"\",\"tip\":\"Get 20x faster image generation using enterprise plan. Click here : https:\\/\\/stablediffusionapi.com\\/enterprise\",\"messege\":\"Failed, Try Again\",\"output\":\"\"}\n",
            "0\n",
            "{\"status\":\"success\",\"tip\":\"Get 20x faster image generation using enterprise plan. Click here : https:\\/\\/stablediffusionapi.com\\/enterprise\",\"generationTime\":2.478672504425049,\"id\":56323484,\"output\":[\"https:\\/\\/cdn2.stablediffusionapi.com\\/generations\\/8d522dec-7edc-44db-be78-fdf4a98b7abf-0.png\",\"https:\\/\\/cdn2.stablediffusionapi.com\\/generations\\/8d522dec-7edc-44db-be78-fdf4a98b7abf-1.png\",\"https:\\/\\/cdn2.stablediffusionapi.com\\/generations\\/8d522dec-7edc-44db-be78-fdf4a98b7abf-2.png\",\"https:\\/\\/cdn2.stablediffusionapi.com\\/generations\\/8d522dec-7edc-44db-be78-fdf4a98b7abf-3.png\"],\"proxy_links\":\"\",\"nsfw_content_detected\":\"\",\"meta\":{\"H\":512,\"W\":512,\"enable_attention_slicing\":\"true\",\"file_prefix\":\"8d522dec-7edc-44db-be78-fdf4a98b7abf\",\"guidance_scale\":7.5,\"instant_response\":\"no\",\"model\":\"runwayml\\/stable-diffusion-v1-5\",\"n_samples\":4,\"negative_prompt\":\"low quality\",\"outdir\":\"out\",\"prompt\":\"a hinny next to a tree\",\"revision\":\"fp16\",\"safetychecker\":\"yes\",\"seed\":3507926348,\"steps\":30,\"vae\":\"stabilityai\\/sd-vae-ft-mse\"}}\n",
            "https://cdn2.stablediffusionapi.com/generations/8d522dec-7edc-44db-be78-fdf4a98b7abf-0.png\n",
            "https://cdn2.stablediffusionapi.com/generations/8d522dec-7edc-44db-be78-fdf4a98b7abf-1.png\n",
            "https://cdn2.stablediffusionapi.com/generations/8d522dec-7edc-44db-be78-fdf4a98b7abf-2.png\n",
            "https://cdn2.stablediffusionapi.com/generations/8d522dec-7edc-44db-be78-fdf4a98b7abf-3.png\n",
            "0\n",
            "{\"status\":\"success\",\"tip\":\"Get 20x faster image generation using enterprise plan. Click here : https:\\/\\/stablediffusionapi.com\\/enterprise\",\"generationTime\":6.186879873275757,\"id\":56323511,\"output\":[\"https:\\/\\/cdn2.stablediffusionapi.com\\/generations\\/5950de61-243a-46bb-9733-7e797cb764bc-0.png\",\"https:\\/\\/cdn2.stablediffusionapi.com\\/generations\\/5950de61-243a-46bb-9733-7e797cb764bc-1.png\",\"https:\\/\\/cdn2.stablediffusionapi.com\\/generations\\/5950de61-243a-46bb-9733-7e797cb764bc-2.png\",\"https:\\/\\/cdn2.stablediffusionapi.com\\/generations\\/5950de61-243a-46bb-9733-7e797cb764bc-3.png\"],\"proxy_links\":\"\",\"nsfw_content_detected\":\"\",\"meta\":{\"H\":512,\"W\":512,\"enable_attention_slicing\":\"true\",\"file_prefix\":\"5950de61-243a-46bb-9733-7e797cb764bc\",\"guidance_scale\":7.5,\"instant_response\":\"no\",\"model\":\"runwayml\\/stable-diffusion-v1-5\",\"n_samples\":4,\"negative_prompt\":\"low quality\",\"outdir\":\"out\",\"prompt\":\"a hinny next to a tree\",\"revision\":\"fp16\",\"safetychecker\":\"yes\",\"seed\":2788506806,\"steps\":30,\"vae\":\"stabilityai\\/sd-vae-ft-mse\"}}\n",
            "https://cdn2.stablediffusionapi.com/generations/5950de61-243a-46bb-9733-7e797cb764bc-0.png\n",
            "https://cdn2.stablediffusionapi.com/generations/5950de61-243a-46bb-9733-7e797cb764bc-1.png\n",
            "https://cdn2.stablediffusionapi.com/generations/5950de61-243a-46bb-9733-7e797cb764bc-2.png\n",
            "https://cdn2.stablediffusionapi.com/generations/5950de61-243a-46bb-9733-7e797cb764bc-3.png\n",
            "\n",
            "0\n",
            "{\"status\":\"success\",\"tip\":\"Get 20x faster image generation using enterprise plan. Click here : https:\\/\\/stablediffusionapi.com\\/enterprise\",\"generationTime\":3.47794246673584,\"id\":56323535,\"output\":[\"https:\\/\\/cdn2.stablediffusionapi.com\\/generations\\/048bc01e-c825-4545-94d5-191cf47e2a43-0.png\",\"https:\\/\\/cdn2.stablediffusionapi.com\\/generations\\/048bc01e-c825-4545-94d5-191cf47e2a43-1.png\",\"https:\\/\\/cdn2.stablediffusionapi.com\\/generations\\/048bc01e-c825-4545-94d5-191cf47e2a43-2.png\",\"https:\\/\\/cdn2.stablediffusionapi.com\\/generations\\/048bc01e-c825-4545-94d5-191cf47e2a43-3.png\"],\"proxy_links\":\"\",\"nsfw_content_detected\":\"\",\"meta\":{\"H\":512,\"W\":512,\"enable_attention_slicing\":\"true\",\"file_prefix\":\"048bc01e-c825-4545-94d5-191cf47e2a43\",\"guidance_scale\":7.5,\"instant_response\":\"no\",\"model\":\"runwayml\\/stable-diffusion-v1-5\",\"n_samples\":4,\"negative_prompt\":\"low quality\",\"outdir\":\"out\",\"prompt\":\"a liger next to a tree\",\"revision\":\"fp16\",\"safetychecker\":\"yes\",\"seed\":1781954756,\"steps\":30,\"vae\":\"stabilityai\\/sd-vae-ft-mse\"}}\n",
            "https://cdn2.stablediffusionapi.com/generations/048bc01e-c825-4545-94d5-191cf47e2a43-0.png\n",
            "https://cdn2.stablediffusionapi.com/generations/048bc01e-c825-4545-94d5-191cf47e2a43-1.png\n",
            "https://cdn2.stablediffusionapi.com/generations/048bc01e-c825-4545-94d5-191cf47e2a43-2.png\n",
            "https://cdn2.stablediffusionapi.com/generations/048bc01e-c825-4545-94d5-191cf47e2a43-3.png\n",
            "0\n",
            "{\"status\":\"success\",\"tip\":\"Get 20x faster image generation using enterprise plan. Click here : https:\\/\\/stablediffusionapi.com\\/enterprise\",\"generationTime\":6.07699179649353,\"id\":56323562,\"output\":[\"https:\\/\\/cdn2.stablediffusionapi.com\\/generations\\/8f922b83-afc1-4477-ac49-92994d73fe71-0.png\",\"https:\\/\\/cdn2.stablediffusionapi.com\\/generations\\/8f922b83-afc1-4477-ac49-92994d73fe71-1.png\",\"https:\\/\\/cdn2.stablediffusionapi.com\\/generations\\/8f922b83-afc1-4477-ac49-92994d73fe71-2.png\",\"https:\\/\\/cdn2.stablediffusionapi.com\\/generations\\/8f922b83-afc1-4477-ac49-92994d73fe71-3.png\"],\"proxy_links\":\"\",\"nsfw_content_detected\":\"\",\"meta\":{\"H\":512,\"W\":512,\"enable_attention_slicing\":\"true\",\"file_prefix\":\"8f922b83-afc1-4477-ac49-92994d73fe71\",\"guidance_scale\":7.5,\"instant_response\":\"no\",\"model\":\"runwayml\\/stable-diffusion-v1-5\",\"n_samples\":4,\"negative_prompt\":\"low quality\",\"outdir\":\"out\",\"prompt\":\"a liger next to a tree\",\"revision\":\"fp16\",\"safetychecker\":\"yes\",\"seed\":2014817499,\"steps\":30,\"vae\":\"stabilityai\\/sd-vae-ft-mse\"}}\n",
            "https://cdn2.stablediffusionapi.com/generations/8f922b83-afc1-4477-ac49-92994d73fe71-0.png\n",
            "https://cdn2.stablediffusionapi.com/generations/8f922b83-afc1-4477-ac49-92994d73fe71-1.png\n",
            "https://cdn2.stablediffusionapi.com/generations/8f922b83-afc1-4477-ac49-92994d73fe71-2.png\n",
            "https://cdn2.stablediffusionapi.com/generations/8f922b83-afc1-4477-ac49-92994d73fe71-3.png\n",
            "0\n",
            "{\"status\":\"success\",\"tip\":\"Get 20x faster image generation using enterprise plan. Click here : https:\\/\\/stablediffusionapi.com\\/enterprise\",\"generationTime\":8.454912185668945,\"id\":56323603,\"output\":[\"https:\\/\\/cdn2.stablediffusionapi.com\\/generations\\/66dac424-af28-40f1-87d3-81162431ed8f-0.png\",\"https:\\/\\/cdn2.stablediffusionapi.com\\/generations\\/66dac424-af28-40f1-87d3-81162431ed8f-1.png\",\"https:\\/\\/cdn2.stablediffusionapi.com\\/generations\\/66dac424-af28-40f1-87d3-81162431ed8f-2.png\",\"https:\\/\\/cdn2.stablediffusionapi.com\\/generations\\/66dac424-af28-40f1-87d3-81162431ed8f-3.png\"],\"proxy_links\":\"\",\"nsfw_content_detected\":\"\",\"meta\":{\"H\":512,\"W\":512,\"enable_attention_slicing\":\"true\",\"file_prefix\":\"66dac424-af28-40f1-87d3-81162431ed8f\",\"guidance_scale\":7.5,\"instant_response\":\"no\",\"model\":\"runwayml\\/stable-diffusion-v1-5\",\"n_samples\":4,\"negative_prompt\":\"low quality\",\"outdir\":\"out\",\"prompt\":\"a liger next to a tree\",\"revision\":\"fp16\",\"safetychecker\":\"yes\",\"seed\":335750002,\"steps\":30,\"vae\":\"stabilityai\\/sd-vae-ft-mse\"}}\n",
            "https://cdn2.stablediffusionapi.com/generations/66dac424-af28-40f1-87d3-81162431ed8f-0.png\n",
            "https://cdn2.stablediffusionapi.com/generations/66dac424-af28-40f1-87d3-81162431ed8f-1.png\n",
            "https://cdn2.stablediffusionapi.com/generations/66dac424-af28-40f1-87d3-81162431ed8f-2.png\n",
            "https://cdn2.stablediffusionapi.com/generations/66dac424-af28-40f1-87d3-81162431ed8f-3.png\n",
            "0\n",
            "{\"status\":\"success\",\"tip\":\"Get 20x faster image generation using enterprise plan. Click here : https:\\/\\/stablediffusionapi.com\\/enterprise\",\"generationTime\":2.4984278678894043,\"id\":56323637,\"output\":[\"https:\\/\\/cdn2.stablediffusionapi.com\\/generations\\/f71f8ce6-886c-44c0-a3bd-d4e641b32abd-0.png\",\"https:\\/\\/cdn2.stablediffusionapi.com\\/generations\\/f71f8ce6-886c-44c0-a3bd-d4e641b32abd-1.png\",\"https:\\/\\/cdn2.stablediffusionapi.com\\/generations\\/f71f8ce6-886c-44c0-a3bd-d4e641b32abd-2.png\",\"https:\\/\\/cdn2.stablediffusionapi.com\\/generations\\/f71f8ce6-886c-44c0-a3bd-d4e641b32abd-3.png\"],\"proxy_links\":\"\",\"nsfw_content_detected\":\"\",\"meta\":{\"H\":512,\"W\":512,\"enable_attention_slicing\":\"true\",\"file_prefix\":\"f71f8ce6-886c-44c0-a3bd-d4e641b32abd\",\"guidance_scale\":7.5,\"instant_response\":\"no\",\"model\":\"runwayml\\/stable-diffusion-v1-5\",\"n_samples\":4,\"negative_prompt\":\"low quality\",\"outdir\":\"out\",\"prompt\":\"a liger next to a tree\",\"revision\":\"fp16\",\"safetychecker\":\"yes\",\"seed\":4289151353,\"steps\":30,\"vae\":\"stabilityai\\/sd-vae-ft-mse\"}}\n",
            "https://cdn2.stablediffusionapi.com/generations/f71f8ce6-886c-44c0-a3bd-d4e641b32abd-0.png\n",
            "https://cdn2.stablediffusionapi.com/generations/f71f8ce6-886c-44c0-a3bd-d4e641b32abd-1.png\n",
            "https://cdn2.stablediffusionapi.com/generations/f71f8ce6-886c-44c0-a3bd-d4e641b32abd-2.png\n",
            "https://cdn2.stablediffusionapi.com/generations/f71f8ce6-886c-44c0-a3bd-d4e641b32abd-3.png\n",
            "0\n",
            "{\"status\":\"success\",\"tip\":\"Get 20x faster image generation using enterprise plan. Click here : https:\\/\\/stablediffusionapi.com\\/enterprise\",\"generationTime\":12.32593297958374,\"id\":56323686,\"output\":[\"https:\\/\\/cdn2.stablediffusionapi.com\\/generations\\/929781f5-bbc2-4787-9d29-72430158bfb6-0.png\",\"https:\\/\\/cdn2.stablediffusionapi.com\\/generations\\/929781f5-bbc2-4787-9d29-72430158bfb6-1.png\",\"https:\\/\\/cdn2.stablediffusionapi.com\\/generations\\/929781f5-bbc2-4787-9d29-72430158bfb6-2.png\",\"https:\\/\\/cdn2.stablediffusionapi.com\\/generations\\/929781f5-bbc2-4787-9d29-72430158bfb6-3.png\"],\"proxy_links\":\"\",\"nsfw_content_detected\":\"\",\"meta\":{\"H\":512,\"W\":512,\"enable_attention_slicing\":\"true\",\"file_prefix\":\"929781f5-bbc2-4787-9d29-72430158bfb6\",\"guidance_scale\":7.5,\"instant_response\":\"no\",\"model\":\"runwayml\\/stable-diffusion-v1-5\",\"n_samples\":4,\"negative_prompt\":\"low quality\",\"outdir\":\"out\",\"prompt\":\"a liger next to a tree\",\"revision\":\"fp16\",\"safetychecker\":\"yes\",\"seed\":2170106674,\"steps\":30,\"vae\":\"stabilityai\\/sd-vae-ft-mse\"}}\n",
            "https://cdn2.stablediffusionapi.com/generations/929781f5-bbc2-4787-9d29-72430158bfb6-0.png\n",
            "https://cdn2.stablediffusionapi.com/generations/929781f5-bbc2-4787-9d29-72430158bfb6-1.png\n",
            "https://cdn2.stablediffusionapi.com/generations/929781f5-bbc2-4787-9d29-72430158bfb6-2.png\n",
            "https://cdn2.stablediffusionapi.com/generations/929781f5-bbc2-4787-9d29-72430158bfb6-3.png\n",
            "0\n",
            "{\"status\":\"success\",\"tip\":\"Get 20x faster image generation using enterprise plan. Click here : https:\\/\\/stablediffusionapi.com\\/enterprise\",\"generationTime\":2.3570327758789062,\"id\":56323707,\"output\":[\"https:\\/\\/cdn2.stablediffusionapi.com\\/generations\\/8d1cf946-0cc3-4ff1-af1e-681a64daffaf-0.png\",\"https:\\/\\/cdn2.stablediffusionapi.com\\/generations\\/8d1cf946-0cc3-4ff1-af1e-681a64daffaf-1.png\",\"https:\\/\\/cdn2.stablediffusionapi.com\\/generations\\/8d1cf946-0cc3-4ff1-af1e-681a64daffaf-2.png\",\"https:\\/\\/cdn2.stablediffusionapi.com\\/generations\\/8d1cf946-0cc3-4ff1-af1e-681a64daffaf-3.png\"],\"proxy_links\":\"\",\"nsfw_content_detected\":\"\",\"meta\":{\"H\":512,\"W\":512,\"enable_attention_slicing\":\"true\",\"file_prefix\":\"8d1cf946-0cc3-4ff1-af1e-681a64daffaf\",\"guidance_scale\":7.5,\"instant_response\":\"no\",\"model\":\"runwayml\\/stable-diffusion-v1-5\",\"n_samples\":4,\"negative_prompt\":\"low quality\",\"outdir\":\"out\",\"prompt\":\"a liger next to a tree\",\"revision\":\"fp16\",\"safetychecker\":\"yes\",\"seed\":1051980606,\"steps\":30,\"vae\":\"stabilityai\\/sd-vae-ft-mse\"}}\n",
            "https://cdn2.stablediffusionapi.com/generations/8d1cf946-0cc3-4ff1-af1e-681a64daffaf-0.png\n",
            "https://cdn2.stablediffusionapi.com/generations/8d1cf946-0cc3-4ff1-af1e-681a64daffaf-1.png\n",
            "https://cdn2.stablediffusionapi.com/generations/8d1cf946-0cc3-4ff1-af1e-681a64daffaf-2.png\n",
            "https://cdn2.stablediffusionapi.com/generations/8d1cf946-0cc3-4ff1-af1e-681a64daffaf-3.png\n",
            "\n",
            "0\n",
            "{\"status\":\"success\",\"tip\":\"Get 20x faster image generation using enterprise plan. Click here : https:\\/\\/stablediffusionapi.com\\/enterprise\",\"generationTime\":3.0948944091796875,\"id\":56323739,\"output\":[\"https:\\/\\/cdn2.stablediffusionapi.com\\/generations\\/3c31406b-2c38-4a2b-ace5-64eb7d4fa956-0.png\",\"https:\\/\\/cdn2.stablediffusionapi.com\\/generations\\/3c31406b-2c38-4a2b-ace5-64eb7d4fa956-1.png\",\"https:\\/\\/cdn2.stablediffusionapi.com\\/generations\\/3c31406b-2c38-4a2b-ace5-64eb7d4fa956-2.png\",\"https:\\/\\/cdn2.stablediffusionapi.com\\/generations\\/3c31406b-2c38-4a2b-ace5-64eb7d4fa956-3.png\"],\"proxy_links\":\"\",\"nsfw_content_detected\":\"\",\"meta\":{\"H\":512,\"W\":512,\"enable_attention_slicing\":\"true\",\"file_prefix\":\"3c31406b-2c38-4a2b-ace5-64eb7d4fa956\",\"guidance_scale\":7.5,\"instant_response\":\"no\",\"model\":\"runwayml\\/stable-diffusion-v1-5\",\"n_samples\":4,\"negative_prompt\":\"low quality\",\"outdir\":\"out\",\"prompt\":\"a Australian terrier next to a tree\",\"revision\":\"fp16\",\"safetychecker\":\"yes\",\"seed\":410403951,\"steps\":30,\"vae\":\"stabilityai\\/sd-vae-ft-mse\"}}\n",
            "https://cdn2.stablediffusionapi.com/generations/3c31406b-2c38-4a2b-ace5-64eb7d4fa956-0.png\n",
            "https://cdn2.stablediffusionapi.com/generations/3c31406b-2c38-4a2b-ace5-64eb7d4fa956-1.png\n",
            "https://cdn2.stablediffusionapi.com/generations/3c31406b-2c38-4a2b-ace5-64eb7d4fa956-2.png\n",
            "https://cdn2.stablediffusionapi.com/generations/3c31406b-2c38-4a2b-ace5-64eb7d4fa956-3.png\n",
            "0\n",
            "{\"status\":\"success\",\"tip\":\"Get 20x faster image generation using enterprise plan. Click here : https:\\/\\/stablediffusionapi.com\\/enterprise\",\"generationTime\":18.211803913116455,\"id\":56323784,\"output\":[\"https:\\/\\/cdn2.stablediffusionapi.com\\/generations\\/142a1c3b-c99b-4246-82f2-f9742bbe173f-0.png\",\"https:\\/\\/cdn2.stablediffusionapi.com\\/generations\\/142a1c3b-c99b-4246-82f2-f9742bbe173f-1.png\",\"https:\\/\\/cdn2.stablediffusionapi.com\\/generations\\/142a1c3b-c99b-4246-82f2-f9742bbe173f-2.png\",\"https:\\/\\/cdn2.stablediffusionapi.com\\/generations\\/142a1c3b-c99b-4246-82f2-f9742bbe173f-3.png\"],\"proxy_links\":\"\",\"nsfw_content_detected\":\"\",\"meta\":{\"H\":512,\"W\":512,\"enable_attention_slicing\":\"true\",\"file_prefix\":\"142a1c3b-c99b-4246-82f2-f9742bbe173f\",\"guidance_scale\":7.5,\"instant_response\":\"no\",\"model\":\"runwayml\\/stable-diffusion-v1-5\",\"n_samples\":4,\"negative_prompt\":\"low quality\",\"outdir\":\"out\",\"prompt\":\"a Australian terrier next to a tree\",\"revision\":\"fp16\",\"safetychecker\":\"yes\",\"seed\":4114721449,\"steps\":30,\"vae\":\"stabilityai\\/sd-vae-ft-mse\"}}\n",
            "https://cdn2.stablediffusionapi.com/generations/142a1c3b-c99b-4246-82f2-f9742bbe173f-0.png\n",
            "https://cdn2.stablediffusionapi.com/generations/142a1c3b-c99b-4246-82f2-f9742bbe173f-1.png\n",
            "https://cdn2.stablediffusionapi.com/generations/142a1c3b-c99b-4246-82f2-f9742bbe173f-2.png\n",
            "https://cdn2.stablediffusionapi.com/generations/142a1c3b-c99b-4246-82f2-f9742bbe173f-3.png\n",
            "0\n",
            "{\"status\":\"success\",\"tip\":\"Get 20x faster image generation using enterprise plan. Click here : https:\\/\\/stablediffusionapi.com\\/enterprise\",\"generationTime\":4.721759796142578,\"id\":56323812,\"output\":[\"https:\\/\\/pub-3626123a908346a7a8be8d9295f44e26.r2.dev\\/generations\\/64b030a6-2deb-412c-83c7-1b880969860d-0.png\",\"https:\\/\\/pub-3626123a908346a7a8be8d9295f44e26.r2.dev\\/generations\\/64b030a6-2deb-412c-83c7-1b880969860d-1.png\",\"https:\\/\\/pub-3626123a908346a7a8be8d9295f44e26.r2.dev\\/generations\\/64b030a6-2deb-412c-83c7-1b880969860d-2.png\",\"https:\\/\\/pub-3626123a908346a7a8be8d9295f44e26.r2.dev\\/generations\\/64b030a6-2deb-412c-83c7-1b880969860d-3.png\"],\"proxy_links\":\"\",\"nsfw_content_detected\":\"\",\"meta\":{\"H\":512,\"W\":512,\"enable_attention_slicing\":\"true\",\"file_prefix\":\"64b030a6-2deb-412c-83c7-1b880969860d\",\"guidance_scale\":7.5,\"instant_response\":\"no\",\"model\":\"runwayml\\/stable-diffusion-v1-5\",\"n_samples\":4,\"negative_prompt\":\"low quality\",\"outdir\":\"out\",\"prompt\":\"a Australian terrier next to a tree\",\"revision\":\"fp16\",\"safetychecker\":\"yes\",\"seed\":339369184,\"steps\":30,\"vae\":\"stabilityai\\/sd-vae-ft-mse\"}}\n",
            "https://pub-3626123a908346a7a8be8d9295f44e26.r2.dev/generations/64b030a6-2deb-412c-83c7-1b880969860d-0.png\n",
            "https://pub-3626123a908346a7a8be8d9295f44e26.r2.dev/generations/64b030a6-2deb-412c-83c7-1b880969860d-1.png\n",
            "https://pub-3626123a908346a7a8be8d9295f44e26.r2.dev/generations/64b030a6-2deb-412c-83c7-1b880969860d-2.png\n",
            "https://pub-3626123a908346a7a8be8d9295f44e26.r2.dev/generations/64b030a6-2deb-412c-83c7-1b880969860d-3.png\n",
            "0\n",
            "{\"status\":\"success\",\"tip\":\"Get 20x faster image generation using enterprise plan. Click here : https:\\/\\/stablediffusionapi.com\\/enterprise\",\"generationTime\":2.411442756652832,\"id\":56323831,\"output\":[\"https:\\/\\/cdn2.stablediffusionapi.com\\/generations\\/c40b3bb0-7cea-4136-8a7e-6b306aaac8d0-0.png\",\"https:\\/\\/cdn2.stablediffusionapi.com\\/generations\\/c40b3bb0-7cea-4136-8a7e-6b306aaac8d0-1.png\",\"https:\\/\\/cdn2.stablediffusionapi.com\\/generations\\/c40b3bb0-7cea-4136-8a7e-6b306aaac8d0-2.png\",\"https:\\/\\/cdn2.stablediffusionapi.com\\/generations\\/c40b3bb0-7cea-4136-8a7e-6b306aaac8d0-3.png\"],\"proxy_links\":\"\",\"nsfw_content_detected\":\"\",\"meta\":{\"H\":512,\"W\":512,\"enable_attention_slicing\":\"true\",\"file_prefix\":\"c40b3bb0-7cea-4136-8a7e-6b306aaac8d0\",\"guidance_scale\":7.5,\"instant_response\":\"no\",\"model\":\"runwayml\\/stable-diffusion-v1-5\",\"n_samples\":4,\"negative_prompt\":\"low quality\",\"outdir\":\"out\",\"prompt\":\"a Australian terrier next to a tree\",\"revision\":\"fp16\",\"safetychecker\":\"yes\",\"seed\":3216308065,\"steps\":30,\"vae\":\"stabilityai\\/sd-vae-ft-mse\"}}\n",
            "https://cdn2.stablediffusionapi.com/generations/c40b3bb0-7cea-4136-8a7e-6b306aaac8d0-0.png\n",
            "https://cdn2.stablediffusionapi.com/generations/c40b3bb0-7cea-4136-8a7e-6b306aaac8d0-1.png\n",
            "https://cdn2.stablediffusionapi.com/generations/c40b3bb0-7cea-4136-8a7e-6b306aaac8d0-2.png\n",
            "https://cdn2.stablediffusionapi.com/generations/c40b3bb0-7cea-4136-8a7e-6b306aaac8d0-3.png\n",
            "0\n",
            "{\"status\":\"success\",\"tip\":\"Get 20x faster image generation using enterprise plan. Click here : https:\\/\\/stablediffusionapi.com\\/enterprise\",\"generationTime\":5.067540645599365,\"id\":56323861,\"output\":[\"https:\\/\\/pub-3626123a908346a7a8be8d9295f44e26.r2.dev\\/generations\\/8b2fc774-c3be-4c32-b3f6-4a6166d14a52-0.png\",\"https:\\/\\/pub-3626123a908346a7a8be8d9295f44e26.r2.dev\\/generations\\/8b2fc774-c3be-4c32-b3f6-4a6166d14a52-1.png\",\"https:\\/\\/pub-3626123a908346a7a8be8d9295f44e26.r2.dev\\/generations\\/8b2fc774-c3be-4c32-b3f6-4a6166d14a52-2.png\",\"https:\\/\\/pub-3626123a908346a7a8be8d9295f44e26.r2.dev\\/generations\\/8b2fc774-c3be-4c32-b3f6-4a6166d14a52-3.png\"],\"proxy_links\":\"\",\"nsfw_content_detected\":\"\",\"meta\":{\"H\":512,\"W\":512,\"enable_attention_slicing\":\"true\",\"file_prefix\":\"8b2fc774-c3be-4c32-b3f6-4a6166d14a52\",\"guidance_scale\":7.5,\"instant_response\":\"no\",\"model\":\"runwayml\\/stable-diffusion-v1-5\",\"n_samples\":4,\"negative_prompt\":\"low quality\",\"outdir\":\"out\",\"prompt\":\"a Australian terrier next to a tree\",\"revision\":\"fp16\",\"safetychecker\":\"yes\",\"seed\":1791122476,\"steps\":30,\"vae\":\"stabilityai\\/sd-vae-ft-mse\"}}\n",
            "https://pub-3626123a908346a7a8be8d9295f44e26.r2.dev/generations/8b2fc774-c3be-4c32-b3f6-4a6166d14a52-0.png\n",
            "https://pub-3626123a908346a7a8be8d9295f44e26.r2.dev/generations/8b2fc774-c3be-4c32-b3f6-4a6166d14a52-1.png\n",
            "https://pub-3626123a908346a7a8be8d9295f44e26.r2.dev/generations/8b2fc774-c3be-4c32-b3f6-4a6166d14a52-2.png\n",
            "https://pub-3626123a908346a7a8be8d9295f44e26.r2.dev/generations/8b2fc774-c3be-4c32-b3f6-4a6166d14a52-3.png\n",
            "0\n",
            "{\"status\":\"success\",\"tip\":\"Get 20x faster image generation using enterprise plan. Click here : https:\\/\\/stablediffusionapi.com\\/enterprise\",\"generationTime\":2.5169105529785156,\"id\":56323897,\"output\":[\"https:\\/\\/cdn2.stablediffusionapi.com\\/generations\\/5a89e3eb-d8b4-4b39-b291-8ef0c900e2ff-0.png\",\"https:\\/\\/cdn2.stablediffusionapi.com\\/generations\\/5a89e3eb-d8b4-4b39-b291-8ef0c900e2ff-1.png\",\"https:\\/\\/cdn2.stablediffusionapi.com\\/generations\\/5a89e3eb-d8b4-4b39-b291-8ef0c900e2ff-2.png\",\"https:\\/\\/cdn2.stablediffusionapi.com\\/generations\\/5a89e3eb-d8b4-4b39-b291-8ef0c900e2ff-3.png\"],\"proxy_links\":\"\",\"nsfw_content_detected\":\"\",\"meta\":{\"H\":512,\"W\":512,\"enable_attention_slicing\":\"true\",\"file_prefix\":\"5a89e3eb-d8b4-4b39-b291-8ef0c900e2ff\",\"guidance_scale\":7.5,\"instant_response\":\"no\",\"model\":\"runwayml\\/stable-diffusion-v1-5\",\"n_samples\":4,\"negative_prompt\":\"low quality\",\"outdir\":\"out\",\"prompt\":\"a Australian terrier next to a tree\",\"revision\":\"fp16\",\"safetychecker\":\"yes\",\"seed\":3690537887,\"steps\":30,\"vae\":\"stabilityai\\/sd-vae-ft-mse\"}}\n",
            "https://cdn2.stablediffusionapi.com/generations/5a89e3eb-d8b4-4b39-b291-8ef0c900e2ff-0.png\n",
            "https://cdn2.stablediffusionapi.com/generations/5a89e3eb-d8b4-4b39-b291-8ef0c900e2ff-1.png\n",
            "https://cdn2.stablediffusionapi.com/generations/5a89e3eb-d8b4-4b39-b291-8ef0c900e2ff-2.png\n",
            "https://cdn2.stablediffusionapi.com/generations/5a89e3eb-d8b4-4b39-b291-8ef0c900e2ff-3.png\n",
            "\n",
            "0\n",
            "{\"status\":\"success\",\"tip\":\"Get 20x faster image generation using enterprise plan. Click here : https:\\/\\/stablediffusionapi.com\\/enterprise\",\"generationTime\":8.376925230026245,\"id\":56323939,\"output\":[\"https:\\/\\/pub-3626123a908346a7a8be8d9295f44e26.r2.dev\\/generations\\/a2f9a427-ccc7-4abc-9aa1-69cd334ea523-0.png\",\"https:\\/\\/pub-3626123a908346a7a8be8d9295f44e26.r2.dev\\/generations\\/a2f9a427-ccc7-4abc-9aa1-69cd334ea523-1.png\",\"https:\\/\\/pub-3626123a908346a7a8be8d9295f44e26.r2.dev\\/generations\\/a2f9a427-ccc7-4abc-9aa1-69cd334ea523-2.png\",\"https:\\/\\/pub-3626123a908346a7a8be8d9295f44e26.r2.dev\\/generations\\/a2f9a427-ccc7-4abc-9aa1-69cd334ea523-3.png\"],\"proxy_links\":\"\",\"nsfw_content_detected\":\"\",\"meta\":{\"H\":512,\"W\":512,\"enable_attention_slicing\":\"true\",\"file_prefix\":\"a2f9a427-ccc7-4abc-9aa1-69cd334ea523\",\"guidance_scale\":7.5,\"instant_response\":\"no\",\"model\":\"runwayml\\/stable-diffusion-v1-5\",\"n_samples\":4,\"negative_prompt\":\"low quality\",\"outdir\":\"out\",\"prompt\":\"a Trichechus manatus next to a tree\",\"revision\":\"fp16\",\"safetychecker\":\"yes\",\"seed\":3992010854,\"steps\":30,\"vae\":\"stabilityai\\/sd-vae-ft-mse\"}}\n",
            "https://pub-3626123a908346a7a8be8d9295f44e26.r2.dev/generations/a2f9a427-ccc7-4abc-9aa1-69cd334ea523-0.png\n",
            "https://pub-3626123a908346a7a8be8d9295f44e26.r2.dev/generations/a2f9a427-ccc7-4abc-9aa1-69cd334ea523-1.png\n",
            "https://pub-3626123a908346a7a8be8d9295f44e26.r2.dev/generations/a2f9a427-ccc7-4abc-9aa1-69cd334ea523-2.png\n",
            "https://pub-3626123a908346a7a8be8d9295f44e26.r2.dev/generations/a2f9a427-ccc7-4abc-9aa1-69cd334ea523-3.png\n",
            "0\n",
            "{\"status\":\"success\",\"tip\":\"Get 20x faster image generation using enterprise plan. Click here : https:\\/\\/stablediffusionapi.com\\/enterprise\",\"generationTime\":6.742343425750732,\"id\":56323972,\"output\":[\"https:\\/\\/cdn2.stablediffusionapi.com\\/generations\\/81a188dd-0044-4bca-bf75-8edaca95459a-0.png\",\"https:\\/\\/cdn2.stablediffusionapi.com\\/generations\\/81a188dd-0044-4bca-bf75-8edaca95459a-1.png\",\"https:\\/\\/cdn2.stablediffusionapi.com\\/generations\\/81a188dd-0044-4bca-bf75-8edaca95459a-2.png\",\"https:\\/\\/cdn2.stablediffusionapi.com\\/generations\\/81a188dd-0044-4bca-bf75-8edaca95459a-3.png\"],\"proxy_links\":\"\",\"nsfw_content_detected\":\"\",\"meta\":{\"H\":512,\"W\":512,\"enable_attention_slicing\":\"true\",\"file_prefix\":\"81a188dd-0044-4bca-bf75-8edaca95459a\",\"guidance_scale\":7.5,\"instant_response\":\"no\",\"model\":\"runwayml\\/stable-diffusion-v1-5\",\"n_samples\":4,\"negative_prompt\":\"low quality\",\"outdir\":\"out\",\"prompt\":\"a Trichechus manatus next to a tree\",\"revision\":\"fp16\",\"safetychecker\":\"yes\",\"seed\":943226786,\"steps\":30,\"vae\":\"stabilityai\\/sd-vae-ft-mse\"}}\n",
            "https://cdn2.stablediffusionapi.com/generations/81a188dd-0044-4bca-bf75-8edaca95459a-0.png\n",
            "https://cdn2.stablediffusionapi.com/generations/81a188dd-0044-4bca-bf75-8edaca95459a-1.png\n",
            "https://cdn2.stablediffusionapi.com/generations/81a188dd-0044-4bca-bf75-8edaca95459a-2.png\n",
            "https://cdn2.stablediffusionapi.com/generations/81a188dd-0044-4bca-bf75-8edaca95459a-3.png\n",
            "0\n"
          ]
        },
        {
          "output_type": "error",
          "ename": "KeyboardInterrupt",
          "evalue": "ignored",
          "traceback": [
            "\u001b[0;31m---------------------------------------------------------------------------\u001b[0m",
            "\u001b[0;31mKeyboardInterrupt\u001b[0m                         Traceback (most recent call last)",
            "\u001b[0;32m<ipython-input-146-178f8279cfe5>\u001b[0m in \u001b[0;36m<cell line: 1>\u001b[0;34m()\u001b[0m\n\u001b[0;32m----> 1\u001b[0;31m \u001b[0mrun_prompt_string\u001b[0m\u001b[0;34m(\u001b[0m\u001b[0;36m0\u001b[0m\u001b[0;34m)\u001b[0m\u001b[0;34m\u001b[0m\u001b[0;34m\u001b[0m\u001b[0m\n\u001b[0m",
            "\u001b[0;32m<ipython-input-143-873668c10a30>\u001b[0m in \u001b[0;36mrun_prompt_string\u001b[0;34m(index)\u001b[0m\n\u001b[1;32m      4\u001b[0m     \u001b[0mprint\u001b[0m\u001b[0;34m(\u001b[0m\u001b[0;34m)\u001b[0m\u001b[0;34m\u001b[0m\u001b[0;34m\u001b[0m\u001b[0m\n\u001b[1;32m      5\u001b[0m     \u001b[0;32mfor\u001b[0m \u001b[0mi\u001b[0m \u001b[0;32min\u001b[0m \u001b[0mrange\u001b[0m\u001b[0;34m(\u001b[0m\u001b[0mmath\u001b[0m\u001b[0;34m.\u001b[0m\u001b[0mceil\u001b[0m\u001b[0;34m(\u001b[0m\u001b[0mNUM_IMAGES_PER_PROMPT\u001b[0m\u001b[0;34m/\u001b[0m\u001b[0mNUM_IMAGES_PER_CALL\u001b[0m\u001b[0;34m)\u001b[0m\u001b[0;34m)\u001b[0m\u001b[0;34m:\u001b[0m\u001b[0;34m\u001b[0m\u001b[0;34m\u001b[0m\u001b[0m\n\u001b[0;32m----> 6\u001b[0;31m       \u001b[0msave_imgs_from_synset\u001b[0m\u001b[0;34m(\u001b[0m\u001b[0mindex\u001b[0m\u001b[0;34m,\u001b[0m \u001b[0msynset\u001b[0m\u001b[0;34m,\u001b[0m \u001b[0mfilepath\u001b[0m\u001b[0;34m=\u001b[0m\u001b[0;34mf'batch{index}/'\u001b[0m\u001b[0;34m)\u001b[0m\u001b[0;34m\u001b[0m\u001b[0;34m\u001b[0m\u001b[0m\n\u001b[0m",
            "\u001b[0;32m<ipython-input-142-5aab533b774d>\u001b[0m in \u001b[0;36msave_imgs_from_synset\u001b[0;34m(index, synset, num_imgs, filepath)\u001b[0m\n\u001b[1;32m      5\u001b[0m   \u001b[0;32mwhile\u001b[0m \u001b[0mcount\u001b[0m \u001b[0;34m<\u001b[0m \u001b[0mnum_imgs\u001b[0m\u001b[0;34m:\u001b[0m \u001b[0;31m# cannot simply use for-loop, instead use while-loop\u001b[0m\u001b[0;34m\u001b[0m\u001b[0;34m\u001b[0m\u001b[0m\n\u001b[1;32m      6\u001b[0m     \u001b[0mprint\u001b[0m\u001b[0;34m(\u001b[0m\u001b[0mcount\u001b[0m\u001b[0;34m)\u001b[0m\u001b[0;34m\u001b[0m\u001b[0;34m\u001b[0m\u001b[0m\n\u001b[0;32m----> 7\u001b[0;31m     \u001b[0mresponse\u001b[0m \u001b[0;34m=\u001b[0m \u001b[0mcall_api\u001b[0m\u001b[0;34m(\u001b[0m\u001b[0mprompt\u001b[0m\u001b[0;34m,\u001b[0m \u001b[0mnegative_prompt\u001b[0m\u001b[0;34m=\u001b[0m\u001b[0;32mNone\u001b[0m\u001b[0;34m)\u001b[0m \u001b[0;31m# minor debug: put response, img_srcs inside loop\u001b[0m\u001b[0;34m\u001b[0m\u001b[0;34m\u001b[0m\u001b[0m\n\u001b[0m\u001b[1;32m      8\u001b[0m     \u001b[0mprint\u001b[0m\u001b[0;34m(\u001b[0m\u001b[0mresponse\u001b[0m\u001b[0;34m.\u001b[0m\u001b[0mtext\u001b[0m\u001b[0;34m)\u001b[0m\u001b[0;34m\u001b[0m\u001b[0;34m\u001b[0m\u001b[0m\n\u001b[1;32m      9\u001b[0m     \u001b[0mimg_srcs\u001b[0m \u001b[0;34m=\u001b[0m \u001b[0mjson\u001b[0m\u001b[0;34m.\u001b[0m\u001b[0mloads\u001b[0m\u001b[0;34m(\u001b[0m\u001b[0mresponse\u001b[0m\u001b[0;34m.\u001b[0m\u001b[0mtext\u001b[0m\u001b[0;34m)\u001b[0m\u001b[0;34m[\u001b[0m\u001b[0;34m'output'\u001b[0m\u001b[0;34m]\u001b[0m\u001b[0;34m\u001b[0m\u001b[0;34m\u001b[0m\u001b[0m\n",
            "\u001b[0;32m<ipython-input-120-f930fd5c4767>\u001b[0m in \u001b[0;36mcall_api\u001b[0;34m(prompt, negative_prompt)\u001b[0m\n\u001b[1;32m     28\u001b[0m   }\n\u001b[1;32m     29\u001b[0m \u001b[0;34m\u001b[0m\u001b[0m\n\u001b[0;32m---> 30\u001b[0;31m   \u001b[0mresponse\u001b[0m \u001b[0;34m=\u001b[0m \u001b[0mrequests\u001b[0m\u001b[0;34m.\u001b[0m\u001b[0mrequest\u001b[0m\u001b[0;34m(\u001b[0m\u001b[0;34m\"POST\"\u001b[0m\u001b[0;34m,\u001b[0m \u001b[0murl\u001b[0m\u001b[0;34m,\u001b[0m \u001b[0mheaders\u001b[0m\u001b[0;34m=\u001b[0m\u001b[0mheaders\u001b[0m\u001b[0;34m,\u001b[0m \u001b[0mdata\u001b[0m\u001b[0;34m=\u001b[0m\u001b[0mpayload\u001b[0m\u001b[0;34m)\u001b[0m\u001b[0;34m\u001b[0m\u001b[0;34m\u001b[0m\u001b[0m\n\u001b[0m\u001b[1;32m     31\u001b[0m \u001b[0;34m\u001b[0m\u001b[0m\n\u001b[1;32m     32\u001b[0m   \u001b[0;32mreturn\u001b[0m \u001b[0mresponse\u001b[0m\u001b[0;34m\u001b[0m\u001b[0;34m\u001b[0m\u001b[0m\n",
            "\u001b[0;32m/usr/local/lib/python3.10/dist-packages/requests/api.py\u001b[0m in \u001b[0;36mrequest\u001b[0;34m(method, url, **kwargs)\u001b[0m\n\u001b[1;32m     57\u001b[0m     \u001b[0;31m# cases, and look like a memory leak in others.\u001b[0m\u001b[0;34m\u001b[0m\u001b[0;34m\u001b[0m\u001b[0m\n\u001b[1;32m     58\u001b[0m     \u001b[0;32mwith\u001b[0m \u001b[0msessions\u001b[0m\u001b[0;34m.\u001b[0m\u001b[0mSession\u001b[0m\u001b[0;34m(\u001b[0m\u001b[0;34m)\u001b[0m \u001b[0;32mas\u001b[0m \u001b[0msession\u001b[0m\u001b[0;34m:\u001b[0m\u001b[0;34m\u001b[0m\u001b[0;34m\u001b[0m\u001b[0m\n\u001b[0;32m---> 59\u001b[0;31m         \u001b[0;32mreturn\u001b[0m \u001b[0msession\u001b[0m\u001b[0;34m.\u001b[0m\u001b[0mrequest\u001b[0m\u001b[0;34m(\u001b[0m\u001b[0mmethod\u001b[0m\u001b[0;34m=\u001b[0m\u001b[0mmethod\u001b[0m\u001b[0;34m,\u001b[0m \u001b[0murl\u001b[0m\u001b[0;34m=\u001b[0m\u001b[0murl\u001b[0m\u001b[0;34m,\u001b[0m \u001b[0;34m**\u001b[0m\u001b[0mkwargs\u001b[0m\u001b[0;34m)\u001b[0m\u001b[0;34m\u001b[0m\u001b[0;34m\u001b[0m\u001b[0m\n\u001b[0m\u001b[1;32m     60\u001b[0m \u001b[0;34m\u001b[0m\u001b[0m\n\u001b[1;32m     61\u001b[0m \u001b[0;34m\u001b[0m\u001b[0m\n",
            "\u001b[0;32m/usr/local/lib/python3.10/dist-packages/requests/sessions.py\u001b[0m in \u001b[0;36mrequest\u001b[0;34m(self, method, url, params, data, headers, cookies, files, auth, timeout, allow_redirects, proxies, hooks, stream, verify, cert, json)\u001b[0m\n\u001b[1;32m    587\u001b[0m         }\n\u001b[1;32m    588\u001b[0m         \u001b[0msend_kwargs\u001b[0m\u001b[0;34m.\u001b[0m\u001b[0mupdate\u001b[0m\u001b[0;34m(\u001b[0m\u001b[0msettings\u001b[0m\u001b[0;34m)\u001b[0m\u001b[0;34m\u001b[0m\u001b[0;34m\u001b[0m\u001b[0m\n\u001b[0;32m--> 589\u001b[0;31m         \u001b[0mresp\u001b[0m \u001b[0;34m=\u001b[0m \u001b[0mself\u001b[0m\u001b[0;34m.\u001b[0m\u001b[0msend\u001b[0m\u001b[0;34m(\u001b[0m\u001b[0mprep\u001b[0m\u001b[0;34m,\u001b[0m \u001b[0;34m**\u001b[0m\u001b[0msend_kwargs\u001b[0m\u001b[0;34m)\u001b[0m\u001b[0;34m\u001b[0m\u001b[0;34m\u001b[0m\u001b[0m\n\u001b[0m\u001b[1;32m    590\u001b[0m \u001b[0;34m\u001b[0m\u001b[0m\n\u001b[1;32m    591\u001b[0m         \u001b[0;32mreturn\u001b[0m \u001b[0mresp\u001b[0m\u001b[0;34m\u001b[0m\u001b[0;34m\u001b[0m\u001b[0m\n",
            "\u001b[0;32m/usr/local/lib/python3.10/dist-packages/requests/sessions.py\u001b[0m in \u001b[0;36msend\u001b[0;34m(self, request, **kwargs)\u001b[0m\n\u001b[1;32m    701\u001b[0m \u001b[0;34m\u001b[0m\u001b[0m\n\u001b[1;32m    702\u001b[0m         \u001b[0;31m# Send the request\u001b[0m\u001b[0;34m\u001b[0m\u001b[0;34m\u001b[0m\u001b[0m\n\u001b[0;32m--> 703\u001b[0;31m         \u001b[0mr\u001b[0m \u001b[0;34m=\u001b[0m \u001b[0madapter\u001b[0m\u001b[0;34m.\u001b[0m\u001b[0msend\u001b[0m\u001b[0;34m(\u001b[0m\u001b[0mrequest\u001b[0m\u001b[0;34m,\u001b[0m \u001b[0;34m**\u001b[0m\u001b[0mkwargs\u001b[0m\u001b[0;34m)\u001b[0m\u001b[0;34m\u001b[0m\u001b[0;34m\u001b[0m\u001b[0m\n\u001b[0m\u001b[1;32m    704\u001b[0m \u001b[0;34m\u001b[0m\u001b[0m\n\u001b[1;32m    705\u001b[0m         \u001b[0;31m# Total elapsed time of the request (approximately)\u001b[0m\u001b[0;34m\u001b[0m\u001b[0;34m\u001b[0m\u001b[0m\n",
            "\u001b[0;32m/usr/local/lib/python3.10/dist-packages/requests/adapters.py\u001b[0m in \u001b[0;36msend\u001b[0;34m(self, request, stream, timeout, verify, cert, proxies)\u001b[0m\n\u001b[1;32m    484\u001b[0m \u001b[0;34m\u001b[0m\u001b[0m\n\u001b[1;32m    485\u001b[0m         \u001b[0;32mtry\u001b[0m\u001b[0;34m:\u001b[0m\u001b[0;34m\u001b[0m\u001b[0;34m\u001b[0m\u001b[0m\n\u001b[0;32m--> 486\u001b[0;31m             resp = conn.urlopen(\n\u001b[0m\u001b[1;32m    487\u001b[0m                 \u001b[0mmethod\u001b[0m\u001b[0;34m=\u001b[0m\u001b[0mrequest\u001b[0m\u001b[0;34m.\u001b[0m\u001b[0mmethod\u001b[0m\u001b[0;34m,\u001b[0m\u001b[0;34m\u001b[0m\u001b[0;34m\u001b[0m\u001b[0m\n\u001b[1;32m    488\u001b[0m                 \u001b[0murl\u001b[0m\u001b[0;34m=\u001b[0m\u001b[0murl\u001b[0m\u001b[0;34m,\u001b[0m\u001b[0;34m\u001b[0m\u001b[0;34m\u001b[0m\u001b[0m\n",
            "\u001b[0;32m/usr/local/lib/python3.10/dist-packages/urllib3/connectionpool.py\u001b[0m in \u001b[0;36murlopen\u001b[0;34m(self, method, url, body, headers, retries, redirect, assert_same_host, timeout, pool_timeout, release_conn, chunked, body_pos, preload_content, decode_content, **response_kw)\u001b[0m\n\u001b[1;32m    789\u001b[0m \u001b[0;34m\u001b[0m\u001b[0m\n\u001b[1;32m    790\u001b[0m             \u001b[0;31m# Make the request on the HTTPConnection object\u001b[0m\u001b[0;34m\u001b[0m\u001b[0;34m\u001b[0m\u001b[0m\n\u001b[0;32m--> 791\u001b[0;31m             response = self._make_request(\n\u001b[0m\u001b[1;32m    792\u001b[0m                 \u001b[0mconn\u001b[0m\u001b[0;34m,\u001b[0m\u001b[0;34m\u001b[0m\u001b[0;34m\u001b[0m\u001b[0m\n\u001b[1;32m    793\u001b[0m                 \u001b[0mmethod\u001b[0m\u001b[0;34m,\u001b[0m\u001b[0;34m\u001b[0m\u001b[0;34m\u001b[0m\u001b[0m\n",
            "\u001b[0;32m/usr/local/lib/python3.10/dist-packages/urllib3/connectionpool.py\u001b[0m in \u001b[0;36m_make_request\u001b[0;34m(self, conn, method, url, body, headers, retries, timeout, chunked, response_conn, preload_content, decode_content, enforce_content_length)\u001b[0m\n\u001b[1;32m    535\u001b[0m         \u001b[0;31m# Receive the response from the server\u001b[0m\u001b[0;34m\u001b[0m\u001b[0;34m\u001b[0m\u001b[0m\n\u001b[1;32m    536\u001b[0m         \u001b[0;32mtry\u001b[0m\u001b[0;34m:\u001b[0m\u001b[0;34m\u001b[0m\u001b[0;34m\u001b[0m\u001b[0m\n\u001b[0;32m--> 537\u001b[0;31m             \u001b[0mresponse\u001b[0m \u001b[0;34m=\u001b[0m \u001b[0mconn\u001b[0m\u001b[0;34m.\u001b[0m\u001b[0mgetresponse\u001b[0m\u001b[0;34m(\u001b[0m\u001b[0;34m)\u001b[0m\u001b[0;34m\u001b[0m\u001b[0;34m\u001b[0m\u001b[0m\n\u001b[0m\u001b[1;32m    538\u001b[0m         \u001b[0;32mexcept\u001b[0m \u001b[0;34m(\u001b[0m\u001b[0mBaseSSLError\u001b[0m\u001b[0;34m,\u001b[0m \u001b[0mOSError\u001b[0m\u001b[0;34m)\u001b[0m \u001b[0;32mas\u001b[0m \u001b[0me\u001b[0m\u001b[0;34m:\u001b[0m\u001b[0;34m\u001b[0m\u001b[0;34m\u001b[0m\u001b[0m\n\u001b[1;32m    539\u001b[0m             \u001b[0mself\u001b[0m\u001b[0;34m.\u001b[0m\u001b[0m_raise_timeout\u001b[0m\u001b[0;34m(\u001b[0m\u001b[0merr\u001b[0m\u001b[0;34m=\u001b[0m\u001b[0me\u001b[0m\u001b[0;34m,\u001b[0m \u001b[0murl\u001b[0m\u001b[0;34m=\u001b[0m\u001b[0murl\u001b[0m\u001b[0;34m,\u001b[0m \u001b[0mtimeout_value\u001b[0m\u001b[0;34m=\u001b[0m\u001b[0mread_timeout\u001b[0m\u001b[0;34m)\u001b[0m\u001b[0;34m\u001b[0m\u001b[0;34m\u001b[0m\u001b[0m\n",
            "\u001b[0;32m/usr/local/lib/python3.10/dist-packages/urllib3/connection.py\u001b[0m in \u001b[0;36mgetresponse\u001b[0;34m(self)\u001b[0m\n\u001b[1;32m    459\u001b[0m \u001b[0;34m\u001b[0m\u001b[0m\n\u001b[1;32m    460\u001b[0m         \u001b[0;31m# Get the response from http.client.HTTPConnection\u001b[0m\u001b[0;34m\u001b[0m\u001b[0;34m\u001b[0m\u001b[0m\n\u001b[0;32m--> 461\u001b[0;31m         \u001b[0mhttplib_response\u001b[0m \u001b[0;34m=\u001b[0m \u001b[0msuper\u001b[0m\u001b[0;34m(\u001b[0m\u001b[0;34m)\u001b[0m\u001b[0;34m.\u001b[0m\u001b[0mgetresponse\u001b[0m\u001b[0;34m(\u001b[0m\u001b[0;34m)\u001b[0m\u001b[0;34m\u001b[0m\u001b[0;34m\u001b[0m\u001b[0m\n\u001b[0m\u001b[1;32m    462\u001b[0m \u001b[0;34m\u001b[0m\u001b[0m\n\u001b[1;32m    463\u001b[0m         \u001b[0;32mtry\u001b[0m\u001b[0;34m:\u001b[0m\u001b[0;34m\u001b[0m\u001b[0;34m\u001b[0m\u001b[0m\n",
            "\u001b[0;32m/usr/lib/python3.10/http/client.py\u001b[0m in \u001b[0;36mgetresponse\u001b[0;34m(self)\u001b[0m\n\u001b[1;32m   1373\u001b[0m         \u001b[0;32mtry\u001b[0m\u001b[0;34m:\u001b[0m\u001b[0;34m\u001b[0m\u001b[0;34m\u001b[0m\u001b[0m\n\u001b[1;32m   1374\u001b[0m             \u001b[0;32mtry\u001b[0m\u001b[0;34m:\u001b[0m\u001b[0;34m\u001b[0m\u001b[0;34m\u001b[0m\u001b[0m\n\u001b[0;32m-> 1375\u001b[0;31m                 \u001b[0mresponse\u001b[0m\u001b[0;34m.\u001b[0m\u001b[0mbegin\u001b[0m\u001b[0;34m(\u001b[0m\u001b[0;34m)\u001b[0m\u001b[0;34m\u001b[0m\u001b[0;34m\u001b[0m\u001b[0m\n\u001b[0m\u001b[1;32m   1376\u001b[0m             \u001b[0;32mexcept\u001b[0m \u001b[0mConnectionError\u001b[0m\u001b[0;34m:\u001b[0m\u001b[0;34m\u001b[0m\u001b[0;34m\u001b[0m\u001b[0m\n\u001b[1;32m   1377\u001b[0m                 \u001b[0mself\u001b[0m\u001b[0;34m.\u001b[0m\u001b[0mclose\u001b[0m\u001b[0;34m(\u001b[0m\u001b[0;34m)\u001b[0m\u001b[0;34m\u001b[0m\u001b[0;34m\u001b[0m\u001b[0m\n",
            "\u001b[0;32m/usr/lib/python3.10/http/client.py\u001b[0m in \u001b[0;36mbegin\u001b[0;34m(self)\u001b[0m\n\u001b[1;32m    316\u001b[0m         \u001b[0;31m# read until we get a non-100 response\u001b[0m\u001b[0;34m\u001b[0m\u001b[0;34m\u001b[0m\u001b[0m\n\u001b[1;32m    317\u001b[0m         \u001b[0;32mwhile\u001b[0m \u001b[0;32mTrue\u001b[0m\u001b[0;34m:\u001b[0m\u001b[0;34m\u001b[0m\u001b[0;34m\u001b[0m\u001b[0m\n\u001b[0;32m--> 318\u001b[0;31m             \u001b[0mversion\u001b[0m\u001b[0;34m,\u001b[0m \u001b[0mstatus\u001b[0m\u001b[0;34m,\u001b[0m \u001b[0mreason\u001b[0m \u001b[0;34m=\u001b[0m \u001b[0mself\u001b[0m\u001b[0;34m.\u001b[0m\u001b[0m_read_status\u001b[0m\u001b[0;34m(\u001b[0m\u001b[0;34m)\u001b[0m\u001b[0;34m\u001b[0m\u001b[0;34m\u001b[0m\u001b[0m\n\u001b[0m\u001b[1;32m    319\u001b[0m             \u001b[0;32mif\u001b[0m \u001b[0mstatus\u001b[0m \u001b[0;34m!=\u001b[0m \u001b[0mCONTINUE\u001b[0m\u001b[0;34m:\u001b[0m\u001b[0;34m\u001b[0m\u001b[0;34m\u001b[0m\u001b[0m\n\u001b[1;32m    320\u001b[0m                 \u001b[0;32mbreak\u001b[0m\u001b[0;34m\u001b[0m\u001b[0;34m\u001b[0m\u001b[0m\n",
            "\u001b[0;32m/usr/lib/python3.10/http/client.py\u001b[0m in \u001b[0;36m_read_status\u001b[0;34m(self)\u001b[0m\n\u001b[1;32m    277\u001b[0m \u001b[0;34m\u001b[0m\u001b[0m\n\u001b[1;32m    278\u001b[0m     \u001b[0;32mdef\u001b[0m \u001b[0m_read_status\u001b[0m\u001b[0;34m(\u001b[0m\u001b[0mself\u001b[0m\u001b[0;34m)\u001b[0m\u001b[0;34m:\u001b[0m\u001b[0;34m\u001b[0m\u001b[0;34m\u001b[0m\u001b[0m\n\u001b[0;32m--> 279\u001b[0;31m         \u001b[0mline\u001b[0m \u001b[0;34m=\u001b[0m \u001b[0mstr\u001b[0m\u001b[0;34m(\u001b[0m\u001b[0mself\u001b[0m\u001b[0;34m.\u001b[0m\u001b[0mfp\u001b[0m\u001b[0;34m.\u001b[0m\u001b[0mreadline\u001b[0m\u001b[0;34m(\u001b[0m\u001b[0m_MAXLINE\u001b[0m \u001b[0;34m+\u001b[0m \u001b[0;36m1\u001b[0m\u001b[0;34m)\u001b[0m\u001b[0;34m,\u001b[0m \u001b[0;34m\"iso-8859-1\"\u001b[0m\u001b[0;34m)\u001b[0m\u001b[0;34m\u001b[0m\u001b[0;34m\u001b[0m\u001b[0m\n\u001b[0m\u001b[1;32m    280\u001b[0m         \u001b[0;32mif\u001b[0m \u001b[0mlen\u001b[0m\u001b[0;34m(\u001b[0m\u001b[0mline\u001b[0m\u001b[0;34m)\u001b[0m \u001b[0;34m>\u001b[0m \u001b[0m_MAXLINE\u001b[0m\u001b[0;34m:\u001b[0m\u001b[0;34m\u001b[0m\u001b[0;34m\u001b[0m\u001b[0m\n\u001b[1;32m    281\u001b[0m             \u001b[0;32mraise\u001b[0m \u001b[0mLineTooLong\u001b[0m\u001b[0;34m(\u001b[0m\u001b[0;34m\"status line\"\u001b[0m\u001b[0;34m)\u001b[0m\u001b[0;34m\u001b[0m\u001b[0;34m\u001b[0m\u001b[0m\n",
            "\u001b[0;32m/usr/lib/python3.10/socket.py\u001b[0m in \u001b[0;36mreadinto\u001b[0;34m(self, b)\u001b[0m\n\u001b[1;32m    703\u001b[0m         \u001b[0;32mwhile\u001b[0m \u001b[0;32mTrue\u001b[0m\u001b[0;34m:\u001b[0m\u001b[0;34m\u001b[0m\u001b[0;34m\u001b[0m\u001b[0m\n\u001b[1;32m    704\u001b[0m             \u001b[0;32mtry\u001b[0m\u001b[0;34m:\u001b[0m\u001b[0;34m\u001b[0m\u001b[0;34m\u001b[0m\u001b[0m\n\u001b[0;32m--> 705\u001b[0;31m                 \u001b[0;32mreturn\u001b[0m \u001b[0mself\u001b[0m\u001b[0;34m.\u001b[0m\u001b[0m_sock\u001b[0m\u001b[0;34m.\u001b[0m\u001b[0mrecv_into\u001b[0m\u001b[0;34m(\u001b[0m\u001b[0mb\u001b[0m\u001b[0;34m)\u001b[0m\u001b[0;34m\u001b[0m\u001b[0;34m\u001b[0m\u001b[0m\n\u001b[0m\u001b[1;32m    706\u001b[0m             \u001b[0;32mexcept\u001b[0m \u001b[0mtimeout\u001b[0m\u001b[0;34m:\u001b[0m\u001b[0;34m\u001b[0m\u001b[0;34m\u001b[0m\u001b[0m\n\u001b[1;32m    707\u001b[0m                 \u001b[0mself\u001b[0m\u001b[0;34m.\u001b[0m\u001b[0m_timeout_occurred\u001b[0m \u001b[0;34m=\u001b[0m \u001b[0;32mTrue\u001b[0m\u001b[0;34m\u001b[0m\u001b[0;34m\u001b[0m\u001b[0m\n",
            "\u001b[0;32m/usr/lib/python3.10/ssl.py\u001b[0m in \u001b[0;36mrecv_into\u001b[0;34m(self, buffer, nbytes, flags)\u001b[0m\n\u001b[1;32m   1272\u001b[0m                   \u001b[0;34m\"non-zero flags not allowed in calls to recv_into() on %s\"\u001b[0m \u001b[0;34m%\u001b[0m\u001b[0;34m\u001b[0m\u001b[0;34m\u001b[0m\u001b[0m\n\u001b[1;32m   1273\u001b[0m                   self.__class__)\n\u001b[0;32m-> 1274\u001b[0;31m             \u001b[0;32mreturn\u001b[0m \u001b[0mself\u001b[0m\u001b[0;34m.\u001b[0m\u001b[0mread\u001b[0m\u001b[0;34m(\u001b[0m\u001b[0mnbytes\u001b[0m\u001b[0;34m,\u001b[0m \u001b[0mbuffer\u001b[0m\u001b[0;34m)\u001b[0m\u001b[0;34m\u001b[0m\u001b[0;34m\u001b[0m\u001b[0m\n\u001b[0m\u001b[1;32m   1275\u001b[0m         \u001b[0;32melse\u001b[0m\u001b[0;34m:\u001b[0m\u001b[0;34m\u001b[0m\u001b[0;34m\u001b[0m\u001b[0m\n\u001b[1;32m   1276\u001b[0m             \u001b[0;32mreturn\u001b[0m \u001b[0msuper\u001b[0m\u001b[0;34m(\u001b[0m\u001b[0;34m)\u001b[0m\u001b[0;34m.\u001b[0m\u001b[0mrecv_into\u001b[0m\u001b[0;34m(\u001b[0m\u001b[0mbuffer\u001b[0m\u001b[0;34m,\u001b[0m \u001b[0mnbytes\u001b[0m\u001b[0;34m,\u001b[0m \u001b[0mflags\u001b[0m\u001b[0;34m)\u001b[0m\u001b[0;34m\u001b[0m\u001b[0;34m\u001b[0m\u001b[0m\n",
            "\u001b[0;32m/usr/lib/python3.10/ssl.py\u001b[0m in \u001b[0;36mread\u001b[0;34m(self, len, buffer)\u001b[0m\n\u001b[1;32m   1128\u001b[0m         \u001b[0;32mtry\u001b[0m\u001b[0;34m:\u001b[0m\u001b[0;34m\u001b[0m\u001b[0;34m\u001b[0m\u001b[0m\n\u001b[1;32m   1129\u001b[0m             \u001b[0;32mif\u001b[0m \u001b[0mbuffer\u001b[0m \u001b[0;32mis\u001b[0m \u001b[0;32mnot\u001b[0m \u001b[0;32mNone\u001b[0m\u001b[0;34m:\u001b[0m\u001b[0;34m\u001b[0m\u001b[0;34m\u001b[0m\u001b[0m\n\u001b[0;32m-> 1130\u001b[0;31m                 \u001b[0;32mreturn\u001b[0m \u001b[0mself\u001b[0m\u001b[0;34m.\u001b[0m\u001b[0m_sslobj\u001b[0m\u001b[0;34m.\u001b[0m\u001b[0mread\u001b[0m\u001b[0;34m(\u001b[0m\u001b[0mlen\u001b[0m\u001b[0;34m,\u001b[0m \u001b[0mbuffer\u001b[0m\u001b[0;34m)\u001b[0m\u001b[0;34m\u001b[0m\u001b[0;34m\u001b[0m\u001b[0m\n\u001b[0m\u001b[1;32m   1131\u001b[0m             \u001b[0;32melse\u001b[0m\u001b[0;34m:\u001b[0m\u001b[0;34m\u001b[0m\u001b[0;34m\u001b[0m\u001b[0m\n\u001b[1;32m   1132\u001b[0m                 \u001b[0;32mreturn\u001b[0m \u001b[0mself\u001b[0m\u001b[0;34m.\u001b[0m\u001b[0m_sslobj\u001b[0m\u001b[0;34m.\u001b[0m\u001b[0mread\u001b[0m\u001b[0;34m(\u001b[0m\u001b[0mlen\u001b[0m\u001b[0;34m)\u001b[0m\u001b[0;34m\u001b[0m\u001b[0;34m\u001b[0m\u001b[0m\n",
            "\u001b[0;31mKeyboardInterrupt\u001b[0m: "
          ]
        }
      ]
    },
    {
      "cell_type": "markdown",
      "source": [
        "## Prompt Comparison"
      ],
      "metadata": {
        "id": "EwZe9blNhZcU"
      }
    },
    {
      "cell_type": "code",
      "source": [
        "from transformers import CLIPProcessor, CLIPModel\n",
        "\n",
        "# GPT-4 turbo\n",
        "# Load the pre-trained CLIP model\n",
        "model = CLIPModel.from_pretrained(\"openai/clip-vit-base-patch32\")\n",
        "processor = CLIPProcessor.from_pretrained(\"openai/clip-vit-base-patch32\")\n",
        "\n",
        "# Text string\n",
        "text = \"a banana sitting at the beach\"\n",
        "\n",
        "# Prepare the text\n",
        "inputs = processor(text=text, return_tensors=\"pt\")\n",
        "\n",
        "# Perform the encoding\n",
        "text_features = model.get_text_features(**inputs)\n",
        "\n",
        "# The text_features tensor is the encoded representation of your text\n",
        "print(text_features)"
      ],
      "metadata": {
        "id": "6RKCkBJ6Np_2"
      },
      "execution_count": null,
      "outputs": []
    },
    {
      "cell_type": "code",
      "source": [
        "# Text string\n",
        "text = [\"a banana sitting at the beach\", \"two bananas sitting at the beach\", \"a dog sitting at the becah\"]\n",
        "\n",
        "# Prepare the text\n",
        "inputs = processor(text=text, return_tensors=\"pt\", padding=True)\n",
        "\n",
        "# Perform the encoding\n",
        "text_features = model.get_text_features(**inputs)\n",
        "\n",
        "# The text_features tensor is the encoded representation of your text\n",
        "print(text_features)"
      ],
      "metadata": {
        "colab": {
          "base_uri": "https://localhost:8080/"
        },
        "id": "0ST940L4OsRz",
        "outputId": "ebc0612c-5a8c-4c0a-b6cd-baa084090552"
      },
      "execution_count": null,
      "outputs": [
        {
          "output_type": "stream",
          "name": "stdout",
          "text": [
            "tensor([[ 0.1699,  0.3451, -0.0828,  ...,  0.2795, -0.0243, -0.0554],\n",
            "        [ 0.2219,  0.2785, -0.1488,  ...,  0.2776, -0.0453, -0.1471],\n",
            "        [-0.0926, -0.1647, -0.3049,  ..., -0.2542, -0.1363,  0.1552]],\n",
            "       grad_fn=<MmBackward0>)\n"
          ]
        }
      ]
    },
    {
      "cell_type": "code",
      "source": [
        "text_features[0] @ text_features[1]"
      ],
      "metadata": {
        "colab": {
          "base_uri": "https://localhost:8080/"
        },
        "id": "6Jb_U-6kQV1I",
        "outputId": "85032647-2fee-42ef-e49c-ad07d48646aa"
      },
      "execution_count": null,
      "outputs": [
        {
          "output_type": "execute_result",
          "data": {
            "text/plain": [
              "tensor(56.8696, grad_fn=<DotBackward0>)"
            ]
          },
          "metadata": {},
          "execution_count": 123
        }
      ]
    },
    {
      "cell_type": "code",
      "source": [
        "text_features[0] @ text_features[2]"
      ],
      "metadata": {
        "colab": {
          "base_uri": "https://localhost:8080/"
        },
        "id": "fYbgZp6bQgKm",
        "outputId": "a7e4624c-8ad5-41e3-b154-7a39bde59a0c"
      },
      "execution_count": null,
      "outputs": [
        {
          "output_type": "execute_result",
          "data": {
            "text/plain": [
              "tensor(49.9023, grad_fn=<DotBackward0>)"
            ]
          },
          "metadata": {},
          "execution_count": 124
        }
      ]
    },
    {
      "cell_type": "code",
      "source": [
        "text_features[1] @ text_features[2]"
      ],
      "metadata": {
        "colab": {
          "base_uri": "https://localhost:8080/"
        },
        "id": "Y0_5wIS_QhXg",
        "outputId": "7dba449e-b026-4a70-c819-f78f9903e073"
      },
      "execution_count": null,
      "outputs": [
        {
          "output_type": "execute_result",
          "data": {
            "text/plain": [
              "tensor(49.9115, grad_fn=<DotBackward0>)"
            ]
          },
          "metadata": {},
          "execution_count": 125
        }
      ]
    },
    {
      "cell_type": "code",
      "source": [
        "# GPT-4 turbo (mostly)\n",
        "from sklearn.metrics.pairwise import cosine_similarity\n",
        "\n",
        "# Assuming text_features is a tensor with encoded text features\n",
        "# Convert to numpy array if it's a PyTorch tensor\n",
        "text_features_np = text_features.detach().numpy()\n",
        "\n",
        "# Calculate cosine similarity\n",
        "# This will return a matrix of similarities between each pair of texts\n",
        "similarity_matrix = cosine_similarity(text_features_np)\n",
        "np.fill_diagonal(similarity_matrix, np.NINF)\n",
        "\n",
        "print(similarity_matrix[0])\n",
        "print(np.argmax(similarity_matrix[0]))"
      ],
      "metadata": {
        "colab": {
          "base_uri": "https://localhost:8080/",
          "height": 304
        },
        "id": "_sAz2_HAQiOX",
        "outputId": "4bb9fc46-4242-4b2a-d56a-b8432a6d52d6"
      },
      "execution_count": null,
      "outputs": [
        {
          "output_type": "error",
          "ename": "KeyboardInterrupt",
          "evalue": "ignored",
          "traceback": [
            "\u001b[0;31m---------------------------------------------------------------------------\u001b[0m",
            "\u001b[0;31mKeyboardInterrupt\u001b[0m                         Traceback (most recent call last)",
            "\u001b[0;32m<ipython-input-37-a97f3870e503>\u001b[0m in \u001b[0;36m<cell line: 2>\u001b[0;34m()\u001b[0m\n\u001b[1;32m      1\u001b[0m \u001b[0;31m# GPT-4 turbo (mostly)\u001b[0m\u001b[0;34m\u001b[0m\u001b[0;34m\u001b[0m\u001b[0m\n\u001b[0;32m----> 2\u001b[0;31m \u001b[0;32mfrom\u001b[0m \u001b[0msklearn\u001b[0m\u001b[0;34m.\u001b[0m\u001b[0mmetrics\u001b[0m\u001b[0;34m.\u001b[0m\u001b[0mpairwise\u001b[0m \u001b[0;32mimport\u001b[0m \u001b[0mcosine_similarity\u001b[0m\u001b[0;34m\u001b[0m\u001b[0;34m\u001b[0m\u001b[0m\n\u001b[0m\u001b[1;32m      3\u001b[0m \u001b[0;34m\u001b[0m\u001b[0m\n\u001b[1;32m      4\u001b[0m \u001b[0;31m# Assuming text_features is a tensor with encoded text features\u001b[0m\u001b[0;34m\u001b[0m\u001b[0;34m\u001b[0m\u001b[0m\n\u001b[1;32m      5\u001b[0m \u001b[0;31m# Convert to numpy array if it's a PyTorch tensor\u001b[0m\u001b[0;34m\u001b[0m\u001b[0;34m\u001b[0m\u001b[0m\n",
            "\u001b[0;32m/usr/local/lib/python3.10/dist-packages/sklearn/__init__.py\u001b[0m in \u001b[0;36m<module>\u001b[0;34m\u001b[0m\n\u001b[1;32m     80\u001b[0m     \u001b[0;32mfrom\u001b[0m \u001b[0;34m.\u001b[0m \u001b[0;32mimport\u001b[0m \u001b[0m_distributor_init\u001b[0m  \u001b[0;31m# noqa: F401\u001b[0m\u001b[0;34m\u001b[0m\u001b[0;34m\u001b[0m\u001b[0m\n\u001b[1;32m     81\u001b[0m     \u001b[0;32mfrom\u001b[0m \u001b[0;34m.\u001b[0m \u001b[0;32mimport\u001b[0m \u001b[0m__check_build\u001b[0m  \u001b[0;31m# noqa: F401\u001b[0m\u001b[0;34m\u001b[0m\u001b[0;34m\u001b[0m\u001b[0m\n\u001b[0;32m---> 82\u001b[0;31m     \u001b[0;32mfrom\u001b[0m \u001b[0;34m.\u001b[0m\u001b[0mbase\u001b[0m \u001b[0;32mimport\u001b[0m \u001b[0mclone\u001b[0m\u001b[0;34m\u001b[0m\u001b[0;34m\u001b[0m\u001b[0m\n\u001b[0m\u001b[1;32m     83\u001b[0m     \u001b[0;32mfrom\u001b[0m \u001b[0;34m.\u001b[0m\u001b[0mutils\u001b[0m\u001b[0;34m.\u001b[0m\u001b[0m_show_versions\u001b[0m \u001b[0;32mimport\u001b[0m \u001b[0mshow_versions\u001b[0m\u001b[0;34m\u001b[0m\u001b[0;34m\u001b[0m\u001b[0m\n\u001b[1;32m     84\u001b[0m \u001b[0;34m\u001b[0m\u001b[0m\n",
            "\u001b[0;32m/usr/local/lib/python3.10/dist-packages/sklearn/base.py\u001b[0m in \u001b[0;36m<module>\u001b[0;34m\u001b[0m\n\u001b[1;32m     15\u001b[0m \u001b[0;32mfrom\u001b[0m \u001b[0;34m.\u001b[0m \u001b[0;32mimport\u001b[0m \u001b[0m__version__\u001b[0m\u001b[0;34m\u001b[0m\u001b[0;34m\u001b[0m\u001b[0m\n\u001b[1;32m     16\u001b[0m \u001b[0;32mfrom\u001b[0m \u001b[0;34m.\u001b[0m\u001b[0m_config\u001b[0m \u001b[0;32mimport\u001b[0m \u001b[0mget_config\u001b[0m\u001b[0;34m\u001b[0m\u001b[0;34m\u001b[0m\u001b[0m\n\u001b[0;32m---> 17\u001b[0;31m \u001b[0;32mfrom\u001b[0m \u001b[0;34m.\u001b[0m\u001b[0mutils\u001b[0m \u001b[0;32mimport\u001b[0m \u001b[0m_IS_32BIT\u001b[0m\u001b[0;34m\u001b[0m\u001b[0;34m\u001b[0m\u001b[0m\n\u001b[0m\u001b[1;32m     18\u001b[0m \u001b[0;32mfrom\u001b[0m \u001b[0;34m.\u001b[0m\u001b[0mutils\u001b[0m\u001b[0;34m.\u001b[0m\u001b[0m_set_output\u001b[0m \u001b[0;32mimport\u001b[0m \u001b[0m_SetOutputMixin\u001b[0m\u001b[0;34m\u001b[0m\u001b[0;34m\u001b[0m\u001b[0m\n\u001b[1;32m     19\u001b[0m from .utils._tags import (\n",
            "\u001b[0;32m/usr/local/lib/python3.10/dist-packages/sklearn/utils/__init__.py\u001b[0m in \u001b[0;36m<module>\u001b[0;34m\u001b[0m\n\u001b[1;32m     25\u001b[0m \u001b[0;32mfrom\u001b[0m \u001b[0;34m.\u001b[0m\u001b[0mfixes\u001b[0m \u001b[0;32mimport\u001b[0m \u001b[0mparse_version\u001b[0m\u001b[0;34m,\u001b[0m \u001b[0mthreadpool_info\u001b[0m\u001b[0;34m\u001b[0m\u001b[0;34m\u001b[0m\u001b[0m\n\u001b[1;32m     26\u001b[0m \u001b[0;32mfrom\u001b[0m \u001b[0;34m.\u001b[0m\u001b[0m_estimator_html_repr\u001b[0m \u001b[0;32mimport\u001b[0m \u001b[0mestimator_html_repr\u001b[0m\u001b[0;34m\u001b[0m\u001b[0;34m\u001b[0m\u001b[0m\n\u001b[0;32m---> 27\u001b[0;31m from .validation import (\n\u001b[0m\u001b[1;32m     28\u001b[0m     \u001b[0mas_float_array\u001b[0m\u001b[0;34m,\u001b[0m\u001b[0;34m\u001b[0m\u001b[0;34m\u001b[0m\u001b[0m\n\u001b[1;32m     29\u001b[0m     \u001b[0massert_all_finite\u001b[0m\u001b[0;34m,\u001b[0m\u001b[0;34m\u001b[0m\u001b[0;34m\u001b[0m\u001b[0m\n",
            "\u001b[0;32m/usr/local/lib/python3.10/dist-packages/sklearn/utils/validation.py\u001b[0m in \u001b[0;36m<module>\u001b[0;34m\u001b[0m\n\u001b[1;32m     32\u001b[0m \u001b[0;32mfrom\u001b[0m \u001b[0;34m.\u001b[0m\u001b[0;34m.\u001b[0m\u001b[0mutils\u001b[0m\u001b[0;34m.\u001b[0m\u001b[0m_array_api\u001b[0m \u001b[0;32mimport\u001b[0m \u001b[0mget_namespace\u001b[0m\u001b[0;34m\u001b[0m\u001b[0;34m\u001b[0m\u001b[0m\n\u001b[1;32m     33\u001b[0m \u001b[0;32mfrom\u001b[0m \u001b[0;34m.\u001b[0m\u001b[0;34m.\u001b[0m\u001b[0mutils\u001b[0m\u001b[0;34m.\u001b[0m\u001b[0m_array_api\u001b[0m \u001b[0;32mimport\u001b[0m \u001b[0m_asarray_with_order\u001b[0m\u001b[0;34m\u001b[0m\u001b[0;34m\u001b[0m\u001b[0m\n\u001b[0;32m---> 34\u001b[0;31m \u001b[0;32mfrom\u001b[0m \u001b[0;34m.\u001b[0m\u001b[0m_isfinite\u001b[0m \u001b[0;32mimport\u001b[0m \u001b[0mcy_isfinite\u001b[0m\u001b[0;34m,\u001b[0m \u001b[0mFiniteStatus\u001b[0m\u001b[0;34m\u001b[0m\u001b[0;34m\u001b[0m\u001b[0m\n\u001b[0m\u001b[1;32m     35\u001b[0m \u001b[0;34m\u001b[0m\u001b[0m\n\u001b[1;32m     36\u001b[0m \u001b[0mFLOAT_DTYPES\u001b[0m \u001b[0;34m=\u001b[0m \u001b[0;34m(\u001b[0m\u001b[0mnp\u001b[0m\u001b[0;34m.\u001b[0m\u001b[0mfloat64\u001b[0m\u001b[0;34m,\u001b[0m \u001b[0mnp\u001b[0m\u001b[0;34m.\u001b[0m\u001b[0mfloat32\u001b[0m\u001b[0;34m,\u001b[0m \u001b[0mnp\u001b[0m\u001b[0;34m.\u001b[0m\u001b[0mfloat16\u001b[0m\u001b[0;34m)\u001b[0m\u001b[0;34m\u001b[0m\u001b[0;34m\u001b[0m\u001b[0m\n",
            "\u001b[0;32m/usr/lib/python3.10/importlib/_bootstrap.py\u001b[0m in \u001b[0;36mparent\u001b[0;34m(self)\u001b[0m\n",
            "\u001b[0;31mKeyboardInterrupt\u001b[0m: "
          ]
        }
      ]
    },
    {
      "cell_type": "code",
      "source": [],
      "metadata": {
        "id": "He45Uw1WXq4Z"
      },
      "execution_count": null,
      "outputs": []
    },
    {
      "cell_type": "code",
      "source": [],
      "metadata": {
        "id": "a316BuKMYD_o"
      },
      "execution_count": null,
      "outputs": []
    }
  ],
  "metadata": {
    "kernelspec": {
      "display_name": "Python 3",
      "language": "python",
      "name": "python3"
    },
    "language_info": {
      "codemirror_mode": {
        "name": "ipython",
        "version": 3
      },
      "file_extension": ".py",
      "mimetype": "text/x-python",
      "name": "python",
      "nbconvert_exporter": "python",
      "pygments_lexer": "ipython3",
      "version": "3.8.5"
    },
    "colab": {
      "provenance": [],
      "include_colab_link": true
    }
  },
  "nbformat": 4,
  "nbformat_minor": 0
}