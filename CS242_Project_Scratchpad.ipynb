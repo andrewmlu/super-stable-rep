{
  "cells": [
    {
      "cell_type": "markdown",
      "metadata": {
        "id": "view-in-github",
        "colab_type": "text"
      },
      "source": [
        "<a href=\"https://colab.research.google.com/github/andrewmlu/super-stable-rep/blob/main/CS242_Project_Scratchpad.ipynb\" target=\"_parent\"><img src=\"https://colab.research.google.com/assets/colab-badge.svg\" alt=\"Open In Colab\"/></a>"
      ]
    },
    {
      "cell_type": "code",
      "source": [
        "from google.colab import drive\n",
        "import os\n",
        "drive.mount('/content/drive')\n",
        "os.chdir(\"/content/drive/My Drive/!!!Drive/CS242-SD-imgs\")"
      ],
      "metadata": {
        "id": "Cp4dEsjt7bXl",
        "colab": {
          "base_uri": "https://localhost:8080/"
        },
        "outputId": "9ddd8364-b469-408d-b157-b63f3d40db7c"
      },
      "execution_count": 10,
      "outputs": [
        {
          "output_type": "stream",
          "name": "stdout",
          "text": [
            "Drive already mounted at /content/drive; to attempt to forcibly remount, call drive.mount(\"/content/drive\", force_remount=True).\n"
          ]
        }
      ]
    },
    {
      "cell_type": "code",
      "execution_count": 89,
      "metadata": {
        "id": "Fk_BYUG62CSl"
      },
      "outputs": [],
      "source": [
        "import requests\n",
        "import json\n",
        "from PIL import Image\n",
        "import time\n",
        "import re\n",
        "import math\n",
        "import numpy as np\n",
        "import random\n",
        "import datetime\n",
        "import csv"
      ]
    },
    {
      "cell_type": "code",
      "source": [
        "NUM_IMAGES_PER_PROMPT = 24"
      ],
      "metadata": {
        "id": "VhSYDBYSU1TN"
      },
      "execution_count": 92,
      "outputs": []
    },
    {
      "cell_type": "code",
      "execution_count": 64,
      "metadata": {
        "id": "JouL7jKF2CSi"
      },
      "outputs": [],
      "source": [
        "url = \"https://stablediffusionapi.com/api/v3/text2img\"\n",
        "\n",
        "def call_api(prompt, negative_prompt = None):\n",
        "\n",
        "  # temp api key included\n",
        "  payload = json.dumps({\n",
        "    \"key\": \"tgc1aN0Kk9ieQBgoVT1dssH0hvpeEap2YOMBEJIHYyUo2wnenimTpln5tnPO\",\n",
        "    \"prompt\": prompt,\n",
        "    \"negative_prompt\": negative_prompt,\n",
        "    \"width\": \"512\",\n",
        "    \"height\": \"512\",\n",
        "    \"samples\": \"4\",\n",
        "    \"num_inference_steps\": \"31\",\n",
        "    \"seed\": None,\n",
        "    \"guidance_scale\": 7.5,\n",
        "    \"safety_checker\": \"yes\",\n",
        "    \"multi_lingual\": \"no\",\n",
        "    \"panorama\": \"no\",\n",
        "    \"self_attention\": \"no\",\n",
        "    \"upscale\": \"no\",\n",
        "    \"embeddings_model\": None,\n",
        "    \"webhook\": None,\n",
        "    \"track_id\": None\n",
        "  })\n",
        "\n",
        "  headers = {\n",
        "    'Content-Type': 'application/json'\n",
        "  }\n",
        "\n",
        "  response = requests.request(\"POST\", url, headers=headers, data=payload)\n",
        "\n",
        "  return response\n"
      ]
    },
    {
      "cell_type": "code",
      "execution_count": 65,
      "metadata": {
        "id": "i3f9mn7J2CSk"
      },
      "outputs": [],
      "source": [
        "# response = call_api(\"golden labrador in a field of sunflowers\")\n",
        "# img_srcs = json.loads(response.text)['output']\n",
        "# img_srcs"
      ]
    },
    {
      "cell_type": "code",
      "source": [
        "# GPT-4 turbo\n",
        "def save_img(url, filepath=''):\n",
        "\n",
        "  # This statement requests the resource at\n",
        "  # the given link, extracts its contents\n",
        "  # and saves it in a variable\n",
        "  data = requests.get(url).content\n",
        "  # print(data)\n",
        "\n",
        "  # Opening a new file named img with extension .png\n",
        "  # This file would store the data of the image file\n",
        "  filename = filepath + re.search(r'[^/]*$', url).group()\n",
        "  f = open(filename,'wb')\n",
        "\n",
        "  # Storing the image data inside the data variable to the file\n",
        "  f.write(data)\n",
        "  f.close()\n",
        "\n",
        "  # Opening the saved image and displaying it\n",
        "  # img = Image.open(filename)\n",
        "  # img.show()\n"
      ],
      "metadata": {
        "id": "Ed7f-qWp50Ed"
      },
      "execution_count": 76,
      "outputs": []
    },
    {
      "cell_type": "code",
      "source": [
        "def save_imgs_from_prompt(prompt, negative_prompt=None, num_imgs=NUM_IMAGES_PER_PROMPT, filepath=''):\n",
        "  count = 0\n",
        "  while count < NUM_IMAGES_PER_PROMPT: # cannot simply use for-loop, instead use\n",
        "    print(count)\n",
        "    response = call_api(prompt, negative_prompt) # minor debug: put response, img_srcs inside loop\n",
        "    print(response.text)\n",
        "    img_srcs = json.loads(response.text)['output']\n",
        "    if json.loads(response.text)['status'] == \"success\":\n",
        "      for url in img_srcs:\n",
        "        print(url)\n",
        "        save_img(url, filepath=filepath)\n",
        "        save_img_caption(prompt, url, filepath=filepath)\n",
        "      count += len(img_srcs)"
      ],
      "metadata": {
        "id": "_WnT0vOm6e84"
      },
      "execution_count": 106,
      "outputs": []
    },
    {
      "cell_type": "code",
      "source": [
        "!ls"
      ],
      "metadata": {
        "colab": {
          "base_uri": "https://localhost:8080/"
        },
        "id": "i9YPMGn9YzHl",
        "outputId": "2403ca62-9ff8-4d70-8d16-2563e692701e"
      },
      "execution_count": 107,
      "outputs": [
        {
          "output_type": "stream",
          "name": "stdout",
          "text": [
            "batch1\tCS242-SD-imgs  img-captions.csv  img-captions.txt  synsets.txt\n"
          ]
        }
      ]
    },
    {
      "cell_type": "code",
      "source": [
        "save_imgs_from_prompt(\"golden labrador in a field of sunflowers\", filepath='batch1/')"
      ],
      "metadata": {
        "colab": {
          "base_uri": "https://localhost:8080/"
        },
        "id": "mmVThuMr6hHN",
        "outputId": "ba3c5d32-a010-487f-d82b-7f22cbd4319f"
      },
      "execution_count": 108,
      "outputs": [
        {
          "output_type": "stream",
          "name": "stdout",
          "text": [
            "0\n",
            "{\"status\":\"processing\",\"tip\":\"Get 20x faster image generation using enterprise plan. Click here : https:\\/\\/stablediffusionapi.com\\/enterprise\",\"tip_1\":\"Your image is processing in background, you can get this image using fetch API: here is link for fetch api : https:\\/\\/stablediffusionapi.com\\/docs\\/community-models-api-v4\\/dreamboothfetchqueimg\",\"eta\":38.69,\"messege\":\"Try to fetch request after seconds estimated\",\"fetch_result\":\"https:\\/\\/stablediffusionapi.com\\/api\\/v3\\/fetch\\/56320095\",\"id\":56320095,\"output\":[],\"meta\":{\"H\":512,\"W\":512,\"enable_attention_slicing\":\"true\",\"file_prefix\":\"56ef8bad-7a27-4e3e-91c4-5a97e603e0c1\",\"guidance_scale\":7.5,\"instant_response\":\"no\",\"model\":\"runwayml\\/stable-diffusion-v1-5\",\"n_samples\":4,\"negative_prompt\":\"low quality\",\"outdir\":\"out\",\"prompt\":\"golden labrador in a field of sunflowers\",\"revision\":\"fp16\",\"safetychecker\":\"yes\",\"seed\":1542448286,\"steps\":30,\"vae\":\"stabilityai\\/sd-vae-ft-mse\"}}\n",
            "0\n",
            "{\"status\":\"processing\",\"tip\":\"Get 20x faster image generation using enterprise plan. Click here : https:\\/\\/stablediffusionapi.com\\/enterprise\",\"tip_1\":\"Your image is processing in background, you can get this image using fetch API: here is link for fetch api : https:\\/\\/stablediffusionapi.com\\/docs\\/community-models-api-v4\\/dreamboothfetchqueimg\",\"eta\":41.41,\"messege\":\"Try to fetch request after seconds estimated\",\"fetch_result\":\"https:\\/\\/stablediffusionapi.com\\/api\\/v3\\/fetch\\/56320097\",\"id\":56320097,\"output\":[],\"meta\":{\"H\":512,\"W\":512,\"enable_attention_slicing\":\"true\",\"file_prefix\":\"daf05dea-9af3-4504-88b5-5535d13a62d7\",\"guidance_scale\":7.5,\"instant_response\":\"no\",\"model\":\"runwayml\\/stable-diffusion-v1-5\",\"n_samples\":4,\"negative_prompt\":\"low quality\",\"outdir\":\"out\",\"prompt\":\"golden labrador in a field of sunflowers\",\"revision\":\"fp16\",\"safetychecker\":\"yes\",\"seed\":1595330014,\"steps\":30,\"vae\":\"stabilityai\\/sd-vae-ft-mse\"}}\n",
            "0\n",
            "{\"status\":\"processing\",\"tip\":\"Get 20x faster image generation using enterprise plan. Click here : https:\\/\\/stablediffusionapi.com\\/enterprise\",\"tip_1\":\"Your image is processing in background, you can get this image using fetch API: here is link for fetch api : https:\\/\\/stablediffusionapi.com\\/docs\\/community-models-api-v4\\/dreamboothfetchqueimg\",\"eta\":38.31,\"messege\":\"Try to fetch request after seconds estimated\",\"fetch_result\":\"https:\\/\\/stablediffusionapi.com\\/api\\/v3\\/fetch\\/56320099\",\"id\":56320099,\"output\":[],\"meta\":{\"H\":512,\"W\":512,\"enable_attention_slicing\":\"true\",\"file_prefix\":\"980038cd-9fe6-41c1-90da-ee5fdd1dc224\",\"guidance_scale\":7.5,\"instant_response\":\"no\",\"model\":\"runwayml\\/stable-diffusion-v1-5\",\"n_samples\":4,\"negative_prompt\":\"low quality\",\"outdir\":\"out\",\"prompt\":\"golden labrador in a field of sunflowers\",\"revision\":\"fp16\",\"safetychecker\":\"yes\",\"seed\":1736736691,\"steps\":30,\"vae\":\"stabilityai\\/sd-vae-ft-mse\"}}\n",
            "0\n",
            "{\"status\":\"success\",\"tip\":\"Get 20x faster image generation using enterprise plan. Click here : https:\\/\\/stablediffusionapi.com\\/enterprise\",\"generationTime\":2.488422155380249,\"id\":56320116,\"output\":[\"https:\\/\\/cdn2.stablediffusionapi.com\\/generations\\/5f85335b-3f1d-4bf7-8453-55f7c5e34e17-0.png\",\"https:\\/\\/cdn2.stablediffusionapi.com\\/generations\\/5f85335b-3f1d-4bf7-8453-55f7c5e34e17-1.png\",\"https:\\/\\/cdn2.stablediffusionapi.com\\/generations\\/5f85335b-3f1d-4bf7-8453-55f7c5e34e17-2.png\",\"https:\\/\\/cdn2.stablediffusionapi.com\\/generations\\/5f85335b-3f1d-4bf7-8453-55f7c5e34e17-3.png\"],\"proxy_links\":\"\",\"nsfw_content_detected\":\"\",\"meta\":{\"H\":512,\"W\":512,\"enable_attention_slicing\":\"true\",\"file_prefix\":\"5f85335b-3f1d-4bf7-8453-55f7c5e34e17\",\"guidance_scale\":7.5,\"instant_response\":\"no\",\"model\":\"runwayml\\/stable-diffusion-v1-5\",\"n_samples\":4,\"negative_prompt\":\"low quality\",\"outdir\":\"out\",\"prompt\":\"golden labrador in a field of sunflowers\",\"revision\":\"fp16\",\"safetychecker\":\"yes\",\"seed\":1912663553,\"steps\":30,\"vae\":\"stabilityai\\/sd-vae-ft-mse\"}}\n",
            "https://cdn2.stablediffusionapi.com/generations/5f85335b-3f1d-4bf7-8453-55f7c5e34e17-0.png\n",
            "https://cdn2.stablediffusionapi.com/generations/5f85335b-3f1d-4bf7-8453-55f7c5e34e17-1.png\n",
            "https://cdn2.stablediffusionapi.com/generations/5f85335b-3f1d-4bf7-8453-55f7c5e34e17-2.png\n",
            "https://cdn2.stablediffusionapi.com/generations/5f85335b-3f1d-4bf7-8453-55f7c5e34e17-3.png\n",
            "4\n",
            "{\"status\":\"success\",\"tip\":\"Get 20x faster image generation using enterprise plan. Click here : https:\\/\\/stablediffusionapi.com\\/enterprise\",\"generationTime\":6.3054585456848145,\"id\":56320147,\"output\":[\"https:\\/\\/cdn2.stablediffusionapi.com\\/generations\\/5339affd-484a-445b-b68d-addeea4b052d-0.png\",\"https:\\/\\/cdn2.stablediffusionapi.com\\/generations\\/5339affd-484a-445b-b68d-addeea4b052d-1.png\",\"https:\\/\\/cdn2.stablediffusionapi.com\\/generations\\/5339affd-484a-445b-b68d-addeea4b052d-2.png\",\"https:\\/\\/cdn2.stablediffusionapi.com\\/generations\\/5339affd-484a-445b-b68d-addeea4b052d-3.png\"],\"proxy_links\":\"\",\"nsfw_content_detected\":\"\",\"meta\":{\"H\":512,\"W\":512,\"enable_attention_slicing\":\"true\",\"file_prefix\":\"5339affd-484a-445b-b68d-addeea4b052d\",\"guidance_scale\":7.5,\"instant_response\":\"no\",\"model\":\"runwayml\\/stable-diffusion-v1-5\",\"n_samples\":4,\"negative_prompt\":\"low quality\",\"outdir\":\"out\",\"prompt\":\"golden labrador in a field of sunflowers\",\"revision\":\"fp16\",\"safetychecker\":\"yes\",\"seed\":1578885888,\"steps\":30,\"vae\":\"stabilityai\\/sd-vae-ft-mse\"}}\n",
            "https://cdn2.stablediffusionapi.com/generations/5339affd-484a-445b-b68d-addeea4b052d-0.png\n",
            "https://cdn2.stablediffusionapi.com/generations/5339affd-484a-445b-b68d-addeea4b052d-1.png\n",
            "https://cdn2.stablediffusionapi.com/generations/5339affd-484a-445b-b68d-addeea4b052d-2.png\n",
            "https://cdn2.stablediffusionapi.com/generations/5339affd-484a-445b-b68d-addeea4b052d-3.png\n",
            "8\n",
            "{\"status\":\"processing\",\"tip\":\"Get 20x faster image generation using enterprise plan. Click here : https:\\/\\/stablediffusionapi.com\\/enterprise\",\"tip_1\":\"Your image is processing in background, you can get this image using fetch API: here is link for fetch api : https:\\/\\/stablediffusionapi.com\\/docs\\/community-models-api-v4\\/dreamboothfetchqueimg\",\"eta\":23.52,\"messege\":\"Try to fetch request after seconds estimated\",\"fetch_result\":\"https:\\/\\/stablediffusionapi.com\\/api\\/v3\\/fetch\\/56320156\",\"id\":56320156,\"output\":[],\"meta\":{\"H\":512,\"W\":512,\"enable_attention_slicing\":\"true\",\"file_prefix\":\"1af0d7fb-ca63-48b3-9b3c-05e69c113525\",\"guidance_scale\":7.5,\"instant_response\":\"no\",\"model\":\"runwayml\\/stable-diffusion-v1-5\",\"n_samples\":4,\"negative_prompt\":\"low quality\",\"outdir\":\"out\",\"prompt\":\"golden labrador in a field of sunflowers\",\"revision\":\"fp16\",\"safetychecker\":\"yes\",\"seed\":3914825375,\"steps\":30,\"vae\":\"stabilityai\\/sd-vae-ft-mse\"}}\n",
            "8\n",
            "{\"status\":\"processing\",\"tip\":\"Get 20x faster image generation using enterprise plan. Click here : https:\\/\\/stablediffusionapi.com\\/enterprise\",\"tip_1\":\"Your image is processing in background, you can get this image using fetch API: here is link for fetch api : https:\\/\\/stablediffusionapi.com\\/docs\\/community-models-api-v4\\/dreamboothfetchqueimg\",\"eta\":26.24,\"messege\":\"Try to fetch request after seconds estimated\",\"fetch_result\":\"https:\\/\\/stablediffusionapi.com\\/api\\/v3\\/fetch\\/56320157\",\"id\":56320157,\"output\":[],\"meta\":{\"H\":512,\"W\":512,\"enable_attention_slicing\":\"true\",\"file_prefix\":\"72aa8ef4-7d2b-4ce7-96f8-e9791c449159\",\"guidance_scale\":7.5,\"instant_response\":\"no\",\"model\":\"runwayml\\/stable-diffusion-v1-5\",\"n_samples\":4,\"negative_prompt\":\"low quality\",\"outdir\":\"out\",\"prompt\":\"golden labrador in a field of sunflowers\",\"revision\":\"fp16\",\"safetychecker\":\"yes\",\"seed\":1452664544,\"steps\":30,\"vae\":\"stabilityai\\/sd-vae-ft-mse\"}}\n",
            "8\n",
            "{\"status\":\"success\",\"tip\":\"Get 20x faster image generation using enterprise plan. Click here : https:\\/\\/stablediffusionapi.com\\/enterprise\",\"generationTime\":2.3838248252868652,\"id\":56320174,\"output\":[\"https:\\/\\/cdn2.stablediffusionapi.com\\/generations\\/87a81f84-1fa6-4733-882f-33ececbc15c3-0.png\",\"https:\\/\\/cdn2.stablediffusionapi.com\\/generations\\/87a81f84-1fa6-4733-882f-33ececbc15c3-1.png\",\"https:\\/\\/cdn2.stablediffusionapi.com\\/generations\\/87a81f84-1fa6-4733-882f-33ececbc15c3-2.png\",\"https:\\/\\/cdn2.stablediffusionapi.com\\/generations\\/87a81f84-1fa6-4733-882f-33ececbc15c3-3.png\"],\"proxy_links\":\"\",\"nsfw_content_detected\":\"\",\"meta\":{\"H\":512,\"W\":512,\"enable_attention_slicing\":\"true\",\"file_prefix\":\"87a81f84-1fa6-4733-882f-33ececbc15c3\",\"guidance_scale\":7.5,\"instant_response\":\"no\",\"model\":\"runwayml\\/stable-diffusion-v1-5\",\"n_samples\":4,\"negative_prompt\":\"low quality\",\"outdir\":\"out\",\"prompt\":\"golden labrador in a field of sunflowers\",\"revision\":\"fp16\",\"safetychecker\":\"yes\",\"seed\":2796716347,\"steps\":30,\"vae\":\"stabilityai\\/sd-vae-ft-mse\"}}\n",
            "https://cdn2.stablediffusionapi.com/generations/87a81f84-1fa6-4733-882f-33ececbc15c3-0.png\n",
            "https://cdn2.stablediffusionapi.com/generations/87a81f84-1fa6-4733-882f-33ececbc15c3-1.png\n",
            "https://cdn2.stablediffusionapi.com/generations/87a81f84-1fa6-4733-882f-33ececbc15c3-2.png\n",
            "https://cdn2.stablediffusionapi.com/generations/87a81f84-1fa6-4733-882f-33ececbc15c3-3.png\n",
            "12\n",
            "{\"status\":\"success\",\"tip\":\"Get 20x faster image generation using enterprise plan. Click here : https:\\/\\/stablediffusionapi.com\\/enterprise\",\"generationTime\":3.3050270080566406,\"id\":56320204,\"output\":[\"https:\\/\\/cdn2.stablediffusionapi.com\\/generations\\/2e753d97-0f24-4a00-9907-3cc219d084f0-0.png\",\"https:\\/\\/cdn2.stablediffusionapi.com\\/generations\\/2e753d97-0f24-4a00-9907-3cc219d084f0-1.png\",\"https:\\/\\/cdn2.stablediffusionapi.com\\/generations\\/2e753d97-0f24-4a00-9907-3cc219d084f0-2.png\",\"https:\\/\\/cdn2.stablediffusionapi.com\\/generations\\/2e753d97-0f24-4a00-9907-3cc219d084f0-3.png\"],\"proxy_links\":\"\",\"nsfw_content_detected\":\"\",\"meta\":{\"H\":512,\"W\":512,\"enable_attention_slicing\":\"true\",\"file_prefix\":\"2e753d97-0f24-4a00-9907-3cc219d084f0\",\"guidance_scale\":7.5,\"instant_response\":\"no\",\"model\":\"runwayml\\/stable-diffusion-v1-5\",\"n_samples\":4,\"negative_prompt\":\"low quality\",\"outdir\":\"out\",\"prompt\":\"golden labrador in a field of sunflowers\",\"revision\":\"fp16\",\"safetychecker\":\"yes\",\"seed\":4164934505,\"steps\":30,\"vae\":\"stabilityai\\/sd-vae-ft-mse\"}}\n",
            "https://cdn2.stablediffusionapi.com/generations/2e753d97-0f24-4a00-9907-3cc219d084f0-0.png\n",
            "https://cdn2.stablediffusionapi.com/generations/2e753d97-0f24-4a00-9907-3cc219d084f0-1.png\n",
            "https://cdn2.stablediffusionapi.com/generations/2e753d97-0f24-4a00-9907-3cc219d084f0-2.png\n",
            "https://cdn2.stablediffusionapi.com/generations/2e753d97-0f24-4a00-9907-3cc219d084f0-3.png\n",
            "16\n",
            "{\"status\":\"failed\",\"id\":\"\",\"tip\":\"Get 20x faster image generation using enterprise plan. Click here : https:\\/\\/stablediffusionapi.com\\/enterprise\",\"messege\":\"Failed, Try Again\",\"output\":\"\"}\n",
            "16\n",
            "{\"status\":\"success\",\"tip\":\"Get 20x faster image generation using enterprise plan. Click here : https:\\/\\/stablediffusionapi.com\\/enterprise\",\"generationTime\":5.950083017349243,\"id\":56320237,\"output\":[\"https:\\/\\/cdn2.stablediffusionapi.com\\/generations\\/ed6af3b7-c576-4765-bbbb-00c1b1fc3a61-0.png\",\"https:\\/\\/cdn2.stablediffusionapi.com\\/generations\\/ed6af3b7-c576-4765-bbbb-00c1b1fc3a61-1.png\",\"https:\\/\\/cdn2.stablediffusionapi.com\\/generations\\/ed6af3b7-c576-4765-bbbb-00c1b1fc3a61-2.png\",\"https:\\/\\/cdn2.stablediffusionapi.com\\/generations\\/ed6af3b7-c576-4765-bbbb-00c1b1fc3a61-3.png\"],\"proxy_links\":\"\",\"nsfw_content_detected\":\"\",\"meta\":{\"H\":512,\"W\":512,\"enable_attention_slicing\":\"true\",\"file_prefix\":\"ed6af3b7-c576-4765-bbbb-00c1b1fc3a61\",\"guidance_scale\":7.5,\"instant_response\":\"no\",\"model\":\"runwayml\\/stable-diffusion-v1-5\",\"n_samples\":4,\"negative_prompt\":\"low quality\",\"outdir\":\"out\",\"prompt\":\"golden labrador in a field of sunflowers\",\"revision\":\"fp16\",\"safetychecker\":\"yes\",\"seed\":1966790833,\"steps\":30,\"vae\":\"stabilityai\\/sd-vae-ft-mse\"}}\n",
            "https://cdn2.stablediffusionapi.com/generations/ed6af3b7-c576-4765-bbbb-00c1b1fc3a61-0.png\n",
            "https://cdn2.stablediffusionapi.com/generations/ed6af3b7-c576-4765-bbbb-00c1b1fc3a61-1.png\n",
            "https://cdn2.stablediffusionapi.com/generations/ed6af3b7-c576-4765-bbbb-00c1b1fc3a61-2.png\n",
            "https://cdn2.stablediffusionapi.com/generations/ed6af3b7-c576-4765-bbbb-00c1b1fc3a61-3.png\n",
            "20\n",
            "{\"status\":\"success\",\"tip\":\"Get 20x faster image generation using enterprise plan. Click here : https:\\/\\/stablediffusionapi.com\\/enterprise\",\"generationTime\":16.18306589126587,\"id\":56320277,\"output\":[\"https:\\/\\/pub-3626123a908346a7a8be8d9295f44e26.r2.dev\\/generations\\/5fb3c713-3a4b-43bb-8491-849c8bde9446-0.png\",\"https:\\/\\/pub-3626123a908346a7a8be8d9295f44e26.r2.dev\\/generations\\/5fb3c713-3a4b-43bb-8491-849c8bde9446-1.png\",\"https:\\/\\/pub-3626123a908346a7a8be8d9295f44e26.r2.dev\\/generations\\/5fb3c713-3a4b-43bb-8491-849c8bde9446-2.png\",\"https:\\/\\/pub-3626123a908346a7a8be8d9295f44e26.r2.dev\\/generations\\/5fb3c713-3a4b-43bb-8491-849c8bde9446-3.png\"],\"proxy_links\":\"\",\"nsfw_content_detected\":\"\",\"meta\":{\"H\":512,\"W\":512,\"enable_attention_slicing\":\"true\",\"file_prefix\":\"5fb3c713-3a4b-43bb-8491-849c8bde9446\",\"guidance_scale\":7.5,\"instant_response\":\"no\",\"model\":\"runwayml\\/stable-diffusion-v1-5\",\"n_samples\":4,\"negative_prompt\":\"low quality\",\"outdir\":\"out\",\"prompt\":\"golden labrador in a field of sunflowers\",\"revision\":\"fp16\",\"safetychecker\":\"yes\",\"seed\":3614849274,\"steps\":30,\"vae\":\"stabilityai\\/sd-vae-ft-mse\"}}\n",
            "https://pub-3626123a908346a7a8be8d9295f44e26.r2.dev/generations/5fb3c713-3a4b-43bb-8491-849c8bde9446-0.png\n",
            "https://pub-3626123a908346a7a8be8d9295f44e26.r2.dev/generations/5fb3c713-3a4b-43bb-8491-849c8bde9446-1.png\n",
            "https://pub-3626123a908346a7a8be8d9295f44e26.r2.dev/generations/5fb3c713-3a4b-43bb-8491-849c8bde9446-2.png\n",
            "https://pub-3626123a908346a7a8be8d9295f44e26.r2.dev/generations/5fb3c713-3a4b-43bb-8491-849c8bde9446-3.png\n"
          ]
        }
      ]
    },
    {
      "cell_type": "code",
      "source": [
        "from transformers import CLIPProcessor, CLIPModel\n",
        "\n",
        "# GPT-4 turbo\n",
        "# Load the pre-trained CLIP model\n",
        "model = CLIPModel.from_pretrained(\"openai/clip-vit-base-patch32\")\n",
        "processor = CLIPProcessor.from_pretrained(\"openai/clip-vit-base-patch32\")\n",
        "\n",
        "# Text string\n",
        "text = \"a banana sitting at the beach\"\n",
        "\n",
        "# Prepare the text\n",
        "inputs = processor(text=text, return_tensors=\"pt\")\n",
        "\n",
        "# Perform the encoding\n",
        "text_features = model.get_text_features(**inputs)\n",
        "\n",
        "# The text_features tensor is the encoded representation of your text\n",
        "print(text_features)"
      ],
      "metadata": {
        "id": "6RKCkBJ6Np_2"
      },
      "execution_count": null,
      "outputs": []
    },
    {
      "cell_type": "code",
      "source": [
        "# Text string\n",
        "text = [\"a banana sitting at the beach\", \"two bananas sitting at the beach\", \"a dog sitting at the becah\"]\n",
        "\n",
        "# Prepare the text\n",
        "inputs = processor(text=text, return_tensors=\"pt\", padding=True)\n",
        "\n",
        "# Perform the encoding\n",
        "text_features = model.get_text_features(**inputs)\n",
        "\n",
        "# The text_features tensor is the encoded representation of your text\n",
        "print(text_features)"
      ],
      "metadata": {
        "colab": {
          "base_uri": "https://localhost:8080/"
        },
        "id": "0ST940L4OsRz",
        "outputId": "ebc0612c-5a8c-4c0a-b6cd-baa084090552"
      },
      "execution_count": null,
      "outputs": [
        {
          "output_type": "stream",
          "name": "stdout",
          "text": [
            "tensor([[ 0.1699,  0.3451, -0.0828,  ...,  0.2795, -0.0243, -0.0554],\n",
            "        [ 0.2219,  0.2785, -0.1488,  ...,  0.2776, -0.0453, -0.1471],\n",
            "        [-0.0926, -0.1647, -0.3049,  ..., -0.2542, -0.1363,  0.1552]],\n",
            "       grad_fn=<MmBackward0>)\n"
          ]
        }
      ]
    },
    {
      "cell_type": "code",
      "source": [
        "text_features[0] @ text_features[1]"
      ],
      "metadata": {
        "colab": {
          "base_uri": "https://localhost:8080/"
        },
        "id": "6Jb_U-6kQV1I",
        "outputId": "85032647-2fee-42ef-e49c-ad07d48646aa"
      },
      "execution_count": null,
      "outputs": [
        {
          "output_type": "execute_result",
          "data": {
            "text/plain": [
              "tensor(56.8696, grad_fn=<DotBackward0>)"
            ]
          },
          "metadata": {},
          "execution_count": 123
        }
      ]
    },
    {
      "cell_type": "code",
      "source": [
        "text_features[0] @ text_features[2]"
      ],
      "metadata": {
        "colab": {
          "base_uri": "https://localhost:8080/"
        },
        "id": "fYbgZp6bQgKm",
        "outputId": "a7e4624c-8ad5-41e3-b154-7a39bde59a0c"
      },
      "execution_count": null,
      "outputs": [
        {
          "output_type": "execute_result",
          "data": {
            "text/plain": [
              "tensor(49.9023, grad_fn=<DotBackward0>)"
            ]
          },
          "metadata": {},
          "execution_count": 124
        }
      ]
    },
    {
      "cell_type": "code",
      "source": [
        "text_features[1] @ text_features[2]"
      ],
      "metadata": {
        "colab": {
          "base_uri": "https://localhost:8080/"
        },
        "id": "Y0_5wIS_QhXg",
        "outputId": "7dba449e-b026-4a70-c819-f78f9903e073"
      },
      "execution_count": null,
      "outputs": [
        {
          "output_type": "execute_result",
          "data": {
            "text/plain": [
              "tensor(49.9115, grad_fn=<DotBackward0>)"
            ]
          },
          "metadata": {},
          "execution_count": 125
        }
      ]
    },
    {
      "cell_type": "code",
      "source": [
        "# GPT-4 turbo (mostly)\n",
        "from sklearn.metrics.pairwise import cosine_similarity\n",
        "\n",
        "# Assuming text_features is a tensor with encoded text features\n",
        "# Convert to numpy array if it's a PyTorch tensor\n",
        "text_features_np = text_features.detach().numpy()\n",
        "\n",
        "# Calculate cosine similarity\n",
        "# This will return a matrix of similarities between each pair of texts\n",
        "similarity_matrix = cosine_similarity(text_features_np)\n",
        "np.fill_diagonal(similarity_matrix, np.NINF)\n",
        "\n",
        "print(similarity_matrix[0])\n",
        "print(np.argmax(similarity_matrix[0]))"
      ],
      "metadata": {
        "colab": {
          "base_uri": "https://localhost:8080/",
          "height": 304
        },
        "id": "_sAz2_HAQiOX",
        "outputId": "4bb9fc46-4242-4b2a-d56a-b8432a6d52d6"
      },
      "execution_count": 37,
      "outputs": [
        {
          "output_type": "error",
          "ename": "KeyboardInterrupt",
          "evalue": "ignored",
          "traceback": [
            "\u001b[0;31m---------------------------------------------------------------------------\u001b[0m",
            "\u001b[0;31mKeyboardInterrupt\u001b[0m                         Traceback (most recent call last)",
            "\u001b[0;32m<ipython-input-37-a97f3870e503>\u001b[0m in \u001b[0;36m<cell line: 2>\u001b[0;34m()\u001b[0m\n\u001b[1;32m      1\u001b[0m \u001b[0;31m# GPT-4 turbo (mostly)\u001b[0m\u001b[0;34m\u001b[0m\u001b[0;34m\u001b[0m\u001b[0m\n\u001b[0;32m----> 2\u001b[0;31m \u001b[0;32mfrom\u001b[0m \u001b[0msklearn\u001b[0m\u001b[0;34m.\u001b[0m\u001b[0mmetrics\u001b[0m\u001b[0;34m.\u001b[0m\u001b[0mpairwise\u001b[0m \u001b[0;32mimport\u001b[0m \u001b[0mcosine_similarity\u001b[0m\u001b[0;34m\u001b[0m\u001b[0;34m\u001b[0m\u001b[0m\n\u001b[0m\u001b[1;32m      3\u001b[0m \u001b[0;34m\u001b[0m\u001b[0m\n\u001b[1;32m      4\u001b[0m \u001b[0;31m# Assuming text_features is a tensor with encoded text features\u001b[0m\u001b[0;34m\u001b[0m\u001b[0;34m\u001b[0m\u001b[0m\n\u001b[1;32m      5\u001b[0m \u001b[0;31m# Convert to numpy array if it's a PyTorch tensor\u001b[0m\u001b[0;34m\u001b[0m\u001b[0;34m\u001b[0m\u001b[0m\n",
            "\u001b[0;32m/usr/local/lib/python3.10/dist-packages/sklearn/__init__.py\u001b[0m in \u001b[0;36m<module>\u001b[0;34m\u001b[0m\n\u001b[1;32m     80\u001b[0m     \u001b[0;32mfrom\u001b[0m \u001b[0;34m.\u001b[0m \u001b[0;32mimport\u001b[0m \u001b[0m_distributor_init\u001b[0m  \u001b[0;31m# noqa: F401\u001b[0m\u001b[0;34m\u001b[0m\u001b[0;34m\u001b[0m\u001b[0m\n\u001b[1;32m     81\u001b[0m     \u001b[0;32mfrom\u001b[0m \u001b[0;34m.\u001b[0m \u001b[0;32mimport\u001b[0m \u001b[0m__check_build\u001b[0m  \u001b[0;31m# noqa: F401\u001b[0m\u001b[0;34m\u001b[0m\u001b[0;34m\u001b[0m\u001b[0m\n\u001b[0;32m---> 82\u001b[0;31m     \u001b[0;32mfrom\u001b[0m \u001b[0;34m.\u001b[0m\u001b[0mbase\u001b[0m \u001b[0;32mimport\u001b[0m \u001b[0mclone\u001b[0m\u001b[0;34m\u001b[0m\u001b[0;34m\u001b[0m\u001b[0m\n\u001b[0m\u001b[1;32m     83\u001b[0m     \u001b[0;32mfrom\u001b[0m \u001b[0;34m.\u001b[0m\u001b[0mutils\u001b[0m\u001b[0;34m.\u001b[0m\u001b[0m_show_versions\u001b[0m \u001b[0;32mimport\u001b[0m \u001b[0mshow_versions\u001b[0m\u001b[0;34m\u001b[0m\u001b[0;34m\u001b[0m\u001b[0m\n\u001b[1;32m     84\u001b[0m \u001b[0;34m\u001b[0m\u001b[0m\n",
            "\u001b[0;32m/usr/local/lib/python3.10/dist-packages/sklearn/base.py\u001b[0m in \u001b[0;36m<module>\u001b[0;34m\u001b[0m\n\u001b[1;32m     15\u001b[0m \u001b[0;32mfrom\u001b[0m \u001b[0;34m.\u001b[0m \u001b[0;32mimport\u001b[0m \u001b[0m__version__\u001b[0m\u001b[0;34m\u001b[0m\u001b[0;34m\u001b[0m\u001b[0m\n\u001b[1;32m     16\u001b[0m \u001b[0;32mfrom\u001b[0m \u001b[0;34m.\u001b[0m\u001b[0m_config\u001b[0m \u001b[0;32mimport\u001b[0m \u001b[0mget_config\u001b[0m\u001b[0;34m\u001b[0m\u001b[0;34m\u001b[0m\u001b[0m\n\u001b[0;32m---> 17\u001b[0;31m \u001b[0;32mfrom\u001b[0m \u001b[0;34m.\u001b[0m\u001b[0mutils\u001b[0m \u001b[0;32mimport\u001b[0m \u001b[0m_IS_32BIT\u001b[0m\u001b[0;34m\u001b[0m\u001b[0;34m\u001b[0m\u001b[0m\n\u001b[0m\u001b[1;32m     18\u001b[0m \u001b[0;32mfrom\u001b[0m \u001b[0;34m.\u001b[0m\u001b[0mutils\u001b[0m\u001b[0;34m.\u001b[0m\u001b[0m_set_output\u001b[0m \u001b[0;32mimport\u001b[0m \u001b[0m_SetOutputMixin\u001b[0m\u001b[0;34m\u001b[0m\u001b[0;34m\u001b[0m\u001b[0m\n\u001b[1;32m     19\u001b[0m from .utils._tags import (\n",
            "\u001b[0;32m/usr/local/lib/python3.10/dist-packages/sklearn/utils/__init__.py\u001b[0m in \u001b[0;36m<module>\u001b[0;34m\u001b[0m\n\u001b[1;32m     25\u001b[0m \u001b[0;32mfrom\u001b[0m \u001b[0;34m.\u001b[0m\u001b[0mfixes\u001b[0m \u001b[0;32mimport\u001b[0m \u001b[0mparse_version\u001b[0m\u001b[0;34m,\u001b[0m \u001b[0mthreadpool_info\u001b[0m\u001b[0;34m\u001b[0m\u001b[0;34m\u001b[0m\u001b[0m\n\u001b[1;32m     26\u001b[0m \u001b[0;32mfrom\u001b[0m \u001b[0;34m.\u001b[0m\u001b[0m_estimator_html_repr\u001b[0m \u001b[0;32mimport\u001b[0m \u001b[0mestimator_html_repr\u001b[0m\u001b[0;34m\u001b[0m\u001b[0;34m\u001b[0m\u001b[0m\n\u001b[0;32m---> 27\u001b[0;31m from .validation import (\n\u001b[0m\u001b[1;32m     28\u001b[0m     \u001b[0mas_float_array\u001b[0m\u001b[0;34m,\u001b[0m\u001b[0;34m\u001b[0m\u001b[0;34m\u001b[0m\u001b[0m\n\u001b[1;32m     29\u001b[0m     \u001b[0massert_all_finite\u001b[0m\u001b[0;34m,\u001b[0m\u001b[0;34m\u001b[0m\u001b[0;34m\u001b[0m\u001b[0m\n",
            "\u001b[0;32m/usr/local/lib/python3.10/dist-packages/sklearn/utils/validation.py\u001b[0m in \u001b[0;36m<module>\u001b[0;34m\u001b[0m\n\u001b[1;32m     32\u001b[0m \u001b[0;32mfrom\u001b[0m \u001b[0;34m.\u001b[0m\u001b[0;34m.\u001b[0m\u001b[0mutils\u001b[0m\u001b[0;34m.\u001b[0m\u001b[0m_array_api\u001b[0m \u001b[0;32mimport\u001b[0m \u001b[0mget_namespace\u001b[0m\u001b[0;34m\u001b[0m\u001b[0;34m\u001b[0m\u001b[0m\n\u001b[1;32m     33\u001b[0m \u001b[0;32mfrom\u001b[0m \u001b[0;34m.\u001b[0m\u001b[0;34m.\u001b[0m\u001b[0mutils\u001b[0m\u001b[0;34m.\u001b[0m\u001b[0m_array_api\u001b[0m \u001b[0;32mimport\u001b[0m \u001b[0m_asarray_with_order\u001b[0m\u001b[0;34m\u001b[0m\u001b[0;34m\u001b[0m\u001b[0m\n\u001b[0;32m---> 34\u001b[0;31m \u001b[0;32mfrom\u001b[0m \u001b[0;34m.\u001b[0m\u001b[0m_isfinite\u001b[0m \u001b[0;32mimport\u001b[0m \u001b[0mcy_isfinite\u001b[0m\u001b[0;34m,\u001b[0m \u001b[0mFiniteStatus\u001b[0m\u001b[0;34m\u001b[0m\u001b[0;34m\u001b[0m\u001b[0m\n\u001b[0m\u001b[1;32m     35\u001b[0m \u001b[0;34m\u001b[0m\u001b[0m\n\u001b[1;32m     36\u001b[0m \u001b[0mFLOAT_DTYPES\u001b[0m \u001b[0;34m=\u001b[0m \u001b[0;34m(\u001b[0m\u001b[0mnp\u001b[0m\u001b[0;34m.\u001b[0m\u001b[0mfloat64\u001b[0m\u001b[0;34m,\u001b[0m \u001b[0mnp\u001b[0m\u001b[0;34m.\u001b[0m\u001b[0mfloat32\u001b[0m\u001b[0;34m,\u001b[0m \u001b[0mnp\u001b[0m\u001b[0;34m.\u001b[0m\u001b[0mfloat16\u001b[0m\u001b[0;34m)\u001b[0m\u001b[0;34m\u001b[0m\u001b[0;34m\u001b[0m\u001b[0m\n",
            "\u001b[0;32m/usr/lib/python3.10/importlib/_bootstrap.py\u001b[0m in \u001b[0;36mparent\u001b[0;34m(self)\u001b[0m\n",
            "\u001b[0;31mKeyboardInterrupt\u001b[0m: "
          ]
        }
      ]
    },
    {
      "cell_type": "code",
      "source": [
        "# strings = [f\"a {1} next to a tree\",\n",
        "#            f\"a {1} on the left of a building\",\n",
        "#            f\"a {1} on the right of a wall\",\n",
        "#            f\"a {1} in a bowl\",\n",
        "#            f\"a {1} on top of a hill\",\n",
        "#            f\"a {1} held in a hand\",\n",
        "#            f\"a picnic table styled with {1}\",\n",
        "#            f\"a close up of a {1}\",\n",
        "#            f\"a crowd looking upon a {1}\",\n",
        "#            f\"a nice picture of two {1}\"]\n",
        "\n",
        "# GPT-4 turbo\n",
        "# Global list of string templates\n",
        "strings = [\n",
        "    \"a {} next to a tree\",\n",
        "    \"a {} on the left of a building\",\n",
        "    \"a {} on the right of a wall\",\n",
        "    \"a {} in a bowl\",\n",
        "    \"a {} on top of a hill\",\n",
        "    \"a {} held in a hand\",\n",
        "    \"a picnic table styled with {}\",\n",
        "    \"a close up of a {}\",\n",
        "    \"a crowd looking upon a {}\",\n",
        "    \"a nice picture of two {}\"\n",
        "]\n",
        "\n",
        "def select_prompt(index, variable):\n",
        "    # Use the global strings variable\n",
        "    if 0 <= index < len(strings):\n",
        "        return strings[index].format(variable)\n",
        "    else:\n",
        "        return \"Invalid index\"\n",
        "\n",
        "# Example usage\n",
        "result = select_prompt(2, \"apple\")\n",
        "print(result)\n"
      ],
      "metadata": {
        "id": "xwZCZmtMQtoz",
        "colab": {
          "base_uri": "https://localhost:8080/"
        },
        "outputId": "40f81d61-ad96-4038-88b5-12ae3262a695"
      },
      "execution_count": 38,
      "outputs": [
        {
          "output_type": "stream",
          "name": "stdout",
          "text": [
            "a apple on the right of a wall\n"
          ]
        }
      ]
    },
    {
      "cell_type": "code",
      "source": [
        "synsets = []\n",
        "with open('synsets.txt', 'r') as f:\n",
        "  # extract synsets, and create list of lists\n",
        "  synsets = [re.search(r\":\\s(.*)\", synset).group(1).split(sep=\", \") for synset in f]  # https://stackoverflow.com/questions/10939950/simple-python-regex-match-after-colon"
      ],
      "metadata": {
        "id": "Dw4sIH1gSkix"
      },
      "execution_count": 28,
      "outputs": []
    },
    {
      "cell_type": "code",
      "source": [
        "\n",
        "print(synsets)\n",
        "for synset in synsets:\n",
        "  for i in range(NUM_IMAGES_PER_PROMPT):\n",
        "    prompt = random.choice(synset)\n",
        "    print(f\"a {prompt} next to a tree\")"
      ],
      "metadata": {
        "id": "-81nHfFHS2j0"
      },
      "execution_count": null,
      "outputs": []
    },
    {
      "cell_type": "code",
      "source": [
        "def save_img_caption(prompt, url, filepath='', filetype='.png'):\n",
        "  timestamp = datetime.datetime.now().strftime('%Y-%m-%d %H:%M:%S')\n",
        "  src = filepath + re.search(r'[^/]*$', url).group()\n",
        "  # using open('w') would truncate/delete existing data, using 'a' for append instead\n",
        "  with open('img-captions.csv', 'a', newline='') as f: # https://stackoverflow.com/questions/6159900/correct-way-to-write-line-to-file\n",
        "\n",
        "    w = csv.writer(f) # GPT-4 turbo for csv\n",
        "    w.writerow([timestamp, src, prompt])\n",
        "      # f.write(re.sub(filetype + '$', '', src) + \": \" + prompt) # GPT-4 turbo, if needed to remove filetype\n",
        "\n"
      ],
      "metadata": {
        "id": "ayC81BVSUdLw"
      },
      "execution_count": 84,
      "outputs": []
    },
    {
      "cell_type": "code",
      "source": [],
      "metadata": {
        "id": "He45Uw1WXq4Z"
      },
      "execution_count": 47,
      "outputs": []
    },
    {
      "cell_type": "code",
      "source": [],
      "metadata": {
        "id": "a316BuKMYD_o"
      },
      "execution_count": null,
      "outputs": []
    }
  ],
  "metadata": {
    "kernelspec": {
      "display_name": "Python 3",
      "language": "python",
      "name": "python3"
    },
    "language_info": {
      "codemirror_mode": {
        "name": "ipython",
        "version": 3
      },
      "file_extension": ".py",
      "mimetype": "text/x-python",
      "name": "python",
      "nbconvert_exporter": "python",
      "pygments_lexer": "ipython3",
      "version": "3.8.5"
    },
    "colab": {
      "provenance": [],
      "include_colab_link": true
    }
  },
  "nbformat": 4,
  "nbformat_minor": 0
}