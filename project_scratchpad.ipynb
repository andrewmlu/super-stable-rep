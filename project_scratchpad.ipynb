{
 "cells": [
  {
   "cell_type": "code",
   "execution_count": 52,
   "metadata": {},
   "outputs": [
    {
     "name": "stdout",
     "output_type": "stream",
     "text": [
      "{\"status\":\"success\",\"tip\":\"Get 20x faster image generation using enterprise plan. Click here : https:\\/\\/stablediffusionapi.com\\/enterprise\",\"generationTime\":6.41892147064209,\"id\":55669664,\"output\":[\"https:\\/\\/pub-3626123a908346a7a8be8d9295f44e26.r2.dev\\/generations\\/f4a25ef3-eda0-4c91-a4bb-19ae7942b94b-0.png\",\"https:\\/\\/pub-3626123a908346a7a8be8d9295f44e26.r2.dev\\/generations\\/f4a25ef3-eda0-4c91-a4bb-19ae7942b94b-1.png\",\"https:\\/\\/pub-3626123a908346a7a8be8d9295f44e26.r2.dev\\/generations\\/f4a25ef3-eda0-4c91-a4bb-19ae7942b94b-2.png\",\"https:\\/\\/pub-3626123a908346a7a8be8d9295f44e26.r2.dev\\/generations\\/f4a25ef3-eda0-4c91-a4bb-19ae7942b94b-3.png\"],\"proxy_links\":\"\",\"nsfw_content_detected\":\"\",\"meta\":{\"H\":512,\"W\":512,\"enable_attention_slicing\":\"true\",\"file_prefix\":\"f4a25ef3-eda0-4c91-a4bb-19ae7942b94b\",\"guidance_scale\":7.5,\"instant_response\":\"no\",\"model\":\"runwayml\\/stable-diffusion-v1-5\",\"n_samples\":4,\"negative_prompt\":\"grass\",\"outdir\":\"out\",\"prompt\":\"golden labrador in a field of sunflowers\",\"revision\":\"fp16\",\"safetychecker\":\"yes\",\"seed\":4226095425,\"steps\":20,\"vae\":\"stabilityai\\/sd-vae-ft-mse\"}}\n"
     ]
    }
   ],
   "source": [
    "import requests\n",
    "import json\n",
    "\n",
    "url = \"https://stablediffusionapi.com/api/v3/text2img\"\n",
    "\n",
    "payload = json.dumps({\n",
    "  \"key\": \"\",\n",
    "  \"prompt\": \"golden labrador in a field of sunflowers\",\n",
    "  \"negative_prompt\": \"grass\",\n",
    "  \"width\": \"512\",\n",
    "  \"height\": \"512\",\n",
    "  \"samples\": \"4\",\n",
    "  \"num_inference_steps\": \"21\",\n",
    "  \"seed\": None,\n",
    "  \"guidance_scale\": 7.5,\n",
    "  \"safety_checker\": \"yes\",\n",
    "  \"multi_lingual\": \"no\",\n",
    "  \"panorama\": \"no\",\n",
    "  \"self_attention\": \"no\",\n",
    "  \"upscale\": \"no\",\n",
    "  \"embeddings_model\": None,\n",
    "  \"webhook\": None,\n",
    "  \"track_id\": None\n",
    "})\n",
    "\n",
    "headers = {\n",
    "  'Content-Type': 'application/json'\n",
    "}\n",
    "\n",
    "response = requests.request(\"POST\", url, headers=headers, data=payload)\n",
    "\n",
    "print(response.text)\n",
    "\n",
    "\n"
   ]
  },
  {
   "cell_type": "code",
   "execution_count": 53,
   "metadata": {},
   "outputs": [
    {
     "data": {
      "text/plain": [
       "{'status': 'success',\n",
       " 'tip': 'Get 20x faster image generation using enterprise plan. Click here : https://stablediffusionapi.com/enterprise',\n",
       " 'generationTime': 6.41892147064209,\n",
       " 'id': 55669664,\n",
       " 'output': ['https://pub-3626123a908346a7a8be8d9295f44e26.r2.dev/generations/f4a25ef3-eda0-4c91-a4bb-19ae7942b94b-0.png',\n",
       "  'https://pub-3626123a908346a7a8be8d9295f44e26.r2.dev/generations/f4a25ef3-eda0-4c91-a4bb-19ae7942b94b-1.png',\n",
       "  'https://pub-3626123a908346a7a8be8d9295f44e26.r2.dev/generations/f4a25ef3-eda0-4c91-a4bb-19ae7942b94b-2.png',\n",
       "  'https://pub-3626123a908346a7a8be8d9295f44e26.r2.dev/generations/f4a25ef3-eda0-4c91-a4bb-19ae7942b94b-3.png'],\n",
       " 'proxy_links': '',\n",
       " 'nsfw_content_detected': '',\n",
       " 'meta': {'H': 512,\n",
       "  'W': 512,\n",
       "  'enable_attention_slicing': 'true',\n",
       "  'file_prefix': 'f4a25ef3-eda0-4c91-a4bb-19ae7942b94b',\n",
       "  'guidance_scale': 7.5,\n",
       "  'instant_response': 'no',\n",
       "  'model': 'runwayml/stable-diffusion-v1-5',\n",
       "  'n_samples': 4,\n",
       "  'negative_prompt': 'grass',\n",
       "  'outdir': 'out',\n",
       "  'prompt': 'golden labrador in a field of sunflowers',\n",
       "  'revision': 'fp16',\n",
       "  'safetychecker': 'yes',\n",
       "  'seed': 4226095425,\n",
       "  'steps': 20,\n",
       "  'vae': 'stabilityai/sd-vae-ft-mse'}}"
      ]
     },
     "execution_count": 53,
     "metadata": {},
     "output_type": "execute_result"
    }
   ],
   "source": [
    "json.loads(response.text)"
   ]
  },
  {
   "cell_type": "code",
   "execution_count": 63,
   "metadata": {},
   "outputs": [
    {
     "name": "stderr",
     "output_type": "stream",
     "text": [
      "[nltk_data] Downloading package wordnet to /Users/andrew/nltk_data...\n",
      "[nltk_data]   Package wordnet is already up-to-date!\n"
     ]
    },
    {
     "ename": "AttributeError",
     "evalue": "'list' object has no attribute 'similar_tos'",
     "output_type": "error",
     "traceback": [
      "\u001b[0;31m---------------------------------------------------------------------------\u001b[0m",
      "\u001b[0;31mAttributeError\u001b[0m                            Traceback (most recent call last)",
      "\u001b[0;32m<ipython-input-63-98196a7f40d5>\u001b[0m in \u001b[0;36m<module>\u001b[0;34m\u001b[0m\n\u001b[1;32m      3\u001b[0m \u001b[0;32mfrom\u001b[0m \u001b[0mnltk\u001b[0m\u001b[0;34m.\u001b[0m\u001b[0mcorpus\u001b[0m \u001b[0;32mimport\u001b[0m \u001b[0mwordnet\u001b[0m \u001b[0;32mas\u001b[0m \u001b[0mwn\u001b[0m\u001b[0;34m\u001b[0m\u001b[0;34m\u001b[0m\u001b[0m\n\u001b[1;32m      4\u001b[0m \u001b[0;34m\u001b[0m\u001b[0m\n\u001b[0;32m----> 5\u001b[0;31m \u001b[0msynsets\u001b[0m \u001b[0;34m=\u001b[0m \u001b[0mwordnet\u001b[0m\u001b[0;34m.\u001b[0m\u001b[0msynsets\u001b[0m\u001b[0;34m(\u001b[0m\u001b[0;34m'dog'\u001b[0m\u001b[0;34m)\u001b[0m\u001b[0;34m.\u001b[0m\u001b[0msimilar_tos\u001b[0m\u001b[0;34m(\u001b[0m\u001b[0;34m)\u001b[0m\u001b[0;34m\u001b[0m\u001b[0;34m\u001b[0m\u001b[0m\n\u001b[0m\u001b[1;32m      6\u001b[0m \u001b[0;34m\u001b[0m\u001b[0m\n\u001b[1;32m      7\u001b[0m \u001b[0;32mfor\u001b[0m \u001b[0msynset\u001b[0m \u001b[0;32min\u001b[0m \u001b[0msynsets\u001b[0m\u001b[0;34m:\u001b[0m\u001b[0;34m\u001b[0m\u001b[0;34m\u001b[0m\u001b[0m\n",
      "\u001b[0;31mAttributeError\u001b[0m: 'list' object has no attribute 'similar_tos'"
     ]
    }
   ],
   "source": [
    "import nltk\n",
    "nltk.download('wordnet')\n",
    "from nltk.corpus import wordnet as wn\n",
    "\n",
    "synsets = wordnet.synsets('dog')\n",
    "\n",
    "for synset in synsets:\n",
    "  print(synset.name())"
   ]
  },
  {
   "cell_type": "code",
   "execution_count": 64,
   "metadata": {},
   "outputs": [
    {
     "name": "stdout",
     "output_type": "stream",
     "text": [
      "Synset('cat.n.01')\n",
      "Synset('guy.n.01')\n",
      "Synset('cat.n.03')\n",
      "Synset('kat.n.01')\n",
      "Synset('cat-o'-nine-tails.n.01')\n",
      "Synset('caterpillar.n.02')\n",
      "Synset('big_cat.n.01')\n",
      "Synset('computerized_tomography.n.01')\n",
      "Synset('cat.v.01')\n",
      "Synset('vomit.v.01')\n"
     ]
    }
   ],
   "source": [
    "for ss in wn.synsets('cat'):\n",
    "    print(ss)\n",
    "    for sim in ss.similar_tos():\n",
    "        print('    {}'.format(sim))"
   ]
  },
  {
   "cell_type": "code",
   "execution_count": 70,
   "metadata": {},
   "outputs": [
    {
     "name": "stdout",
     "output_type": "stream",
     "text": [
      "entity\n",
      "physical_entity\n",
      "object\n",
      "location\n",
      "territory\n",
      "geographical_area\n",
      "Labrador\n",
      "Closest word to 'labrador': Labrador\n"
     ]
    }
   ],
   "source": [
    "import nltk\n",
    "from nltk.corpus import wordnet\n",
    "\n",
    "# Define the word and get its synsets\n",
    "word = \"labrador\"\n",
    "synsets = wordnet.synsets(word)\n",
    "\n",
    "# Assuming we take the first synset\n",
    "target_synset = synsets[0]\n",
    "\n",
    "# Find the closest word\n",
    "closest_word = None\n",
    "max_similarity = -1\n",
    "\n",
    "for syn in wordnet.all_synsets():\n",
    "    for lemma in syn.lemmas():\n",
    "        if lemma.name() == word:\n",
    "            continue  # Skip the same word\n",
    "        similarity = target_synset.path_similarity(syn)\n",
    "        if similarity and similarity > max_similarity:\n",
    "            print(lemma.name())\n",
    "            max_similarity = similarity\n",
    "            closest_word = lemma.name()\n",
    "\n",
    "print(f\"Closest word to '{word}': {closest_word}\")\n"
   ]
  },
  {
   "cell_type": "code",
   "execution_count": null,
   "metadata": {},
   "outputs": [],
   "source": []
  }
 ],
 "metadata": {
  "kernelspec": {
   "display_name": "Python 3",
   "language": "python",
   "name": "python3"
  },
  "language_info": {
   "codemirror_mode": {
    "name": "ipython",
    "version": 3
   },
   "file_extension": ".py",
   "mimetype": "text/x-python",
   "name": "python",
   "nbconvert_exporter": "python",
   "pygments_lexer": "ipython3",
   "version": "3.8.5"
  }
 },
 "nbformat": 4,
 "nbformat_minor": 4
}
